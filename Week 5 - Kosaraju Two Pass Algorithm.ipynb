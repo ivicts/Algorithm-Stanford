{
 "cells": [
  {
   "cell_type": "code",
   "execution_count": 28,
   "metadata": {
    "collapsed": true
   },
   "outputs": [],
   "source": [
    "import time\n",
    "from collections import Counter"
   ]
  },
  {
   "cell_type": "markdown",
   "metadata": {},
   "source": [
    "The file contains the edges of a directed graph. Vertices are labeled as positive integers from 1 to 875714. Every row indicates an edge, the vertex label in first column is the tail and the vertex label in second column is the head (recall the graph is directed, and the edges are directed from the first column vertex to the second column vertex). So for example, the 11th row looks liks : \"2 47646\". This just means that the vertex with label 2 has an outgoing edge to the vertex with label 47646\n",
    "\n",
    "Your task is to code up the algorithm from the video lectures for computing strongly connected components (SCCs), and to run this algorithm on the given graph.\n",
    "\n",
    "Output Format: You should output the sizes of the 5 largest SCCs in the given graph, in decreasing order of sizes, separated by commas (avoid any spaces). So if your algorithm computes the sizes of the five largest SCCs to be 500, 400, 300, 200 and 100, then your answer should be \"500,400,300,200,100\" (without the quotes). If your algorithm finds less than 5 SCCs, then write 0 for the remaining terms. Thus, if your algorithm computes only 3 SCCs whose sizes are 400, 300, and 100, then your answer should be \"400,300,100,0,0\" (without the quotes). (Note also that your answer should not have any spaces in it.)\n",
    "\n",
    "WARNING: This is the most challenging programming assignment of the course. Because of the size of the graph you may have to manage memory carefully. The best way to do this depends on your programming language and environment, and we strongly suggest that you exchange tips for doing this on the discussion forums.\n"
   ]
  },
  {
   "cell_type": "code",
   "execution_count": 114,
   "metadata": {
    "collapsed": true
   },
   "outputs": [],
   "source": [
    "def read_input(filename):\n",
    "    with open('week5_file/'+filename) as f:\n",
    "        G = {}\n",
    "        G_rev = {}\n",
    "        maximum = 0\n",
    "        for line in f:\n",
    "            line = line.split() # to deal with blank \n",
    "            if line:            # lines (ie skip them)\n",
    "                line = [int(i) for i in line]\n",
    "                max_line = max(line)\n",
    "                if maximum < max_line:\n",
    "                    maximum = max_line\n",
    "                u = line[0]\n",
    "                v = line[1]\n",
    "                if G.get(u) == None:\n",
    "                    G[u] = [(u,v)]\n",
    "                else:\n",
    "                    G[u].append((u,v))\n",
    "                if G_rev.get(v) == None:\n",
    "                    G_rev[v] = [(v,u)]\n",
    "                else:\n",
    "                    G_rev[v].append((v,u))\n",
    "    return G,G_rev,maximum"
   ]
  },
  {
   "cell_type": "code",
   "execution_count": 72,
   "metadata": {},
   "outputs": [],
   "source": [
    "class Graph:\n",
    "        \n",
    "    def __init__(self,n,graph_dict=None):\n",
    "        if graph_dict == None:\n",
    "            graph_dict = {}\n",
    "        self.graph_dict = graph_dict\n",
    "        self.length = n\n",
    "        self.explored = [0]*(self.length+1)\n",
    "        self.leader = [0]*(self.length+1)\n",
    "        self.finishing_time = [0]*(self.length+1)"
   ]
  },
  {
   "cell_type": "code",
   "execution_count": 73,
   "metadata": {},
   "outputs": [],
   "source": [
    "def DFS_loop(G):\n",
    "    global t\n",
    "    global s\n",
    "    t = 0\n",
    "    s = None\n",
    "    n = G.length\n",
    "    for i in range(n,0,-1):\n",
    "        if G.explored[i] == False:\n",
    "            s = i\n",
    "            DFS(G,i)"
   ]
  },
  {
   "cell_type": "code",
   "execution_count": 96,
   "metadata": {
    "collapsed": true
   },
   "outputs": [],
   "source": [
    "def DFS(G,i):\n",
    "    global t\n",
    "    global s\n",
    "    stack = [i]\n",
    "    stack2 = [] #to keep track of the finishing time for iterative dfs\n",
    "    while len(stack):\n",
    "        v = stack.pop()\n",
    "        if G.explored[v] == False:\n",
    "            G.explored[v] = True\n",
    "            G.leader[v] = s\n",
    "            stack2.append(v)\n",
    "            if G.graph_dict.get(v) != None:\n",
    "                for (v,w) in G.graph_dict[v]:\n",
    "                    if G.explored[w] == False:\n",
    "                        stack.append(w)            \n",
    "    for i in reversed(stack2):\n",
    "        t += 1\n",
    "        G.finishing_time[i] = t"
   ]
  },
  {
   "cell_type": "code",
   "execution_count": 120,
   "metadata": {
    "collapsed": true
   },
   "outputs": [],
   "source": [
    "def kosaraju_two_pass_algorithm(filename):\n",
    "    G_dict, G_rev_dict,n = read_input(filename)\n",
    "    G_rev = Graph(n,G_rev_dict)\n",
    "    DFS_loop(G_rev)\n",
    "    G_new_dict = {}\n",
    "    for k,v in G_dict.items():\n",
    "        new_k = G_rev.finishing_time[k]\n",
    "        new_v = [(G_rev.finishing_time[i],G_rev.finishing_time[j]) for (i,j) in v]\n",
    "        G_new_dict[new_k] = new_v\n",
    "    G_new = Graph(n,G_new_dict)\n",
    "    DFS_loop(G_new)\n",
    "    del G_new.leader[0]\n",
    "    return Counter(G_new.leader).most_common(5)\n",
    "    "
   ]
  },
  {
   "cell_type": "code",
   "execution_count": 118,
   "metadata": {},
   "outputs": [
    {
     "name": "stdout",
     "output_type": "stream",
     "text": [
      "--- 0.00011420249938964844 seconds ---\n",
      "[(6, 3), (4, 3), (9, 3)]\n",
      "--- 0.0010159015655517578 seconds ---\n"
     ]
    }
   ],
   "source": [
    "start_time = time.time()\n",
    "counter = kosaraju_two_pass_algorithm('week5_test1.txt') #3,3,3,0,0\n",
    "print(counter)\n",
    "print(\"--- %s seconds ---\" % (time.time() - start_time))"
   ]
  },
  {
   "cell_type": "code",
   "execution_count": 99,
   "metadata": {},
   "outputs": [
    {
     "name": "stdout",
     "output_type": "stream",
     "text": [
      "[(3, 3), (6, 3), (8, 2)]\n",
      "--- 0.0018489360809326172 seconds ---\n"
     ]
    }
   ],
   "source": [
    "start_time = time.time()\n",
    "counter = kosaraju_two_pass_algorithm('week5_test2.txt') #3,3,2,0,0\n",
    "print(counter)\n",
    "print(\"--- %s seconds ---\" % (time.time() - start_time))"
   ]
  },
  {
   "cell_type": "code",
   "execution_count": 100,
   "metadata": {},
   "outputs": [
    {
     "name": "stdout",
     "output_type": "stream",
     "text": [
      "[(3, 3), (7, 3), (4, 1), (8, 1)]\n",
      "--- 0.009563922882080078 seconds ---\n"
     ]
    }
   ],
   "source": [
    "start_time = time.time()\n",
    "counter = kosaraju_two_pass_algorithm('week5_test3.txt') #3,3,1,1,0\n",
    "print(counter)\n",
    "print(\"--- %s seconds ---\" % (time.time() - start_time))"
   ]
  },
  {
   "cell_type": "code",
   "execution_count": 101,
   "metadata": {},
   "outputs": [
    {
     "name": "stdout",
     "output_type": "stream",
     "text": [
      "[(8, 7), (4, 1)]\n",
      "--- 0.009480953216552734 seconds ---\n"
     ]
    }
   ],
   "source": [
    "start_time = time.time()\n",
    "counter = kosaraju_two_pass_algorithm('week5_test4.txt') #7,1,0,0,0\n",
    "print(counter)\n",
    "print(\"--- %s seconds ---\" % (time.time() - start_time))"
   ]
  },
  {
   "cell_type": "code",
   "execution_count": 102,
   "metadata": {},
   "outputs": [
    {
     "name": "stdout",
     "output_type": "stream",
     "text": [
      "[(12, 6), (5, 3), (6, 2), (2, 1)]\n",
      "--- 0.008955001831054688 seconds ---\n"
     ]
    }
   ],
   "source": [
    "start_time = time.time()\n",
    "counter = kosaraju_two_pass_algorithm('week5_test5.txt') #6,3,2,1,0\n",
    "print(counter)\n",
    "print(\"--- %s seconds ---\" % (time.time() - start_time))"
   ]
  },
  {
   "cell_type": "code",
   "execution_count": 116,
   "metadata": {},
   "outputs": [
    {
     "name": "stdout",
     "output_type": "stream",
     "text": [
      "--- 26.087324142456055 seconds ---\n"
     ]
    }
   ],
   "source": [
    "start_time = time.time()\n",
    "read_input('week5.txt')\n",
    "print(\"--- %s seconds ---\" % (time.time() - start_time))"
   ]
  },
  {
   "cell_type": "code",
   "execution_count": 121,
   "metadata": {},
   "outputs": [
    {
     "name": "stdout",
     "output_type": "stream",
     "text": [
      "[(615986, 434821), (617403, 968), (798411, 459), (161539, 313), (709991, 211)]\n",
      "--- 45.513864040374756 seconds ---\n"
     ]
    }
   ],
   "source": [
    "start_time = time.time()\n",
    "counter = kosaraju_two_pass_algorithm('week5.txt') #434821,968,459,313,211\n",
    "print(counter)\n",
    "print(\"--- %s seconds ---\" % (time.time() - start_time))"
   ]
  }
 ],
 "metadata": {
  "kernelspec": {
   "display_name": "Python 3",
   "language": "python",
   "name": "python3"
  },
  "language_info": {
   "codemirror_mode": {
    "name": "ipython",
    "version": 3
   },
   "file_extension": ".py",
   "mimetype": "text/x-python",
   "name": "python",
   "nbconvert_exporter": "python",
   "pygments_lexer": "ipython3",
   "version": "3.6.3"
  }
 },
 "nbformat": 4,
 "nbformat_minor": 2
}
