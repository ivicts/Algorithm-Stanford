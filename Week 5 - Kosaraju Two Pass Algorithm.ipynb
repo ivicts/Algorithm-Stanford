{
 "cells": [
  {
   "cell_type": "code",
   "execution_count": 5,
   "metadata": {
    "collapsed": true
   },
   "outputs": [],
   "source": [
    "import time\n",
    "from collections import Counter"
   ]
  },
  {
   "cell_type": "markdown",
   "metadata": {},
   "source": [
    "The file contains the edges of a directed graph. Vertices are labeled as positive integers from 1 to 875714. Every row indicates an edge, the vertex label in first column is the tail and the vertex label in second column is the head (recall the graph is directed, and the edges are directed from the first column vertex to the second column vertex). So for example, the 11th row looks liks : \"2 47646\". This just means that the vertex with label 2 has an outgoing edge to the vertex with label 47646\n",
    "\n",
    "Your task is to code up the algorithm from the video lectures for computing strongly connected components (SCCs), and to run this algorithm on the given graph.\n",
    "\n",
    "Output Format: You should output the sizes of the 5 largest SCCs in the given graph, in decreasing order of sizes, separated by commas (avoid any spaces). So if your algorithm computes the sizes of the five largest SCCs to be 500, 400, 300, 200 and 100, then your answer should be \"500,400,300,200,100\" (without the quotes). If your algorithm finds less than 5 SCCs, then write 0 for the remaining terms. Thus, if your algorithm computes only 3 SCCs whose sizes are 400, 300, and 100, then your answer should be \"400,300,100,0,0\" (without the quotes). (Note also that your answer should not have any spaces in it.)\n",
    "\n",
    "WARNING: This is the most challenging programming assignment of the course. Because of the size of the graph you may have to manage memory carefully. The best way to do this depends on your programming language and environment, and we strongly suggest that you exchange tips for doing this on the discussion forums.\n"
   ]
  },
  {
   "cell_type": "code",
   "execution_count": 20,
   "metadata": {
    "collapsed": true
   },
   "outputs": [],
   "source": [
    "def read_input(filename):\n",
    "    with open('week5_file/'+filename) as f:\n",
    "        G = {}\n",
    "        G_rev = {} #G rev = G with all arcs reversed\n",
    "        maximum = 0\n",
    "        for line in f:\n",
    "            line = line.split() # to deal with blank \n",
    "            if line:            # lines (ie skip them)\n",
    "                line = [int(i) for i in line]\n",
    "                max_line = max(line)\n",
    "                if maximum < max_line:\n",
    "                    maximum = max_line\n",
    "                u = line[0]\n",
    "                v = line[1]\n",
    "                if G.get(u) == None:\n",
    "                    G[u] = [(u,v)]\n",
    "                else:\n",
    "                    G[u].append((u,v))\n",
    "                if G_rev.get(v) == None:\n",
    "                    G_rev[v] = [(v,u)]\n",
    "                else:\n",
    "                    G_rev[v].append((v,u))\n",
    "    return G,G_rev,maximum"
   ]
  },
  {
   "cell_type": "code",
   "execution_count": 21,
   "metadata": {
    "collapsed": true
   },
   "outputs": [],
   "source": [
    "class Graph:\n",
    "        \n",
    "    def __init__(self,n,graph_dict=None):\n",
    "        if graph_dict == None:\n",
    "            graph_dict = {}\n",
    "        self.graph_dict = graph_dict\n",
    "        self.length = n\n",
    "        self.explored = [0]*(self.length+1)\n",
    "        self.leader = [0]*(self.length+1)\n",
    "        self.finishing_time = [0]*(self.length+1)"
   ]
  },
  {
   "cell_type": "code",
   "execution_count": 22,
   "metadata": {
    "collapsed": true
   },
   "outputs": [],
   "source": [
    "def DFS_loop(G):\n",
    "    global t #finishing time in first pass, number of nodes processed so far\n",
    "    global s #leaders in second pass\n",
    "    t = 0\n",
    "    s = None\n",
    "    n = G.length\n",
    "    for i in range(n,0,-1):\n",
    "        if G.explored[i] == False: #if not yet explored\n",
    "            s = i\n",
    "            DFS(G,i)"
   ]
  },
  {
   "cell_type": "code",
   "execution_count": 23,
   "metadata": {
    "collapsed": true
   },
   "outputs": [],
   "source": [
    "def DFS(G,i):\n",
    "    global t\n",
    "    global s\n",
    "    stack = [i]\n",
    "    stack2 = [] #to keep track of the finishing time for iterative dfs\n",
    "    while len(stack):\n",
    "        v = stack.pop()\n",
    "        if G.explored[v] == False:\n",
    "            G.explored[v] = True\n",
    "            G.leader[v] = s\n",
    "            stack2.append(v)\n",
    "            if G.graph_dict.get(v) != None:\n",
    "                for (v,w) in G.graph_dict[v]:\n",
    "                    if G.explored[w] == False:\n",
    "                        stack.append(w)            \n",
    "    for i in reversed(stack2):\n",
    "        t += 1\n",
    "        G.finishing_time[i] = t"
   ]
  },
  {
   "cell_type": "code",
   "execution_count": 24,
   "metadata": {
    "collapsed": true
   },
   "outputs": [],
   "source": [
    "def kosaraju_two_pass_algorithm(filename):\n",
    "    G_dict, G_rev_dict,n = read_input(filename)\n",
    "    G_rev = Graph(n,G_rev_dict)\n",
    "    \n",
    "    #Run DFS loop on G_rev to compute \"magical ordering\" of nodes\n",
    "    DFS_loop(G_rev)\n",
    "    G_new_dict = {}\n",
    "    \n",
    "    #Processing nodes in decreasing order of finishing times\n",
    "    for k,v in G_dict.items():\n",
    "        new_k = G_rev.finishing_time[k]\n",
    "        new_v = [(G_rev.finishing_time[i],G_rev.finishing_time[j]) for (i,j) in v]\n",
    "        G_new_dict[new_k] = new_v\n",
    "    G_new = Graph(n,G_new_dict)\n",
    "    \n",
    "    #Run DFS loop on G to dicover the SCC one by one\n",
    "    DFS_loop(G_new)\n",
    "    del G_new.leader[0]\n",
    "    return Counter(G_new.leader).most_common(5)\n",
    "    "
   ]
  },
  {
   "cell_type": "code",
   "execution_count": 25,
   "metadata": {},
   "outputs": [
    {
     "name": "stdout",
     "output_type": "stream",
     "text": [
      "[(6, 3), (4, 3), (9, 3)]\n",
      "--- 0.01040196418762207 seconds ---\n"
     ]
    }
   ],
   "source": [
    "start_time = time.time()\n",
    "counter = kosaraju_two_pass_algorithm('week5_test1.txt') #3,3,3,0,0\n",
    "print(counter)\n",
    "print(\"--- %s seconds ---\" % (time.time() - start_time))"
   ]
  },
  {
   "cell_type": "code",
   "execution_count": 26,
   "metadata": {},
   "outputs": [
    {
     "name": "stdout",
     "output_type": "stream",
     "text": [
      "[(3, 3), (6, 3), (8, 2)]\n",
      "--- 0.0052318572998046875 seconds ---\n"
     ]
    }
   ],
   "source": [
    "start_time = time.time()\n",
    "counter = kosaraju_two_pass_algorithm('week5_test2.txt') #3,3,2,0,0\n",
    "print(counter)\n",
    "print(\"--- %s seconds ---\" % (time.time() - start_time))"
   ]
  },
  {
   "cell_type": "code",
   "execution_count": 27,
   "metadata": {},
   "outputs": [
    {
     "name": "stdout",
     "output_type": "stream",
     "text": [
      "[(3, 3), (7, 3), (4, 1), (8, 1)]\n",
      "--- 0.0021820068359375 seconds ---\n"
     ]
    }
   ],
   "source": [
    "start_time = time.time()\n",
    "counter = kosaraju_two_pass_algorithm('week5_test3.txt') #3,3,1,1,0\n",
    "print(counter)\n",
    "print(\"--- %s seconds ---\" % (time.time() - start_time))"
   ]
  },
  {
   "cell_type": "code",
   "execution_count": 28,
   "metadata": {},
   "outputs": [
    {
     "name": "stdout",
     "output_type": "stream",
     "text": [
      "[(8, 7), (4, 1)]\n",
      "--- 0.0020029544830322266 seconds ---\n"
     ]
    }
   ],
   "source": [
    "start_time = time.time()\n",
    "counter = kosaraju_two_pass_algorithm('week5_test4.txt') #7,1,0,0,0\n",
    "print(counter)\n",
    "print(\"--- %s seconds ---\" % (time.time() - start_time))"
   ]
  },
  {
   "cell_type": "code",
   "execution_count": 29,
   "metadata": {},
   "outputs": [
    {
     "name": "stdout",
     "output_type": "stream",
     "text": [
      "[(12, 6), (5, 3), (6, 2), (2, 1)]\n",
      "--- 0.009901046752929688 seconds ---\n"
     ]
    }
   ],
   "source": [
    "start_time = time.time()\n",
    "counter = kosaraju_two_pass_algorithm('week5_test5.txt') #6,3,2,1,0\n",
    "print(counter)\n",
    "print(\"--- %s seconds ---\" % (time.time() - start_time))"
   ]
  },
  {
   "cell_type": "code",
   "execution_count": 16,
   "metadata": {},
   "outputs": [
    {
     "name": "stdout",
     "output_type": "stream",
     "text": [
      "--- 28.60492181777954 seconds ---\n"
     ]
    }
   ],
   "source": [
    "start_time = time.time()\n",
    "read_input('week5.txt')\n",
    "print(\"--- %s seconds ---\" % (time.time() - start_time))"
   ]
  },
  {
   "cell_type": "code",
   "execution_count": 30,
   "metadata": {},
   "outputs": [
    {
     "name": "stdout",
     "output_type": "stream",
     "text": [
      "[(615986, 434821), (617403, 968), (798411, 459), (161539, 313), (709991, 211)]\n",
      "--- 47.82071900367737 seconds ---\n"
     ]
    }
   ],
   "source": [
    "start_time = time.time()\n",
    "counter = kosaraju_two_pass_algorithm('week5.txt') #434821,968,459,313,211\n",
    "print(counter)\n",
    "print(\"--- %s seconds ---\" % (time.time() - start_time))"
   ]
  },
  {
   "cell_type": "code",
   "execution_count": null,
   "metadata": {
    "collapsed": true
   },
   "outputs": [],
   "source": []
  }
 ],
 "metadata": {
  "kernelspec": {
   "display_name": "Python 3",
   "language": "python",
   "name": "python3"
  },
  "language_info": {
   "codemirror_mode": {
    "name": "ipython",
    "version": 3
   },
   "file_extension": ".py",
   "mimetype": "text/x-python",
   "name": "python",
   "nbconvert_exporter": "python",
   "pygments_lexer": "ipython3",
   "version": "3.6.3"
  }
 },
 "nbformat": 4,
 "nbformat_minor": 2
}
