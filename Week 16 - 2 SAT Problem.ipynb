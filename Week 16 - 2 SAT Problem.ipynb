{
 "cells": [
  {
   "cell_type": "code",
   "execution_count": 714,
   "metadata": {
    "collapsed": true
   },
   "outputs": [],
   "source": [
    "import time\n",
    "from collections import Counter"
   ]
  },
  {
   "cell_type": "markdown",
   "metadata": {},
   "source": [
    "In this assignment you will implement one or more algorithms for the 2SAT problem. Here are 6 different 2SAT instances.\n",
    "\n",
    "The file format is as follows. In each instance, the number of variables and the number of clauses is the same, and this number is specified on the first line of the file. Each subsequent line specifies a clause via its two literals, with a number denoting the variable and a \"-\" sign denoting logical \"not\". For example, the second line of the first data file is \"-16808 75250\", which indicates the clause $¬x_{16808} ∨ x_{75250}$.\n",
    "\n",
    "Your task is to determine which of the 6 instances are satisfiable, and which are unsatisfiable. In the box below, enter a 6-bit string, where the ith bit should be 1 if the ith instance is satisfiable, and 0 otherwise. For example, if you think that the first 3 instances are satisfiable and the last 3 are not, then you should enter the string 111000 in the box below.\n",
    "\n",
    "DISCUSSION: This assignment is deliberately open-ended, and you can implement whichever 2SAT algorithm you want. For example, 2SAT reduces to computing the strongly connected components of a suitable graph (with two vertices per variable and two directed edges per clause, you should think through the details). This might be an especially attractive option for those of you who coded up an SCC algorithm in Part 2 of this specialization. Alternatively, you can use Papadimitriou's randomized local search algorithm. (The algorithm from lecture is probably too slow as stated, so you might want to make one or more simple modifications to it --- even if this means breaking the analysis given in lecture --- to ensure that it runs in a reasonable amount of time.) A third approach is via backtracking. In lecture we mentioned this approach only in passing; see Chapter 9 of the Dasgupta-Papadimitriou-Vazirani book, for example, for more details."
   ]
  },
  {
   "cell_type": "code",
   "execution_count": 715,
   "metadata": {
    "collapsed": true
   },
   "outputs": [],
   "source": [
    "def complement_index(u,v,num_var):\n",
    "    \"\"\"If index is negative, -x maps it to x+num_var for indexing purpose. Calculate the complements and also\n",
    "    map it for indexing purpose\"\"\"\n",
    "    if u>0 and v>0:\n",
    "        u_c = u + num_var\n",
    "        v_c = v + num_var\n",
    "    elif u>0 and v<0:\n",
    "        u_c = u+num_var\n",
    "        v_c = -v\n",
    "        v = -v + num_var        \n",
    "    elif u<0 and v>0:\n",
    "        v_c = v+num_var\n",
    "        u_c = -u\n",
    "        u = -u + num_var\n",
    "    elif u<0 and v<0:\n",
    "        u_c = -u\n",
    "        u = -u + num_var\n",
    "        v_c = -v\n",
    "        v = -v + num_var \n",
    "    return u,v,u_c,v_c"
   ]
  },
  {
   "cell_type": "code",
   "execution_count": 716,
   "metadata": {
    "collapsed": true
   },
   "outputs": [],
   "source": [
    "def read_input(filename):\n",
    "    with open('week16_file/'+filename) as f:\n",
    "        first = True\n",
    "        orig_G = []\n",
    "        G = {}\n",
    "        G_rev = {} #G rev = G with all arcs reversed\n",
    "        for line in f:\n",
    "            line = line.split() # to deal with blank \n",
    "            if line:            # lines (ie skip them)\n",
    "                if not first:\n",
    "                    u = int(line[0])\n",
    "                    v = int(line[1])\n",
    "                    u,v,u_c,v_c = complement_index(u,v,num_var)\n",
    "                    \n",
    "                    #Create implication graph x1 v x2 equals to -x1 -> x2 and -x2 -> x1\n",
    "                    if u_c not in G:\n",
    "                        G[u_c] = [(u_c,v)]\n",
    "                    else:\n",
    "                        G[u_c].append((u_c,v))\n",
    "                    \n",
    "                    if v_c not in G:\n",
    "                        G[v_c] = [(v_c,u)]\n",
    "                    else:\n",
    "                        G[v_c].append((v_c,u))\n",
    "                    \n",
    "                    if v not in G_rev:\n",
    "                        G_rev[v] = [(v,u_c)]\n",
    "                    else:\n",
    "                        G_rev[v].append((v,u_c))\n",
    "                        \n",
    "                    if u not in G_rev:\n",
    "                        G_rev[u] = [(u,v_c)]\n",
    "                    else:\n",
    "                        G_rev[u].append((u,v_c))\n",
    "                else:\n",
    "                    num_var = int(line[0])\n",
    "                    first = False\n",
    "    return G,G_rev,num_var"
   ]
  },
  {
   "cell_type": "code",
   "execution_count": 717,
   "metadata": {
    "collapsed": true
   },
   "outputs": [],
   "source": [
    "class Graph:\n",
    "        \n",
    "    def __init__(self,n,graph_dict=None):\n",
    "        if graph_dict == None:\n",
    "            graph_dict = {}\n",
    "        self.graph_dict = graph_dict\n",
    "        self.length = n\n",
    "        self.explored = [0]*(self.length+1)\n",
    "        self.leader = [0]*(self.length+1)\n",
    "        self.finishing_time = [0]*(self.length+1)"
   ]
  },
  {
   "cell_type": "code",
   "execution_count": 718,
   "metadata": {},
   "outputs": [],
   "source": [
    "def DFS_loop(G):\n",
    "    global t #finishing time in first pass, number of nodes processed so far\n",
    "    global s #leaders in second pass\n",
    "    t = 0\n",
    "    s = None\n",
    "    n = G.length\n",
    "    for i in range(n,0,-1):\n",
    "        if G.explored[i] == False: #if not yet explored\n",
    "            s = i\n",
    "            DFS(G,i)"
   ]
  },
  {
   "cell_type": "code",
   "execution_count": 719,
   "metadata": {
    "collapsed": true
   },
   "outputs": [],
   "source": [
    "def DFS(G,i):\n",
    "    global t\n",
    "    global s\n",
    "    stack = [i]\n",
    "    stack2 = [] #to keep track of the finishing time for iterative dfs\n",
    "    while len(stack):\n",
    "        v = stack.pop()\n",
    "        if G.explored[v] == False:\n",
    "            G.explored[v] = True\n",
    "            G.leader[v] = s\n",
    "            stack2.append(v)\n",
    "            if G.graph_dict.get(v) != None:\n",
    "                for (v,w) in G.graph_dict[v]:\n",
    "                    if G.explored[w] == False:\n",
    "                        stack.append(w)            \n",
    "    for i in reversed(stack2):\n",
    "        t += 1\n",
    "        G.finishing_time[i] = t"
   ]
  },
  {
   "cell_type": "code",
   "execution_count": 720,
   "metadata": {},
   "outputs": [],
   "source": [
    "def two_SAT_SCC(filename):\n",
    "    G_dict,G_rev_dict,num_var = read_input(filename)\n",
    "    n = 2*num_var\n",
    "    G_rev = Graph(n,G_rev_dict)\n",
    "    \n",
    "    #Run DFS loop on G_rev to compute \"magical ordering\" of nodes\n",
    "    DFS_loop(G_rev)\n",
    "    G_new_dict = {}\n",
    "    \n",
    "    #Processing nodes in decreasing order of finishing times\n",
    "    for k,v in G_dict.items():\n",
    "        new_k = G_rev.finishing_time[k]\n",
    "        new_v = [(G_rev.finishing_time[i],G_rev.finishing_time[j]) for (i,j) in v]\n",
    "        G_new_dict[new_k] = new_v\n",
    "    G_new = Graph(n,G_new_dict)\n",
    "    \n",
    "    #Run DFS loop on G to discover the SCC one by one\n",
    "    DFS_loop(G_new)\n",
    "\n",
    "    for i in range(num_var):\n",
    "        #Convert the indexing back to the original graph indexing\n",
    "        #Check if it is on the same SCC by comparing its leader\n",
    "        if G_new.leader[G_rev.finishing_time[i]] == G_new.leader[G_rev.finishing_time[i+num_var]]:\n",
    "            return False\n",
    "    return True\n",
    "    "
   ]
  },
  {
   "cell_type": "code",
   "execution_count": 721,
   "metadata": {},
   "outputs": [
    {
     "name": "stdout",
     "output_type": "stream",
     "text": [
      "False\n",
      "--- 0.009557962417602539 seconds ---\n",
      "True\n",
      "--- 0.0014472007751464844 seconds ---\n",
      "True\n",
      "--- 0.0011589527130126953 seconds ---\n",
      "True\n",
      "--- 0.0011069774627685547 seconds ---\n",
      "False\n",
      "--- 0.0011990070343017578 seconds ---\n"
     ]
    }
   ],
   "source": [
    "start_time = time.time()\n",
    "print(two_SAT_SCC('week16_test1.txt')) #False\n",
    "print(\"--- %s seconds ---\" % (time.time() - start_time))\n",
    "start_time = time.time()\n",
    "print(two_SAT_SCC('week16_test2.txt')) #True\n",
    "print(\"--- %s seconds ---\" % (time.time() - start_time))\n",
    "start_time = time.time()\n",
    "print(two_SAT_SCC('week16_test3.txt')) #True\n",
    "print(\"--- %s seconds ---\" % (time.time() - start_time))\n",
    "start_time = time.time()\n",
    "print(two_SAT_SCC('week16_test4.txt')) #True\n",
    "print(\"--- %s seconds ---\" % (time.time() - start_time))\n",
    "start_time = time.time()\n",
    "print(two_SAT_SCC('week16_test5.txt')) #False\n",
    "print(\"--- %s seconds ---\" % (time.time() - start_time))"
   ]
  },
  {
   "cell_type": "code",
   "execution_count": 722,
   "metadata": {},
   "outputs": [
    {
     "name": "stdout",
     "output_type": "stream",
     "text": [
      "False\n",
      "--- 2.1071982383728027 seconds ---\n",
      "True\n",
      "--- 2.7855238914489746 seconds ---\n",
      "False\n",
      "--- 2.8174281120300293 seconds ---\n"
     ]
    }
   ],
   "source": [
    "start_time = time.time()\n",
    "print(two_SAT_SCC('week16_test6.txt')) #False\n",
    "print(\"--- %s seconds ---\" % (time.time() - start_time))\n",
    "start_time = time.time()\n",
    "print(two_SAT_SCC('week16_test7.txt')) #True\n",
    "print(\"--- %s seconds ---\" % (time.time() - start_time))\n",
    "start_time = time.time()\n",
    "print(two_SAT_SCC('week16_test8.txt')) #False\n",
    "print(\"--- %s seconds ---\" % (time.time() - start_time))"
   ]
  },
  {
   "cell_type": "code",
   "execution_count": 711,
   "metadata": {},
   "outputs": [
    {
     "name": "stdout",
     "output_type": "stream",
     "text": [
      "True\n",
      "--- 3.237689733505249 seconds ---\n",
      "False\n",
      "--- 5.61759877204895 seconds ---\n",
      "True\n",
      "--- 13.267502069473267 seconds ---\n"
     ]
    }
   ],
   "source": [
    "start_time = time.time()\n",
    "print(two_SAT_SCC('week16_1.txt')) #True\n",
    "print(\"--- %s seconds ---\" % (time.time() - start_time))\n",
    "start_time = time.time()\n",
    "print(two_SAT_SCC('week16_2.txt')) #False\n",
    "print(\"--- %s seconds ---\" % (time.time() - start_time))\n",
    "start_time = time.time()\n",
    "print(two_SAT_SCC('week16_3.txt')) #True\n",
    "print(\"--- %s seconds ---\" % (time.time() - start_time))"
   ]
  },
  {
   "cell_type": "code",
   "execution_count": 712,
   "metadata": {},
   "outputs": [
    {
     "name": "stdout",
     "output_type": "stream",
     "text": [
      "True\n",
      "--- 19.589258909225464 seconds ---\n",
      "False\n",
      "--- 24.889580011367798 seconds ---\n",
      "False\n",
      "--- 30.36001682281494 seconds ---\n"
     ]
    }
   ],
   "source": [
    "start_time = time.time()\n",
    "print(two_SAT_SCC('week16_4.txt')) #True\n",
    "print(\"--- %s seconds ---\" % (time.time() - start_time))\n",
    "start_time = time.time()\n",
    "print(two_SAT_SCC('week16_5.txt')) #False\n",
    "print(\"--- %s seconds ---\" % (time.time() - start_time))\n",
    "start_time = time.time()\n",
    "print(two_SAT_SCC('week16_6.txt')) #False\n",
    "print(\"--- %s seconds ---\" % (time.time() - start_time))"
   ]
  }
 ],
 "metadata": {
  "kernelspec": {
   "display_name": "Python 3",
   "language": "python",
   "name": "python3"
  },
  "language_info": {
   "codemirror_mode": {
    "name": "ipython",
    "version": 3
   },
   "file_extension": ".py",
   "mimetype": "text/x-python",
   "name": "python",
   "nbconvert_exporter": "python",
   "pygments_lexer": "ipython3",
   "version": "3.6.3"
  }
 },
 "nbformat": 4,
 "nbformat_minor": 2
}
