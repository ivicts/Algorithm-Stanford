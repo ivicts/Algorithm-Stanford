{
 "cells": [
  {
   "cell_type": "code",
   "execution_count": 1,
   "metadata": {
    "collapsed": true
   },
   "outputs": [],
   "source": [
    "import time\n",
    "import numpy as np\n",
    "import math\n",
    "from copy import deepcopy"
   ]
  },
  {
   "cell_type": "markdown",
   "metadata": {
    "collapsed": true
   },
   "source": [
    "The file contains all of the integers between 1 and 10,000 (inclusive, with no repeats) in unsorted order. The integer in the ith row of the file gives you the ith entry of an input array.\n",
    "\n",
    "Your task is to compute the total number of comparisons used to sort the given input file by QuickSort. As you know, the number of comparisons depends on which elements are chosen as pivots, so we'll ask you to explore three different pivoting rules.\n",
    "\n",
    "You should not count comparisons one-by-one. Rather, when there is a recursive call on a subarray of length m, you should simply add m−1 to your running total of comparisons. (This is because the pivot element is compared to each of the other m−1 elements in the subarray in this recursive call.)\n",
    "\n",
    "WARNING: The Partition subroutine can be implemented in several different ways, and different implementations can give you differing numbers of comparisons. For this problem, you should implement the Partition subroutine exactly as it is described in the video lectures (otherwise you might get the wrong answer).\n",
    "\n",
    "DIRECTIONS FOR THIS PROBLEM:\n",
    "\n",
    "1. For the first part of the programming assignment, you should always use the first element of the array as the pivot element.\n",
    "\n",
    "2. Compute the number of comparisons (as in Problem 1), always using the final element of the given array as the pivot element. Again, be sure to implement the Partition subroutine exactly as it is described in the video lectures.\n",
    "Recall from the lectures that, just before the main Partition subroutine, you should exchange the pivot element (i.e., the last element) with the first element.\n",
    "\n",
    "3. Compute the number of comparisons (as in Problem 1), using the \"median-of-three\" pivot rule. [The primary motivation behind this rule is to do a little bit of extra work to get much better performance on input arrays that are nearly sorted or reverse sorted.] In more detail, you should choose the pivot as follows. Consider the first, middle, and final elements of the given array. (If the array has odd length it should be clear what the \"middle\" element is; for an array with even length 2k, use the kth element as the \"middle\" element. So for the array 4 5 6 7, the \"middle\" element is the second one ---- 5 and not 6!) Identify which of these three elements is the median (i.e., the one whose value is in between the other two), and use this as your pivot. As discussed in the first and second parts of this programming assignment, be sure to implement Partition exactly as described in the video lectures (including exchanging the pivot element with the first element just before the main Partition subroutine).\n",
    "EXAMPLE: For the input array 8 2 4 5 7 1 you would consider the first (8), middle (4), and last (1) elements; since 4 is the median of the set {1,4,8}, you would use 4 as your pivot element.\n",
    "SUBTLE POINT: A careful analysis would keep track of the comparisons made in identifying the median of the three candidate elements. You should NOT do this. That is, as in the previous two problems, you should simply add m−1 to your running total of comparisons every time you recurse on a subarray with length m.\n",
    "\n",
    "Be careful, after passing the array, the original's array element changed."
   ]
  },
  {
   "cell_type": "code",
   "execution_count": 62,
   "metadata": {
    "collapsed": true
   },
   "outputs": [],
   "source": [
    "def ChoosePivot(array,num):\n",
    "    n = len(array)\n",
    "    if num == 1:\n",
    "        return 0\n",
    "    elif num == 2:\n",
    "        return n-1\n",
    "    #Median of three\n",
    "    elif num ==3: \n",
    "        first_element = array[0]\n",
    "        final_element = array[n-1]\n",
    "        middle_element = array[math.ceil(n/2)-1]\n",
    "        \n",
    "        if n == 2: #2\n",
    "            if first_element < final_element:\n",
    "                return 0\n",
    "            else:\n",
    "                return 1\n",
    "        else:\n",
    "        #Median of the three\n",
    "            if (final_element < first_element < middle_element) or (middle_element < first_element < final_element):\n",
    "                return 0\n",
    "            elif (first_element < middle_element < final_element) or (final_element < middle_element < first_element):\n",
    "                return math.ceil(n/2)-1\n",
    "            elif (middle_element < final_element < first_element) or (first_element < final_element < middle_element):\n",
    "                return n-1"
   ]
  },
  {
   "cell_type": "code",
   "execution_count": 63,
   "metadata": {
    "collapsed": true
   },
   "outputs": [],
   "source": [
    "def partition (array,index_p):\n",
    "    '''Partition array around a pivot element. Rearrange array so that left of pivot is less than pivot and right \n",
    "    of pivot is greater than pivot. Invariant: everything looked at so far is partitioned.'''\n",
    "    \n",
    "    #Swap pivot to the 1st element of the array\n",
    "    p = array[index_p]\n",
    "    array[index_p] = array[0]\n",
    "    array[0] = p\n",
    "\n",
    "    #Main partition subroutine\n",
    "    i = 1\n",
    "    for j in range (1,len(array)):\n",
    "    #if the number less than pivot swap it before the index i, so that it becomes left part of the array and less than pivot\n",
    "    #if the number higher than pivot, do nothing\n",
    "        if array[j] < p:\n",
    "            array[i], array[j] = array[j], array[i]\n",
    "            i = i+1\n",
    "    \n",
    "    #Make the pivot into its rightful position\n",
    "    array[0],array[i-1] = array[i-1],array[0]\n",
    "    return array, i-1\n",
    "    "
   ]
  },
  {
   "cell_type": "code",
   "execution_count": 64,
   "metadata": {
    "collapsed": true
   },
   "outputs": [],
   "source": [
    "def quick_sort(orig_array,num):\n",
    "    array = orig_array[:]\n",
    "    quick_sort.counter += len(array)-1\n",
    "    n = len(array)\n",
    "    if n == 1:\n",
    "        return array\n",
    "    #Choose pivot p\n",
    "    index_p = ChoosePivot(array,num)\n",
    "    #Partition array around P\n",
    "    array,index_p = partition(array,index_p)\n",
    "    \n",
    "    #Recursively sort the first part (before pivot) and second part (after pivot)\n",
    "    if array[:index_p] != [] and array[index_p+1:] != []:\n",
    "        first_half = quick_sort(array[:index_p],num)\n",
    "        second_half = quick_sort(array[index_p+1:],num)\n",
    "        return first_half + [array[index_p]]+ second_half\n",
    "    elif array[:index_p] == [] and array[index_p+1:] != []:\n",
    "        second_half = quick_sort(array[index_p+1:],num)\n",
    "        return [array[index_p]]+ second_half\n",
    "    elif array[:index_p] != [] and array[index_p+1:] == []:\n",
    "        first_half = quick_sort(array[:index_p],num)\n",
    "        return first_half + [array[index_p]]"
   ]
  },
  {
   "cell_type": "code",
   "execution_count": 65,
   "metadata": {},
   "outputs": [
    {
     "name": "stdout",
     "output_type": "stream",
     "text": [
      "[1, 2, 3, 4, 5, 6]\n",
      "11\n",
      "--- 0.0007691383361816406 seconds ---\n"
     ]
    }
   ],
   "source": [
    "start_time = time.time()\n",
    "quick_sort.counter=0\n",
    "print(quick_sort([1,3,5,2,4,6],1))\n",
    "print(quick_sort.counter) #11\n",
    "print(\"--- %s seconds ---\" % (time.time() - start_time))"
   ]
  },
  {
   "cell_type": "code",
   "execution_count": 66,
   "metadata": {},
   "outputs": [
    {
     "name": "stdout",
     "output_type": "stream",
     "text": [
      "[1, 2, 3, 4, 5]\n",
      "6\n",
      "--- 0.0009107589721679688 seconds ---\n"
     ]
    }
   ],
   "source": [
    "start_time = time.time()\n",
    "quick_sort.counter = 0\n",
    "print(quick_sort([1,5,3,2,4],3))\n",
    "print(quick_sort.counter) #6\n",
    "print(\"--- %s seconds ---\" % (time.time() - start_time))"
   ]
  },
  {
   "cell_type": "code",
   "execution_count": 67,
   "metadata": {},
   "outputs": [
    {
     "name": "stdout",
     "output_type": "stream",
     "text": [
      "10000\n"
     ]
    }
   ],
   "source": [
    "with open(\"week3_file/week3.txt\", \"r\") as f:\n",
    "    ques_arr = [int(line.strip()) for line in f if line.strip().isdigit()]\n",
    "print(len(ques_arr))"
   ]
  },
  {
   "cell_type": "code",
   "execution_count": 68,
   "metadata": {},
   "outputs": [
    {
     "name": "stdout",
     "output_type": "stream",
     "text": [
      "Number of comparison:  25\n",
      "--- 0.0010399818420410156 seconds ---\n",
      "Number of comparison:  31\n",
      "--- 0.0008959770202636719 seconds ---\n",
      "Number of comparison:  21\n",
      "--- 0.00036978721618652344 seconds ---\n"
     ]
    }
   ],
   "source": [
    "start_time = time.time()\n",
    "test = ques_arr[:10]\n",
    "quick_sort.counter = 0\n",
    "sorted_array = quick_sort(test,1)\n",
    "#print('Sorted arrays: ',sorted_array)\n",
    "print('Number of comparison: ',quick_sort.counter) #25\n",
    "print(\"--- %s seconds ---\" % (time.time() - start_time))\n",
    "start_time = time.time()\n",
    "#test = ques_arr[:10]\n",
    "quick_sort.counter = 0\n",
    "sorted_array = quick_sort(test,2)\n",
    "#print('Sorted arrays: ',sorted_array)\n",
    "print('Number of comparison: ',quick_sort.counter) #31\n",
    "print(\"--- %s seconds ---\" % (time.time() - start_time))\n",
    "start_time = time.time()\n",
    "#test = ques_arr[:10]\n",
    "quick_sort.counter = 0\n",
    "sorted_array = quick_sort(test,3)\n",
    "#print('Sorted arrays: ',sorted_array)\n",
    "print('Number of comparison: ',quick_sort.counter)  #21\n",
    "print(\"--- %s seconds ---\" % (time.time() - start_time))"
   ]
  },
  {
   "cell_type": "code",
   "execution_count": 69,
   "metadata": {},
   "outputs": [
    {
     "name": "stdout",
     "output_type": "stream",
     "text": [
      "Number of comparison:  620\n",
      "--- 0.0010530948638916016 seconds ---\n",
      "Number of comparison:  573\n",
      "--- 0.0014231204986572266 seconds ---\n",
      "Number of comparison:  502\n",
      "--- 0.0012078285217285156 seconds ---\n"
     ]
    }
   ],
   "source": [
    "start_time = time.time()\n",
    "test = ques_arr[:100]\n",
    "quick_sort.counter = 0\n",
    "sorted_array = quick_sort(test,1)\n",
    "#print('Sorted arrays: ',sorted_array)\n",
    "print('Number of comparison: ',quick_sort.counter) #620\n",
    "print(\"--- %s seconds ---\" % (time.time() - start_time))\n",
    "start_time = time.time()\n",
    "#test = ques_arr[:100]\n",
    "quick_sort.counter = 0\n",
    "sorted_array = quick_sort(test,2)\n",
    "#print('Sorted arrays: ',sorted_array)\n",
    "print('Number of comparison: ',quick_sort.counter) #573\n",
    "print(\"--- %s seconds ---\" % (time.time() - start_time))\n",
    "start_time = time.time()\n",
    "#test = ques_arr[:100]\n",
    "quick_sort.counter = 0\n",
    "sorted_array = quick_sort(test,3)\n",
    "#print('Sorted arrays: ',sorted_array)\n",
    "print('Number of comparison: ',quick_sort.counter)  #502\n",
    "print(\"--- %s seconds ---\" % (time.time() - start_time))"
   ]
  },
  {
   "cell_type": "code",
   "execution_count": 70,
   "metadata": {},
   "outputs": [
    {
     "name": "stdout",
     "output_type": "stream",
     "text": [
      "Number of comparison:  11175\n",
      "--- 0.00954890251159668 seconds ---\n",
      "Number of comparison:  10957\n",
      "--- 0.0061490535736083984 seconds ---\n",
      "Number of comparison:  9735\n",
      "--- 0.008684873580932617 seconds ---\n"
     ]
    }
   ],
   "source": [
    "start_time = time.time()\n",
    "test = ques_arr[:1000]\n",
    "quick_sort.counter = 0\n",
    "sorted_array = quick_sort(test,1)\n",
    "#print('Sorted arrays: ',sorted_array)\n",
    "print('Number of comparison: ',quick_sort.counter) #11175 \n",
    "print(\"--- %s seconds ---\" % (time.time() - start_time))\n",
    "start_time = time.time()\n",
    "test = ques_arr[:1000]\n",
    "quick_sort.counter = 0\n",
    "sorted_array = quick_sort(test,2)\n",
    "#print('Sorted arrays: ',sorted_array)\n",
    "print('Number of comparison: ',quick_sort.counter) #10957 \n",
    "print(\"--- %s seconds ---\" % (time.time() - start_time))\n",
    "start_time = time.time()\n",
    "test = ques_arr[:1000]\n",
    "quick_sort.counter = 0\n",
    "sorted_array = quick_sort(test,3)\n",
    "#print('Sorted arrays: ',sorted_array)\n",
    "print('Number of comparison: ',quick_sort.counter)  #9735\n",
    "print(\"--- %s seconds ---\" % (time.time() - start_time))"
   ]
  },
  {
   "cell_type": "code",
   "execution_count": 71,
   "metadata": {},
   "outputs": [
    {
     "name": "stdout",
     "output_type": "stream",
     "text": [
      "Number of comparison:  162085\n",
      "--- 0.09326791763305664 seconds ---\n",
      "Number of comparison:  164123\n",
      "--- 0.08128905296325684 seconds ---\n",
      "Number of comparison:  138382\n",
      "--- 0.062458038330078125 seconds ---\n"
     ]
    }
   ],
   "source": [
    "start_time = time.time()\n",
    "test = ques_arr\n",
    "quick_sort.counter = 0\n",
    "sorted_array = quick_sort(test,1)\n",
    "#print('Sorted arrays: ',sorted_array)\n",
    "print('Number of comparison: ',quick_sort.counter) #162085\n",
    "print(\"--- %s seconds ---\" % (time.time() - start_time))\n",
    "start_time = time.time()\n",
    "quick_sort.counter = 0\n",
    "sorted_array = quick_sort(test,2)\n",
    "#print('Sorted arrays: ',sorted_array)\n",
    "print('Number of comparison: ',quick_sort.counter)  #164123\n",
    "print(\"--- %s seconds ---\" % (time.time() - start_time))\n",
    "start_time = time.time()\n",
    "quick_sort.counter = 0\n",
    "sorted_array = quick_sort(test,3)\n",
    "#print('Sorted arrays: ',sorted_array)\n",
    "print('Number of comparison: ',quick_sort.counter)  #138382\n",
    "print(\"--- %s seconds ---\" % (time.time() - start_time))"
   ]
  },
  {
   "cell_type": "code",
   "execution_count": null,
   "metadata": {
    "collapsed": true
   },
   "outputs": [],
   "source": [
    "#More readable but slower ChoosePivot\n",
    "def ChoosePivot(array,num):\n",
    "    n = len(array)\n",
    "    if num == 1:\n",
    "        return 0\n",
    "    elif num == 2:\n",
    "        return n-1\n",
    "    #Median of three\n",
    "    elif num ==3: \n",
    "        first_element = array[0]\n",
    "        last_element = array[n-1]\n",
    "        middle_element = array[math.ceil(n/2)-1]\n",
    "\n",
    "        G = {}\n",
    "        G[first_element] = 0\n",
    "        G[middle_element] = math.ceil(n/2)-1\n",
    "        G[last_element] = n-1\n",
    "        \n",
    "        if n == 2: #2\n",
    "            if first_element < last_element:\n",
    "                return G[first_element]\n",
    "            else:\n",
    "                return G[last_element] #equals to 1 when n==2\n",
    "        else:\n",
    "        #Median of the three\n",
    "            median = np.median([first_element,middle_element,last_element])\n",
    "            return G[median]\n",
    "\n"
   ]
  },
  {
   "cell_type": "code",
   "execution_count": null,
   "metadata": {
    "collapsed": true
   },
   "outputs": [],
   "source": [
    "def ChoosePivot(array,num):\n",
    "    n = len(array)\n",
    "    if num == 1:\n",
    "        return 0\n",
    "    elif num == 2:\n",
    "        return n-1\n",
    "    #Median of three\n",
    "    elif num ==3: \n",
    "        first_element = array[0]\n",
    "        last_element = array[n-1]\n",
    "        middle_element = array[math.ceil(n/2)-1]\n",
    "        index = [0,math.ceil(n/2)-1,n-1]\n",
    "        elements = [first_element,middle_element,last_element]\n",
    "        \n",
    "        \n",
    "        if n == 2: #2\n",
    "            if first_element < last_element:\n",
    "                return 0\n",
    "            else:\n",
    "                return n-1 #equals to 1 when n==2\n",
    "        else:\n",
    "        #Median of the three\n",
    "            median_index = np.argsort(elements)[len(elements)//2]\n",
    "            return index[median_index]\n",
    "\n"
   ]
  }
 ],
 "metadata": {
  "kernelspec": {
   "display_name": "Python 3",
   "language": "python",
   "name": "python3"
  },
  "language_info": {
   "codemirror_mode": {
    "name": "ipython",
    "version": 3
   },
   "file_extension": ".py",
   "mimetype": "text/x-python",
   "name": "python",
   "nbconvert_exporter": "python",
   "pygments_lexer": "ipython3",
   "version": "3.6.3"
  }
 },
 "nbformat": 4,
 "nbformat_minor": 2
}
