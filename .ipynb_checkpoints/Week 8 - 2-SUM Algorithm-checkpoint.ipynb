{
 "cells": [
  {
   "cell_type": "code",
   "execution_count": 8,
   "metadata": {
    "collapsed": true
   },
   "outputs": [],
   "source": [
    "import time\n",
    "import numpy as np\n",
    "import pandas as pd\n",
    "import bisect"
   ]
  },
  {
   "cell_type": "markdown",
   "metadata": {},
   "source": [
    "The goal of this problem is to implement a variant of the 2-SUM algorithm covered in this week's lectures.\n",
    "\n",
    "The file contains 1 million integers, both positive and negative (there might be some repetitions!).This is your array of integers, with the $i^{th}$ row of the file specifying the $i^{th}$ entry of the array.\n",
    "\n",
    "Your task is to compute the number of target values $t$ in the interval [-10000,10000] (inclusive) such that there are distinct numbers $x,y$ in the input file that satisfy $x+y = t$ . (NOTE: ensuring distinctness requires a one-line addition to the algorithm from lecture.)\n",
    "\n",
    "Write your numeric answer (an integer between 0 and 20001) in the space provided.\n",
    "\n",
    "OPTIONAL CHALLENGE: If this problem is too easy for you, try implementing your own hash table for it. For example, you could compare performance under the chaining and open addressing approaches to resolving collisions."
   ]
  },
  {
   "cell_type": "code",
   "execution_count": 9,
   "metadata": {
    "collapsed": true
   },
   "outputs": [],
   "source": [
    "def two_sum_problem_dict(filename,t_min,t_max):\n",
    "    my_dict = {}\n",
    "    counter = 0\n",
    "    with open('week8_file/'+filename) as f: \n",
    "        for line in f:\n",
    "            line = line.split()\n",
    "            if line:\n",
    "                number= int(line[0])\n",
    "                #insert elements of A into hash table my_dict\n",
    "                my_dict[number] = my_dict.get(number, 0) + 1\n",
    "    for t in range(t_min,t_max+1):\n",
    "        #for each x in A, lookup t-x\n",
    "        for x in my_dict.keys():\n",
    "            if x != t-x:\n",
    "                if my_dict.get(t-x) != None:\n",
    "                    counter +=1\n",
    "                    break\n",
    "    return counter"
   ]
  },
  {
   "cell_type": "code",
   "execution_count": 26,
   "metadata": {
    "collapsed": true
   },
   "outputs": [],
   "source": [
    "def two_sum_problem_sort(filename,t_min,t_max):\n",
    "    my_dict = {}\n",
    "    arr = []\n",
    "    with open('week8_file/'+filename) as f: \n",
    "        for line in f:\n",
    "            line = line.split()\n",
    "            if line:\n",
    "                arr.append(int(line[0]))\n",
    "    #arr = np.loadtxt('week8_file/'+filename)\n",
    "    arr = list(set(arr))\n",
    "    #Sort array arr\n",
    "    arr.sort()  \n",
    "    #for each x in arr, look for t-x in arr via binary search\n",
    "    for x in arr:\n",
    "        start =  bisect.bisect_left(arr, t_min-x)\n",
    "        end = bisect.bisect_right(arr, t_max-x)\n",
    "        for y in arr[start:end]:\n",
    "            if my_dict.get(x+y) == None and x != y:\n",
    "                my_dict[x+y] = 1\n",
    "        #ts.extend([x+y for y in arr[start:end] if x!= y])\n",
    "      #  print(ts)\n",
    "    return len(my_dict)"
   ]
  },
  {
   "cell_type": "code",
   "execution_count": 27,
   "metadata": {},
   "outputs": [
    {
     "name": "stdout",
     "output_type": "stream",
     "text": [
      "8\n",
      "--- 0.0010972023010253906 seconds ---\n",
      "8\n",
      "--- 0.0011458396911621094 seconds ---\n"
     ]
    }
   ],
   "source": [
    "start_time = time.time()\n",
    "print(two_sum_problem_dict('week8_test1.txt',3,10))\n",
    "print(\"--- %s seconds ---\" % (time.time() - start_time))\n",
    "start_time = time.time()\n",
    "print(two_sum_problem_sort('week8_test1.txt',3,10))\n",
    "print(\"--- %s seconds ---\" % (time.time() - start_time))\n"
   ]
  },
  {
   "cell_type": "code",
   "execution_count": 21,
   "metadata": {},
   "outputs": [
    {
     "name": "stdout",
     "output_type": "stream",
     "text": [
      "2\n",
      "--- 0.0019350051879882812 seconds ---\n",
      "2\n",
      "--- 0.0031752586364746094 seconds ---\n"
     ]
    }
   ],
   "source": [
    "start_time = time.time()\n",
    "print(two_sum_problem_dict('week8_test2.txt',0,4))\n",
    "print(\"--- %s seconds ---\" % (time.time() - start_time))\n",
    "start_time = time.time()\n",
    "print(two_sum_problem_sort('week8_test2.txt',0,4))\n",
    "print(\"--- %s seconds ---\" % (time.time() - start_time))\n"
   ]
  },
  {
   "cell_type": "code",
   "execution_count": 22,
   "metadata": {},
   "outputs": [
    {
     "name": "stdout",
     "output_type": "stream",
     "text": [
      "13\n",
      "--- 0.5337049961090088 seconds ---\n",
      "13\n",
      "--- 0.0014750957489013672 seconds ---\n"
     ]
    }
   ],
   "source": [
    "start_time = time.time()\n",
    "print(two_sum_problem_dict('week8_test3.txt',-10000,10000))\n",
    "print(\"--- %s seconds ---\" % (time.time() - start_time))\n",
    "start_time = time.time()\n",
    "print(two_sum_problem_sort('week8_test3.txt',-10000,10000))\n",
    "print(\"--- %s seconds ---\" % (time.time() - start_time))"
   ]
  },
  {
   "cell_type": "code",
   "execution_count": 23,
   "metadata": {},
   "outputs": [
    {
     "name": "stdout",
     "output_type": "stream",
     "text": [
      "427\n",
      "--- 11.607929944992065 seconds ---\n"
     ]
    }
   ],
   "source": [
    "start_time = time.time()\n",
    "print(two_sum_problem_sort('week8.txt',-10000,10000)) #427\n",
    "print(\"--- %s seconds ---\" % (time.time() - start_time))"
   ]
  },
  {
   "cell_type": "code",
   "execution_count": null,
   "metadata": {
    "collapsed": true
   },
   "outputs": [],
   "source": [
    "start_time = time.time()\n",
    "print(two_sum_problem_dict('week8.txt',-10000,10000)) #427\n",
    "print(\"--- %s seconds ---\" % (time.time() - start_time))"
   ]
  }
 ],
 "metadata": {
  "kernelspec": {
   "display_name": "Python 3",
   "language": "python",
   "name": "python3"
  },
  "language_info": {
   "codemirror_mode": {
    "name": "ipython",
    "version": 3
   },
   "file_extension": ".py",
   "mimetype": "text/x-python",
   "name": "python",
   "nbconvert_exporter": "python",
   "pygments_lexer": "ipython3",
   "version": "3.6.3"
  }
 },
 "nbformat": 4,
 "nbformat_minor": 2
}
