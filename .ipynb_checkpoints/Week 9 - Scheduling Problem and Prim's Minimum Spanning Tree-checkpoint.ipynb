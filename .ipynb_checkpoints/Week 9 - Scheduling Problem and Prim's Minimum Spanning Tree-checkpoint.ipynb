{
 "cells": [
  {
   "cell_type": "code",
   "execution_count": 3,
   "metadata": {
    "collapsed": true
   },
   "outputs": [],
   "source": [
    "import time\n",
    "import numpy as np\n",
    "import pandas as pd\n",
    "import math\n",
    "from heapdict import heapdict\n",
    "np.set_printoptions(suppress=True)"
   ]
  },
  {
   "cell_type": "markdown",
   "metadata": {},
   "source": [
    "In this programming problem and the next you'll code up the greedy algorithms from lecture for minimizing the weighted sum of completion times..\n",
    "\n",
    "Download the text file below.\n",
    "\n",
    "jobs.txt\n",
    "This file describes a set of jobs with positive and integral weights and lengths. It has the format\n",
    "\n",
    "[number_of_jobs]\n",
    "\n",
    "[job_1_weight] [job_1_length]\n",
    "\n",
    "[job_2_weight] [job_2_length]\n",
    "\n",
    "...\n",
    "\n",
    "For example, the third line of the file is \"74 59\", indicating that the second job has weight 74 and length 59.\n",
    "\n",
    "You should NOT assume that edge weights or lengths are distinct.\n",
    "\n",
    "Your task in this problem is to run the greedy algorithm that schedules jobs in decreasing order of the difference (weight - length). Recall from lecture that this algorithm is not always optimal. IMPORTANT: if two jobs have equal difference (weight - length), you should schedule the job with higher weight first. Beware: if you break ties in a different way, you are likely to get the wrong answer. You should report the sum of weighted completion times of the resulting schedule --- a positive integer --- in the box below.\n",
    "\n",
    "ADVICE: If you get the wrong answer, try out some small test cases to debug your algorithm (and post your test cases to the discussion forum)."
   ]
  },
  {
   "cell_type": "code",
   "execution_count": 4,
   "metadata": {
    "collapsed": true
   },
   "outputs": [],
   "source": [
    "def scheduling_difference(filename):\n",
    "    data = pd.read_csv('week9_file/'+filename,skiprows=[0], sep=\" \", header=None)\n",
    "    data.columns = [\"weight\", \"length\"]\n",
    "    data['difference'] = data['weight'] - data['length']\n",
    "    #sort by the difference and break tie by the weight\n",
    "    data.sort_values(by=['difference','weight'],ascending=False,inplace=True)\n",
    "    #completion time formula is equivalent to cummulative sum and dot product with the weight\n",
    "    completion_time = (data['length'].cumsum()).dot(data['weight'])\n",
    "    return completion_time"
   ]
  },
  {
   "cell_type": "code",
   "execution_count": 5,
   "metadata": {},
   "outputs": [
    {
     "name": "stdout",
     "output_type": "stream",
     "text": [
      "69119377652\n",
      "--- 0.037480831146240234 seconds ---\n"
     ]
    }
   ],
   "source": [
    "start_time = time.time()\n",
    "print(scheduling_difference('week9_1.txt'))\n",
    "print(\"--- %s seconds ---\" % (time.time() - start_time))"
   ]
  },
  {
   "cell_type": "markdown",
   "metadata": {},
   "source": [
    "For this problem, use the same data set as in the previous problem.\n",
    "\n",
    "Your task now is to run the greedy algorithm that schedules jobs (optimally) in decreasing order of the ratio (weight/length). In this algorithm, it does not matter how you break ties. You should report the sum of weighted completion times of the resulting schedule --- a positive integer --- in the box below."
   ]
  },
  {
   "cell_type": "code",
   "execution_count": 6,
   "metadata": {
    "collapsed": true
   },
   "outputs": [],
   "source": [
    "def scheduling_ratio(filename):\n",
    "    data = pd.read_csv('week9_file/'+filename,skiprows=[0], sep=\" \", header=None)\n",
    "    data.columns = [\"weight\", \"length\"]\n",
    "    data['ratio'] = data['weight'] / data['length']\n",
    "    #sort by the ratio\n",
    "    data.sort_values(by=['ratio'],ascending=False,inplace=True)\n",
    "    completion_time = (data['length'].cumsum()).dot(data['weight'])\n",
    "    return completion_time"
   ]
  },
  {
   "cell_type": "code",
   "execution_count": 7,
   "metadata": {},
   "outputs": [
    {
     "name": "stdout",
     "output_type": "stream",
     "text": [
      "67311454237\n",
      "--- 0.01528477668762207 seconds ---\n"
     ]
    }
   ],
   "source": [
    "start_time = time.time()\n",
    "print(scheduling_ratio('week9_1.txt'))\n",
    "print(\"--- %s seconds ---\" % (time.time() - start_time))"
   ]
  },
  {
   "cell_type": "markdown",
   "metadata": {},
   "source": [
    "In this programming problem you'll code up Prim's minimum spanning tree algorithm.\n",
    "\n",
    "Download the text file below.\n",
    "\n",
    "edges.txt\n",
    "This file describes an undirected graph with integer edge costs. It has the format\n",
    "\n",
    "[number_of_nodes] [number_of_edges]\n",
    "\n",
    "[one_node_of_edge_1] [other_node_of_edge_1] [edge_1_cost]\n",
    "\n",
    "[one_node_of_edge_2] [other_node_of_edge_2] [edge_2_cost]\n",
    "\n",
    "...\n",
    "\n",
    "For example, the third line of the file is \"2 3 -8874\", indicating that there is an edge connecting vertex #2 and vertex #3 that has cost -8874.\n",
    "\n",
    "You should NOT assume that edge costs are positive, nor should you assume that they are distinct.\n",
    "\n",
    "Your task is to run Prim's minimum spanning tree algorithm on this graph. You should report the overall cost of a minimum spanning tree --- an integer, which may or may not be negative --- in the box below.\n",
    "\n",
    "IMPLEMENTATION NOTES: This graph is small enough that the straightforward O(mn) time implementation of Prim's algorithm should work fine. OPTIONAL: For those of you seeking an additional challenge, try implementing a heap-based version. The simpler approach, which should already give you a healthy speed-up, is to maintain relevant edges in a heap (with keys = edge costs). The superior approach stores the unprocessed vertices in the heap, as described in lecture. Note this requires a heap that supports deletions, and you'll probably need to maintain some kind of mapping between vertices and their positions in the heap."
   ]
  },
  {
   "cell_type": "code",
   "execution_count": 8,
   "metadata": {
    "collapsed": true
   },
   "outputs": [],
   "source": [
    "def read_input(filename):\n",
    "    first = True\n",
    "    with open('week9_file/'+filename) as f:\n",
    "        G = {}\n",
    "        for line in f:\n",
    "            line = line.split() # to deal with blank \n",
    "            if line and not first:            # lines (ie skip them)\n",
    "                v = int(line[0])\n",
    "                w = int(line[1])\n",
    "                weight = int(line[2])\n",
    "                if G.get(v) == None:\n",
    "                    G[v] = [(v,w,weight)]\n",
    "                else:\n",
    "                    G[v].append((v,w,weight))\n",
    "                if G.get(w) == None:\n",
    "                    G[w] = [(w,v,weight)]\n",
    "                else:\n",
    "                    G[w].append((w,v,weight))\n",
    "            else:\n",
    "                num_nodes = int(line[0])\n",
    "                num_edges = int(line[1])\n",
    "                first = False\n",
    "                    \n",
    "    return G,num_nodes,num_edges"
   ]
  },
  {
   "cell_type": "code",
   "execution_count": 9,
   "metadata": {
    "collapsed": true
   },
   "outputs": [],
   "source": [
    "def prims_algorithm(filename):\n",
    "    G,num_nodes,num_edges = read_input(filename)\n",
    "    X = [1] \n",
    "    T = [] #invariant: X = vertoces spanned by tree-so-far T\n",
    "    W = []\n",
    "    #increases number of spanned vertices in cheapest way possible\n",
    "    while len(X) != num_nodes: #while X != V\n",
    "        vw_min = []\n",
    "        for vertices in X:\n",
    "            if G.get(vertices) != None:\n",
    "                vw_pair_list = [vw_pair for vw_pair in G[vertices] if vw_pair[1] not in X]\n",
    "                if len(vw_pair_list) == 0:\n",
    "                    pass\n",
    "                else:\n",
    "                    u_min,v_min,weight_vw_min = min(vw_pair_list, key = lambda t: t[2])\n",
    "                    vw_min.append((u_min,v_min,weight_vw_min))\n",
    "        \n",
    "        \n",
    "        #let e = (u,v) be the cheapest edge of G with u element X, v not element X\n",
    "        u_min_all,v_min_all,weight_vw_min_all = min(vw_min, key = lambda t: t[2])\n",
    "        #add e to T\n",
    "        T.append((u_min_all,v_min_all))\n",
    "        #add v to X\n",
    "        X.append(v_min_all)\n",
    "        W.append(weight_vw_min_all)\n",
    "    \n",
    "    return sum(W)"
   ]
  },
  {
   "cell_type": "code",
   "execution_count": 10,
   "metadata": {},
   "outputs": [
    {
     "name": "stdout",
     "output_type": "stream",
     "text": [
      "-97121\n",
      "--- 0.004764080047607422 seconds ---\n",
      "-64386\n",
      "--- 0.00504302978515625 seconds ---\n",
      "-7430\n",
      "--- 0.0028688907623291016 seconds ---\n",
      "-12829\n",
      "--- 0.0015628337860107422 seconds ---\n"
     ]
    }
   ],
   "source": [
    "start_time = time.time()\n",
    "print(prims_algorithm('week9_2_test1.txt')) #-97121\n",
    "print(\"--- %s seconds ---\" % (time.time() - start_time))\n",
    "start_time = time.time()\n",
    "print(prims_algorithm('week9_2_test2.txt')) #-64386\n",
    "print(\"--- %s seconds ---\" % (time.time() - start_time))\n",
    "start_time = time.time()\n",
    "print(prims_algorithm('week9_2_test3.txt')) #-7430\n",
    "print(\"--- %s seconds ---\" % (time.time() - start_time))\n",
    "start_time = time.time()\n",
    "print(prims_algorithm('week9_2_test4.txt')) #-12829\n",
    "print(\"--- %s seconds ---\" % (time.time() - start_time))"
   ]
  },
  {
   "cell_type": "code",
   "execution_count": 11,
   "metadata": {},
   "outputs": [
    {
     "name": "stdout",
     "output_type": "stream",
     "text": [
      "-3612829\n",
      "--- 6.299896955490112 seconds ---\n"
     ]
    }
   ],
   "source": [
    "start_time = time.time()\n",
    "print(prims_algorithm('week9_2.txt')) #-3612829\n",
    "print(\"--- %s seconds ---\" % (time.time() - start_time))"
   ]
  },
  {
   "cell_type": "code",
   "execution_count": 181,
   "metadata": {
    "collapsed": true
   },
   "outputs": [],
   "source": [
    "def prims_algorithm_heap(filename):\n",
    "    #Invariants: 1) elements in heap = vertices of V-X. 2) For v element V-X, key[v] = cheapest edge (u,v)\n",
    "    #with U element X (or infinity if no such edges exist)\n",
    "    G,num_nodes,num_edges = read_input(filename)\n",
    "    X = [1]\n",
    "    T = []\n",
    "    W = []\n",
    "    hd = heapdict()\n",
    "    for i in list(G.keys()):\n",
    "        if i not in X:\n",
    "            hd[i] = math.inf\n",
    "    \n",
    "    for v,w,weight_vw in G[1]:\n",
    "        hd[w] = weight_vw\n",
    "    \n",
    "    while any(hd): \n",
    "        v_min,weight_min = hd.popitem()\n",
    "        W.append(weight_min) \n",
    "        #if w element V - X is the only whose key might have change \n",
    "        for (v,w,weight_wv) in G[v_min]:\n",
    "            if hd.get(w) != None: #if it is in V-X\n",
    "                #recompute key[w] := min(key[w],Cvw)\n",
    "                hd[w] = min(hd[w],weight_wv)\n",
    "                \n",
    "    return sum(W)"
   ]
  },
  {
   "cell_type": "code",
   "execution_count": 182,
   "metadata": {},
   "outputs": [
    {
     "name": "stdout",
     "output_type": "stream",
     "text": [
      "-97121\n",
      "--- 0.01171731948852539 seconds ---\n",
      "-64386\n",
      "--- 0.0029458999633789062 seconds ---\n",
      "-7430\n",
      "--- 0.001644134521484375 seconds ---\n",
      "-12829\n",
      "--- 0.001481771469116211 seconds ---\n"
     ]
    }
   ],
   "source": [
    "start_time = time.time()\n",
    "print(prims_algorithm_heap('week9_2_test1.txt')) #-97121\n",
    "print(\"--- %s seconds ---\" % (time.time() - start_time))\n",
    "start_time = time.time()\n",
    "print(prims_algorithm_heap('week9_2_test2.txt')) #-64386\n",
    "print(\"--- %s seconds ---\" % (time.time() - start_time))\n",
    "start_time = time.time()\n",
    "print(prims_algorithm_heap('week9_2_test3.txt')) #-7430\n",
    "print(\"--- %s seconds ---\" % (time.time() - start_time))\n",
    "start_time = time.time()\n",
    "print(prims_algorithm_heap('week9_2_test4.txt')) #-12829\n",
    "print(\"--- %s seconds ---\" % (time.time() - start_time))"
   ]
  },
  {
   "cell_type": "code",
   "execution_count": 184,
   "metadata": {},
   "outputs": [
    {
     "name": "stdout",
     "output_type": "stream",
     "text": [
      "-3612829\n",
      "--- 0.10876202583312988 seconds ---\n"
     ]
    }
   ],
   "source": [
    "start_time = time.time()\n",
    "print(prims_algorithm_heap('week9_2.txt')) #-3612829\n",
    "print(\"--- %s seconds ---\" % (time.time() - start_time))"
   ]
  },
  {
   "cell_type": "code",
   "execution_count": 93,
   "metadata": {
    "collapsed": true
   },
   "outputs": [],
   "source": [
    "G,num_nodes,num_edges = read_input('week9_2.txt')"
   ]
  },
  {
   "cell_type": "code",
   "execution_count": null,
   "metadata": {
    "collapsed": true
   },
   "outputs": [],
   "source": []
  }
 ],
 "metadata": {
  "kernelspec": {
   "display_name": "Python 3",
   "language": "python",
   "name": "python3"
  },
  "language_info": {
   "codemirror_mode": {
    "name": "ipython",
    "version": 3
   },
   "file_extension": ".py",
   "mimetype": "text/x-python",
   "name": "python",
   "nbconvert_exporter": "python",
   "pygments_lexer": "ipython3",
   "version": "3.6.3"
  }
 },
 "nbformat": 4,
 "nbformat_minor": 2
}
