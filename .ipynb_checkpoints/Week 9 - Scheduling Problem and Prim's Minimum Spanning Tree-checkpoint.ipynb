{
 "cells": [
  {
   "cell_type": "code",
   "execution_count": 171,
   "metadata": {
    "collapsed": true
   },
   "outputs": [],
   "source": [
    "import time\n",
    "import numpy as np\n",
    "import pandas as pd\n",
    "import math\n",
    "from heapdict import heapdict\n",
    "np.set_printoptions(suppress=True)"
   ]
  },
  {
   "cell_type": "markdown",
   "metadata": {},
   "source": [
    "In this programming problem and the next you'll code up the greedy algorithms from lecture for minimizing the weighted sum of completion times..\n",
    "\n",
    "Download the text file below.\n",
    "\n",
    "jobs.txt\n",
    "This file describes a set of jobs with positive and integral weights and lengths. It has the format\n",
    "\n",
    "[number_of_jobs]\n",
    "\n",
    "[job_1_weight] [job_1_length]\n",
    "\n",
    "[job_2_weight] [job_2_length]\n",
    "\n",
    "...\n",
    "\n",
    "For example, the third line of the file is \"74 59\", indicating that the second job has weight 74 and length 59.\n",
    "\n",
    "You should NOT assume that edge weights or lengths are distinct.\n",
    "\n",
    "Your task in this problem is to run the greedy algorithm that schedules jobs in decreasing order of the difference (weight - length). Recall from lecture that this algorithm is not always optimal. IMPORTANT: if two jobs have equal difference (weight - length), you should schedule the job with higher weight first. Beware: if you break ties in a different way, you are likely to get the wrong answer. You should report the sum of weighted completion times of the resulting schedule --- a positive integer --- in the box below.\n",
    "\n",
    "ADVICE: If you get the wrong answer, try out some small test cases to debug your algorithm (and post your test cases to the discussion forum)."
   ]
  },
  {
   "cell_type": "code",
   "execution_count": 45,
   "metadata": {
    "collapsed": true
   },
   "outputs": [],
   "source": [
    "def scheduling_difference(filename):\n",
    "    data = pd.read_csv('week9_file/'+filename,skiprows=[0], sep=\" \", header=None)\n",
    "    data.columns = [\"weight\", \"length\"]\n",
    "    data['difference'] = data['weight'] - data['length']\n",
    "    data.sort_values(by=['difference','weight'],ascending=False,inplace=True)\n",
    "    completion_time = (data['length'].cumsum()).dot(data['weight'])\n",
    "    return completion_time"
   ]
  },
  {
   "cell_type": "code",
   "execution_count": 46,
   "metadata": {},
   "outputs": [
    {
     "name": "stdout",
     "output_type": "stream",
     "text": [
      "69119377652\n",
      "--- 0.05358290672302246 seconds ---\n"
     ]
    }
   ],
   "source": [
    "start_time = time.time()\n",
    "print(scheduling_difference('week9_1.txt'))\n",
    "print(\"--- %s seconds ---\" % (time.time() - start_time))"
   ]
  },
  {
   "cell_type": "markdown",
   "metadata": {},
   "source": [
    "For this problem, use the same data set as in the previous problem.\n",
    "\n",
    "Your task now is to run the greedy algorithm that schedules jobs (optimally) in decreasing order of the ratio (weight/length). In this algorithm, it does not matter how you break ties. You should report the sum of weighted completion times of the resulting schedule --- a positive integer --- in the box below."
   ]
  },
  {
   "cell_type": "code",
   "execution_count": 47,
   "metadata": {
    "collapsed": true
   },
   "outputs": [],
   "source": [
    "def scheduling_ratio(filename):\n",
    "    data = pd.read_csv('week9_file/'+filename,skiprows=[0], sep=\" \", header=None)\n",
    "    data.columns = [\"weight\", \"length\"]\n",
    "    data['ratio'] = data['weight'] / data['length']\n",
    "    data.sort_values(by=['ratio'],ascending=False,inplace=True)\n",
    "    completion_time = (data['length'].cumsum()).dot(data['weight'])\n",
    "    return completion_time"
   ]
  },
  {
   "cell_type": "code",
   "execution_count": 48,
   "metadata": {},
   "outputs": [
    {
     "name": "stdout",
     "output_type": "stream",
     "text": [
      "67311454237\n",
      "--- 0.028902769088745117 seconds ---\n"
     ]
    }
   ],
   "source": [
    "start_time = time.time()\n",
    "print(scheduling_ratio('week9_1.txt'))\n",
    "print(\"--- %s seconds ---\" % (time.time() - start_time))"
   ]
  },
  {
   "cell_type": "markdown",
   "metadata": {},
   "source": [
    "In this programming problem you'll code up Prim's minimum spanning tree algorithm.\n",
    "\n",
    "Download the text file below.\n",
    "\n",
    "edges.txt\n",
    "This file describes an undirected graph with integer edge costs. It has the format\n",
    "\n",
    "[number_of_nodes] [number_of_edges]\n",
    "\n",
    "[one_node_of_edge_1] [other_node_of_edge_1] [edge_1_cost]\n",
    "\n",
    "[one_node_of_edge_2] [other_node_of_edge_2] [edge_2_cost]\n",
    "\n",
    "...\n",
    "\n",
    "For example, the third line of the file is \"2 3 -8874\", indicating that there is an edge connecting vertex #2 and vertex #3 that has cost -8874.\n",
    "\n",
    "You should NOT assume that edge costs are positive, nor should you assume that they are distinct.\n",
    "\n",
    "Your task is to run Prim's minimum spanning tree algorithm on this graph. You should report the overall cost of a minimum spanning tree --- an integer, which may or may not be negative --- in the box below.\n",
    "\n",
    "IMPLEMENTATION NOTES: This graph is small enough that the straightforward O(mn) time implementation of Prim's algorithm should work fine. OPTIONAL: For those of you seeking an additional challenge, try implementing a heap-based version. The simpler approach, which should already give you a healthy speed-up, is to maintain relevant edges in a heap (with keys = edge costs). The superior approach stores the unprocessed vertices in the heap, as described in lecture. Note this requires a heap that supports deletions, and you'll probably need to maintain some kind of mapping between vertices and their positions in the heap."
   ]
  },
  {
   "cell_type": "code",
   "execution_count": 142,
   "metadata": {},
   "outputs": [],
   "source": [
    "def read_input(filename):\n",
    "    first = True\n",
    "    with open('week9_file/'+filename) as f:\n",
    "        G = {}\n",
    "        for line in f:\n",
    "            line = line.split() # to deal with blank \n",
    "            if line and not first:            # lines (ie skip them)\n",
    "                v = int(line[0])\n",
    "                w = int(line[1])\n",
    "                weight = int(line[2])\n",
    "                if G.get(v) == None:\n",
    "                    G[v] = [(v,w,weight)]\n",
    "                else:\n",
    "                    G[v].append((v,w,weight))\n",
    "                if G.get(w) == None:\n",
    "                    G[w] = [(w,v,weight)]\n",
    "                else:\n",
    "                    G[w].append((w,v,weight))\n",
    "            else:\n",
    "                num_nodes = int(line[0])\n",
    "                num_edges = int(line[1])\n",
    "                first = False\n",
    "                    \n",
    "    return G,num_nodes,num_edges"
   ]
  },
  {
   "cell_type": "code",
   "execution_count": 153,
   "metadata": {},
   "outputs": [],
   "source": [
    "def prims_algorithm(filename):\n",
    "    G,num_nodes,num_edges = read_input(filename)\n",
    "    X = [1]\n",
    "    T = []\n",
    "    W = []\n",
    "    while len(X) != num_nodes:\n",
    "        vw_min = []\n",
    "        for vertices in X:\n",
    "            if G.get(vertices) != None:\n",
    "                vw_pair_list = [vw_pair for vw_pair in G[vertices] if vw_pair[1] not in X]\n",
    "                if len(vw_pair_list) == 0:\n",
    "                    pass\n",
    "                else:\n",
    "                    u_min,v_min,weight_vw_min = min(vw_pair_list, key = lambda t: t[2])\n",
    "                    vw_min.append((u_min,v_min,weight_vw_min))\n",
    "        \n",
    "        u_min_all,v_min_all,weight_vw_min_all = min(vw_min, key = lambda t: t[2])\n",
    "        X.append(v_min_all)\n",
    "        W.append(weight_vw_min_all)\n",
    "    \n",
    "    return sum(W)"
   ]
  },
  {
   "cell_type": "code",
   "execution_count": 156,
   "metadata": {},
   "outputs": [
    {
     "name": "stdout",
     "output_type": "stream",
     "text": [
      "-97121\n",
      "--- 0.0035152435302734375 seconds ---\n",
      "-64386\n",
      "--- 0.0031881332397460938 seconds ---\n",
      "-7430\n",
      "--- 0.008777856826782227 seconds ---\n",
      "-12829\n",
      "--- 0.00092315673828125 seconds ---\n"
     ]
    }
   ],
   "source": [
    "start_time = time.time()\n",
    "print(prims_algorithm('week9_2_test1.txt')) #-97121\n",
    "print(\"--- %s seconds ---\" % (time.time() - start_time))\n",
    "start_time = time.time()\n",
    "print(prims_algorithm('week9_2_test2.txt')) #-64386\n",
    "print(\"--- %s seconds ---\" % (time.time() - start_time))\n",
    "start_time = time.time()\n",
    "print(prims_algorithm('week9_2_test3.txt')) #-7430\n",
    "print(\"--- %s seconds ---\" % (time.time() - start_time))\n",
    "start_time = time.time()\n",
    "print(prims_algorithm('week9_2_test4.txt')) #-12829\n",
    "print(\"--- %s seconds ---\" % (time.time() - start_time))"
   ]
  },
  {
   "cell_type": "code",
   "execution_count": 183,
   "metadata": {},
   "outputs": [
    {
     "name": "stdout",
     "output_type": "stream",
     "text": [
      "-3612829\n",
      "--- 4.225016117095947 seconds ---\n"
     ]
    }
   ],
   "source": [
    "start_time = time.time()\n",
    "print(prims_algorithm('week9_2.txt')) #-3612829\n",
    "print(\"--- %s seconds ---\" % (time.time() - start_time))"
   ]
  },
  {
   "cell_type": "code",
   "execution_count": 181,
   "metadata": {
    "collapsed": true
   },
   "outputs": [],
   "source": [
    "def prims_algorithm_heap(filename):\n",
    "    G,num_nodes,num_edges = read_input(filename)\n",
    "    X = [1]\n",
    "    T = []\n",
    "    W = []\n",
    "    hd = heapdict()\n",
    "    for i in list(G.keys()):\n",
    "        if i not in X:\n",
    "            hd[i] = math.inf\n",
    "    \n",
    "    for v,w,weight_vw in G[1]:\n",
    "        hd[w] = weight_vw\n",
    "    \n",
    "    while any(hd):\n",
    "        v_min,weight_min = hd.popitem()\n",
    "        W.append(weight_min)\n",
    "        for (v,w,weight_wv) in G[v_min]:\n",
    "            if hd.get(w) != None: #if it is in V-X\n",
    "                hd[w] = min(hd[w],weight_wv)\n",
    "                \n",
    "    return sum(W)"
   ]
  },
  {
   "cell_type": "code",
   "execution_count": 182,
   "metadata": {},
   "outputs": [
    {
     "name": "stdout",
     "output_type": "stream",
     "text": [
      "-97121\n",
      "--- 0.01171731948852539 seconds ---\n",
      "-64386\n",
      "--- 0.0029458999633789062 seconds ---\n",
      "-7430\n",
      "--- 0.001644134521484375 seconds ---\n",
      "-12829\n",
      "--- 0.001481771469116211 seconds ---\n"
     ]
    }
   ],
   "source": [
    "start_time = time.time()\n",
    "print(prims_algorithm_heap('week9_2_test1.txt')) #-97121\n",
    "print(\"--- %s seconds ---\" % (time.time() - start_time))\n",
    "start_time = time.time()\n",
    "print(prims_algorithm_heap('week9_2_test2.txt')) #-64386\n",
    "print(\"--- %s seconds ---\" % (time.time() - start_time))\n",
    "start_time = time.time()\n",
    "print(prims_algorithm_heap('week9_2_test3.txt')) #-7430\n",
    "print(\"--- %s seconds ---\" % (time.time() - start_time))\n",
    "start_time = time.time()\n",
    "print(prims_algorithm_heap('week9_2_test4.txt')) #-12829\n",
    "print(\"--- %s seconds ---\" % (time.time() - start_time))"
   ]
  },
  {
   "cell_type": "code",
   "execution_count": 184,
   "metadata": {},
   "outputs": [
    {
     "name": "stdout",
     "output_type": "stream",
     "text": [
      "-3612829\n",
      "--- 0.10876202583312988 seconds ---\n"
     ]
    }
   ],
   "source": [
    "start_time = time.time()\n",
    "print(prims_algorithm_heap('week9_2.txt')) #--3612829\n",
    "print(\"--- %s seconds ---\" % (time.time() - start_time))"
   ]
  },
  {
   "cell_type": "code",
   "execution_count": 93,
   "metadata": {
    "collapsed": true
   },
   "outputs": [],
   "source": [
    "G,num_nodes,num_edges = read_input('week9_2.txt')"
   ]
  },
  {
   "cell_type": "code",
   "execution_count": 94,
   "metadata": {},
   "outputs": [],
   "source": [
    "a = [(1,2),(3,4)]"
   ]
  },
  {
   "cell_type": "code",
   "execution_count": 95,
   "metadata": {
    "collapsed": true
   },
   "outputs": [],
   "source": [
    "b = []"
   ]
  },
  {
   "cell_type": "code",
   "execution_count": 96,
   "metadata": {},
   "outputs": [
    {
     "ename": "TypeError",
     "evalue": "append() takes exactly one argument (2 given)",
     "output_type": "error",
     "traceback": [
      "\u001b[0;31m---------------------------------------------------------------------------\u001b[0m",
      "\u001b[0;31mTypeError\u001b[0m                                 Traceback (most recent call last)",
      "\u001b[0;32m<ipython-input-96-5f7131328a9d>\u001b[0m in \u001b[0;36m<module>\u001b[0;34m()\u001b[0m\n\u001b[0;32m----> 1\u001b[0;31m \u001b[0mb\u001b[0m\u001b[0;34m.\u001b[0m\u001b[0mappend\u001b[0m\u001b[0;34m(\u001b[0m\u001b[0;34m*\u001b[0m\u001b[0ma\u001b[0m\u001b[0;34m)\u001b[0m\u001b[0;34m\u001b[0m\u001b[0m\n\u001b[0m\u001b[1;32m      2\u001b[0m \u001b[0mprint\u001b[0m\u001b[0;34m(\u001b[0m\u001b[0mb\u001b[0m\u001b[0;34m)\u001b[0m\u001b[0;34m\u001b[0m\u001b[0m\n",
      "\u001b[0;31mTypeError\u001b[0m: append() takes exactly one argument (2 given)"
     ]
    }
   ],
   "source": [
    "b.append(*a)\n",
    "print(b)"
   ]
  },
  {
   "cell_type": "code",
   "execution_count": 97,
   "metadata": {},
   "outputs": [
    {
     "data": {
      "text/plain": [
       "True"
      ]
     },
     "execution_count": 97,
     "metadata": {},
     "output_type": "execute_result"
    }
   ],
   "source": [
    "G.get(10) != None"
   ]
  },
  {
   "cell_type": "code",
   "execution_count": 98,
   "metadata": {},
   "outputs": [
    {
     "data": {
      "text/plain": [
       "(1, 397, -5942)"
      ]
     },
     "execution_count": 98,
     "metadata": {},
     "output_type": "execute_result"
    }
   ],
   "source": [
    "min(G[1], key = lambda t: t[2])"
   ]
  },
  {
   "cell_type": "code",
   "execution_count": 99,
   "metadata": {},
   "outputs": [
    {
     "name": "stdout",
     "output_type": "stream",
     "text": [
      "-56742\n"
     ]
    }
   ],
   "source": [
    "print(prims_algorithm('week9_2_test1.txt'))"
   ]
  },
  {
   "cell_type": "code",
   "execution_count": 101,
   "metadata": {},
   "outputs": [
    {
     "name": "stdout",
     "output_type": "stream",
     "text": [
      "[[    1.     2. -1833.]\n",
      " [    2.     3. -6643.]\n",
      " [    3.     4.  4589.]\n",
      " [    4.     5.  5877.]\n",
      " [    5.     6.  3712.]\n",
      " [    6.     7.   -32.]\n",
      " [    7.     8. -5199.]\n",
      " [    8.     9. -6875.]\n",
      " [    9.    10.   678.]\n",
      " [   10.    11. -6776.]\n",
      " [   11.    12. -1288.]\n",
      " [   12.    13. -1756.]\n",
      " [   13.    14.  4956.]\n",
      " [   14.    15.   395.]\n",
      " [   15.    16. -9792.]\n",
      " [   16.    17.  2817.]\n",
      " [   17.    18.  8432.]\n",
      " [   18.    19.  4996.]\n",
      " [   19.    20. -4048.]\n",
      " [   20.    21.  6410.]\n",
      " [   21.    22. -9713.]\n",
      " [   22.    23. -7890.]\n",
      " [   23.    24.  6979.]\n",
      " [   24.    25. -4616.]\n",
      " [   25.    26.  2224.]\n",
      " [   26.    27. -9646.]\n",
      " [   27.    28. -6172.]\n",
      " [   28.    29.   186.]\n",
      " [   29.    30. -7284.]\n",
      " [   30.    31.  2251.]\n",
      " [   31.    32.  3275.]\n",
      " [   32.    33. -2248.]\n",
      " [   33.    34. -6452.]\n",
      " [   34.    35.  3831.]\n",
      " [   35.    36.  3987.]\n",
      " [   36.    37. -3058.]\n",
      " [   37.    38. -8416.]\n",
      " [   38.    39.  4086.]\n",
      " [   39.    40.  9962.]\n",
      " [    1.    17. -7663.]\n",
      " [    2.    19.  7288.]\n",
      " [    4.     8. -7719.]\n",
      " [    8.    23. -6756.]\n",
      " [   10.    10. -7394.]\n",
      " [   13.    36.  5194.]\n",
      " [   14.    33. -3224.]\n",
      " [   26.     8.  9116.]\n",
      " [   30.    12.  4479.]\n",
      " [   31.     1.  1921.]\n",
      " [   33.    21. -1819.]\n",
      " [   34.    23. -8349.]\n",
      " [   38.     4.  2858.]]\n"
     ]
    }
   ],
   "source": [
    "a =np.loadtxt('week9_file/week9_2_test1.txt',skiprows=1)\n",
    "print(a)"
   ]
  },
  {
   "cell_type": "code",
   "execution_count": 43,
   "metadata": {},
   "outputs": [
    {
     "ename": "NameError",
     "evalue": "name 'time' is not defined",
     "output_type": "error",
     "traceback": [
      "\u001b[0;31m---------------------------------------------------------------------------\u001b[0m",
      "\u001b[0;31mNameError\u001b[0m                                 Traceback (most recent call last)",
      "\u001b[0;32m<ipython-input-43-97d60bec2ba1>\u001b[0m in \u001b[0;36m<module>\u001b[0;34m()\u001b[0m\n\u001b[0;32m----> 1\u001b[0;31m \u001b[0mstart_time\u001b[0m \u001b[0;34m=\u001b[0m \u001b[0mtime\u001b[0m\u001b[0;34m.\u001b[0m\u001b[0mtime\u001b[0m\u001b[0;34m(\u001b[0m\u001b[0;34m)\u001b[0m\u001b[0;34m\u001b[0m\u001b[0m\n\u001b[0m\u001b[1;32m      2\u001b[0m \u001b[0mprint\u001b[0m\u001b[0;34m(\u001b[0m\u001b[0mtwo_sum_problem_dict\u001b[0m\u001b[0;34m(\u001b[0m\u001b[0;34m'week8_test2.txt'\u001b[0m\u001b[0;34m,\u001b[0m\u001b[0;36m0\u001b[0m\u001b[0;34m,\u001b[0m\u001b[0;36m4\u001b[0m\u001b[0;34m)\u001b[0m\u001b[0;34m)\u001b[0m\u001b[0;34m\u001b[0m\u001b[0m\n\u001b[1;32m      3\u001b[0m \u001b[0mprint\u001b[0m\u001b[0;34m(\u001b[0m\u001b[0;34m\"--- %s seconds ---\"\u001b[0m \u001b[0;34m%\u001b[0m \u001b[0;34m(\u001b[0m\u001b[0mtime\u001b[0m\u001b[0;34m.\u001b[0m\u001b[0mtime\u001b[0m\u001b[0;34m(\u001b[0m\u001b[0;34m)\u001b[0m \u001b[0;34m-\u001b[0m \u001b[0mstart_time\u001b[0m\u001b[0;34m)\u001b[0m\u001b[0;34m)\u001b[0m\u001b[0;34m\u001b[0m\u001b[0m\n\u001b[1;32m      4\u001b[0m \u001b[0mstart_time\u001b[0m \u001b[0;34m=\u001b[0m \u001b[0mtime\u001b[0m\u001b[0;34m.\u001b[0m\u001b[0mtime\u001b[0m\u001b[0;34m(\u001b[0m\u001b[0;34m)\u001b[0m\u001b[0;34m\u001b[0m\u001b[0m\n\u001b[1;32m      5\u001b[0m \u001b[0mprint\u001b[0m\u001b[0;34m(\u001b[0m\u001b[0mtwo_sum_problem_sort\u001b[0m\u001b[0;34m(\u001b[0m\u001b[0;34m'week8_test2.txt'\u001b[0m\u001b[0;34m,\u001b[0m\u001b[0;36m0\u001b[0m\u001b[0;34m,\u001b[0m\u001b[0;36m4\u001b[0m\u001b[0;34m)\u001b[0m\u001b[0;34m)\u001b[0m\u001b[0;34m\u001b[0m\u001b[0m\n",
      "\u001b[0;31mNameError\u001b[0m: name 'time' is not defined"
     ]
    }
   ],
   "source": [
    "start_time = time.time()\n",
    "print(two_sum_problem_dict('week8_test2.txt',0,4))\n",
    "print(\"--- %s seconds ---\" % (time.time() - start_time))\n",
    "start_time = time.time()\n",
    "print(two_sum_problem_sort('week8_test2.txt',0,4))\n",
    "print(\"--- %s seconds ---\" % (time.time() - start_time))\n"
   ]
  },
  {
   "cell_type": "code",
   "execution_count": 71,
   "metadata": {},
   "outputs": [
    {
     "name": "stdout",
     "output_type": "stream",
     "text": [
      "13\n",
      "--- 0.30687427520751953 seconds ---\n",
      "13\n",
      "--- 0.0005242824554443359 seconds ---\n"
     ]
    }
   ],
   "source": [
    "start_time = time.time()\n",
    "print(two_sum_problem_dict('week8_test3.txt',-10000,10000))\n",
    "print(\"--- %s seconds ---\" % (time.time() - start_time))\n",
    "start_time = time.time()\n",
    "print(two_sum_problem_sort('week8_test3.txt',-10000,10000))\n",
    "print(\"--- %s seconds ---\" % (time.time() - start_time))"
   ]
  },
  {
   "cell_type": "code",
   "execution_count": 72,
   "metadata": {},
   "outputs": [
    {
     "name": "stdout",
     "output_type": "stream",
     "text": [
      "427\n",
      "--- 2.2963762283325195 seconds ---\n"
     ]
    }
   ],
   "source": [
    "start_time = time.time()\n",
    "print(two_sum_problem_sort('week8.txt',-10000,10000)) #427\n",
    "print(\"--- %s seconds ---\" % (time.time() - start_time))"
   ]
  },
  {
   "cell_type": "code",
   "execution_count": null,
   "metadata": {
    "collapsed": true
   },
   "outputs": [],
   "source": [
    "start_time = time.time()\n",
    "print(two_sum_problem_dict('week8.txt',-10000,10000)) #427\n",
    "print(\"--- %s seconds ---\" % (time.time() - start_time))"
   ]
  },
  {
   "cell_type": "code",
   "execution_count": null,
   "metadata": {
    "collapsed": true
   },
   "outputs": [],
   "source": [
    "print(numb)"
   ]
  },
  {
   "cell_type": "code",
   "execution_count": null,
   "metadata": {
    "collapsed": true
   },
   "outputs": [],
   "source": [
    "my_dict = {}\n",
    "some_key = 1\n",
    "my_dict[some_key] = my_dict.get(some_key, 0) + 1\n"
   ]
  },
  {
   "cell_type": "code",
   "execution_count": null,
   "metadata": {
    "collapsed": true
   },
   "outputs": [],
   "source": [
    "for k,v in my_dict.items():\n",
    "    print(k,v)"
   ]
  },
  {
   "cell_type": "code",
   "execution_count": null,
   "metadata": {
    "collapsed": true
   },
   "outputs": [],
   "source": [
    "my_dict[some_key] = my_dict.get(some_key, 0) + 1"
   ]
  },
  {
   "cell_type": "code",
   "execution_count": null,
   "metadata": {
    "collapsed": true
   },
   "outputs": [],
   "source": [
    "for k,v in my_dict.items():\n",
    "    print(k,v)"
   ]
  },
  {
   "cell_type": "code",
   "execution_count": null,
   "metadata": {
    "collapsed": true
   },
   "outputs": [],
   "source": [
    "for k in my_dict.keys():\n",
    "    print(k)"
   ]
  },
  {
   "cell_type": "code",
   "execution_count": null,
   "metadata": {
    "collapsed": true
   },
   "outputs": [],
   "source": [
    " np.searchsort[x+1 for x in mylist]ed([1,2,3,4,5], 2,'left')"
   ]
  },
  {
   "cell_type": "code",
   "execution_count": null,
   "metadata": {
    "collapsed": true
   },
   "outputs": [],
   "source": [
    " np.searchsorted([1,2,3,4,5], 4,'right')"
   ]
  },
  {
   "cell_type": "code",
   "execution_count": null,
   "metadata": {
    "collapsed": true
   },
   "outputs": [],
   "source": [
    "rng = np.arange(1,4)"
   ]
  },
  {
   "cell_type": "code",
   "execution_count": null,
   "metadata": {
    "collapsed": true
   },
   "outputs": [],
   "source": [
    "print(rng)"
   ]
  },
  {
   "cell_type": "code",
   "execution_count": 9,
   "metadata": {
    "collapsed": true
   },
   "outputs": [],
   "source": [
    "arr = [2,3,3,4,5,122,3,4]\n",
    "arr.sort()"
   ]
  },
  {
   "cell_type": "code",
   "execution_count": 11,
   "metadata": {},
   "outputs": [
    {
     "ename": "TypeError",
     "evalue": "unorderable types: int() < list()",
     "output_type": "error",
     "traceback": [
      "\u001b[0;31m---------------------------------------------------------------------------\u001b[0m",
      "\u001b[0;31mTypeError\u001b[0m                                 Traceback (most recent call last)",
      "\u001b[0;32m<ipython-input-11-f764dc5ff67f>\u001b[0m in \u001b[0;36m<module>\u001b[0;34m()\u001b[0m\n\u001b[0;32m----> 1\u001b[0;31m \u001b[0marr\u001b[0m\u001b[0;34m[\u001b[0m\u001b[0mnp\u001b[0m\u001b[0;34m.\u001b[0m\u001b[0mwhere\u001b[0m\u001b[0;34m(\u001b[0m\u001b[0;36m4\u001b[0m\u001b[0;34m<\u001b[0m\u001b[0marr\u001b[0m\u001b[0;34m<\u001b[0m\u001b[0;36m8\u001b[0m\u001b[0;34m)\u001b[0m\u001b[0;34m]\u001b[0m\u001b[0;34m\u001b[0m\u001b[0m\n\u001b[0m",
      "\u001b[0;31mTypeError\u001b[0m: unorderable types: int() < list()"
     ]
    }
   ],
   "source": [
    "arr[np.where(4<arr<8)]"
   ]
  },
  {
   "cell_type": "code",
   "execution_count": 12,
   "metadata": {
    "collapsed": true
   },
   "outputs": [],
   "source": [
    "a = np.array([1,2,3,4,5,6,7,8,9])\n",
    "b = a[(a>2) & (a<8)]"
   ]
  },
  {
   "cell_type": "code",
   "execution_count": 18,
   "metadata": {},
   "outputs": [
    {
     "data": {
      "text/plain": [
       "array([3, 4, 5, 6, 7])"
      ]
     },
     "execution_count": 18,
     "metadata": {},
     "output_type": "execute_result"
    }
   ],
   "source": [
    "b"
   ]
  },
  {
   "cell_type": "code",
   "execution_count": 19,
   "metadata": {},
   "outputs": [
    {
     "data": {
      "text/plain": [
       "array([ 6,  7,  8,  9, 10])"
      ]
     },
     "execution_count": 19,
     "metadata": {},
     "output_type": "execute_result"
    }
   ],
   "source": [
    "b + 3"
   ]
  },
  {
   "cell_type": "code",
   "execution_count": 48,
   "metadata": {
    "collapsed": true
   },
   "outputs": [],
   "source": [
    "import bisect"
   ]
  },
  {
   "cell_type": "code",
   "execution_count": 50,
   "metadata": {},
   "outputs": [
    {
     "data": {
      "text/plain": [
       "2"
      ]
     },
     "execution_count": 50,
     "metadata": {},
     "output_type": "execute_result"
    }
   ],
   "source": [
    " bisect.bisect_right([1, 5, 9, 12, 18, 35], 6)"
   ]
  },
  {
   "cell_type": "code",
   "execution_count": null,
   "metadata": {
    "collapsed": true
   },
   "outputs": [],
   "source": []
  }
 ],
 "metadata": {
  "kernelspec": {
   "display_name": "Python 3",
   "language": "python",
   "name": "python3"
  },
  "language_info": {
   "codemirror_mode": {
    "name": "ipython",
    "version": 3
   },
   "file_extension": ".py",
   "mimetype": "text/x-python",
   "name": "python",
   "nbconvert_exporter": "python",
   "pygments_lexer": "ipython3",
   "version": "3.6.3"
  }
 },
 "nbformat": 4,
 "nbformat_minor": 2
}
