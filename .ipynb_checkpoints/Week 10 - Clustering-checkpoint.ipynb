{
 "cells": [
  {
   "cell_type": "code",
   "execution_count": 1,
   "metadata": {
    "collapsed": true
   },
   "outputs": [],
   "source": [
    "import time\n",
    "import numpy as np\n",
    "import itertools\n",
    "np.set_printoptions(suppress=True)"
   ]
  },
  {
   "cell_type": "markdown",
   "metadata": {},
   "source": [
    "In this programming problem and the next you'll code up the clustering algorithm from lecture for computing a max-spacing \n",
    "k\n",
    "k-clustering.\n",
    "\n",
    "Download the text file below.\n",
    "\n",
    "This file describes a distance function (equivalently, a complete graph with edge costs). It has the following format:\n",
    "\n",
    "[number_of_nodes]\n",
    "\n",
    "[edge 1 node 1] [edge 1 node 2] [edge 1 cost]\n",
    "\n",
    "[edge 2 node 1] [edge 2 node 2] [edge 2 cost]\n",
    "\n",
    "...\n",
    "\n",
    "There is one edge \n",
    "(\n",
    "i\n",
    ",\n",
    "j\n",
    ")\n",
    "(i,j) for each choice of \n",
    "1\n",
    "≤\n",
    "i\n",
    "<\n",
    "j\n",
    "≤\n",
    "n\n",
    "1≤i<j≤n, where \n",
    "n\n",
    "n is the number of nodes.\n",
    "\n",
    "For example, the third line of the file is \"1 3 5250\", indicating that the distance between nodes 1 and 3 (equivalently, the cost of the edge (1,3)) is 5250. You can assume that distances are positive, but you should NOT assume that they are distinct.\n",
    "\n",
    "Your task in this problem is to run the clustering algorithm from lecture on this data set, where the target number \n",
    "k\n",
    "k of clusters is set to 4. What is the maximum spacing of a 4-clustering?\n",
    "\n",
    "ADVICE: If you're not getting the correct answer, try debugging your algorithm using some small test cases. And then post them to the discussion forum!"
   ]
  },
  {
   "cell_type": "code",
   "execution_count": 2,
   "metadata": {
    "collapsed": true
   },
   "outputs": [],
   "source": [
    "class UnionFind:\n",
    "    \"\"\"Weighted quick-union with path compression.\n",
    "    The original Java implementation is introduced at\n",
    "    https://www.cs.princeton.edu/~rs/AlgsDS07/01UnionFind.pdf\n",
    "    >>> uf = UnionFind(10)\n",
    "    >>> for (p, q) in [(3, 4), (4, 9), (8, 0), (2, 3), (5, 6), (5, 9),\n",
    "    ...                (7, 3), (4, 8), (6, 1)]:\n",
    "    ...     uf.union(p, q)\n",
    "    >>> uf._parent\n",
    "    [8, 3, 3, 3, 3, 3, 3, 3, 3, 3]\n",
    "    >>> uf.find(0, 1)\n",
    "    True\n",
    "    >>> uf._parent\n",
    "    [3, 3, 3, 3, 3, 3, 3, 3, 3, 3]\n",
    "    \"\"\"\n",
    "        \n",
    "    def __init__(self,n):\n",
    "        self._parent = list(range(n))\n",
    "        self._sz = [1]*n\n",
    "        self.n_comps = n\n",
    "    \n",
    "    def find(self,i):\n",
    "        j = i\n",
    "        while (j != self._parent[j]): #if it is not root\n",
    "            self._parent[j] = self._parent[self._parent[j]] #install shortcut to the grandparents\n",
    "            j = self._parent[j]\n",
    "        return j\n",
    "\n",
    "    def connected(self,p,q):\n",
    "        return self.find(p) == self.find(q)\n",
    "    \n",
    "    def union(self,p,q):\n",
    "        i = self.find(p)\n",
    "        j = self.find(q)\n",
    "        if i == j:\n",
    "            return\n",
    "        elif (self._sz[i] < self._sz[j]):\n",
    "            self._parent[i] = j\n",
    "            self._sz[j] += self._sz[i]\n",
    "            self.n_comps -=1\n",
    "        else:\n",
    "            self._parent[j] = i\n",
    "            self._sz[i] += self._sz[j]\n",
    "            self.n_comps -=1"
   ]
  },
  {
   "cell_type": "code",
   "execution_count": 3,
   "metadata": {
    "collapsed": true
   },
   "outputs": [],
   "source": [
    "def clustering(filename,k):\n",
    "    first = True\n",
    "    with open('week10_file/'+filename) as f:\n",
    "        graph = []\n",
    "        for line in f:\n",
    "            line = line.split() # to deal with blank \n",
    "            if line and not first:            # lines (ie skip them)\n",
    "                v = int(line[0])\n",
    "                w = int(line[1])\n",
    "                cost = int(line[2])\n",
    "                graph.append([v,w,cost])\n",
    "            else:\n",
    "                num_nodes = int(line[0])\n",
    "                first = False\n",
    "\n",
    "    graph = sorted(graph,key=lambda t: t[2])\n",
    "    uf = UnionFind(num_nodes+1)\n",
    "    counter = 0\n",
    "    while (uf.n_comps-1) != k: #index of UF start from 1\n",
    "        p,q,cost = graph[counter]\n",
    "        uf.union(p,q)\n",
    "        counter+=1\n",
    "    \n",
    "    for i in range(counter,len(graph)):\n",
    "        p,q,cost = graph[i]\n",
    "        if uf.connected(p,q) == False:\n",
    "            spacing = cost\n",
    "            break\n",
    "            \n",
    "    return spacing"
   ]
  },
  {
   "cell_type": "code",
   "execution_count": 4,
   "metadata": {},
   "outputs": [
    {
     "name": "stdout",
     "output_type": "stream",
     "text": [
      "5\n",
      "--- 0.003537893295288086 seconds ---\n",
      "2\n",
      "--- 0.0013532638549804688 seconds ---\n",
      "1\n",
      "--- 0.0008089542388916016 seconds ---\n"
     ]
    }
   ],
   "source": [
    "start_time = time.time()\n",
    "print(clustering('week10_1_test1.txt',2)) #5\n",
    "print(\"--- %s seconds ---\" % (time.time() - start_time))\n",
    "start_time = time.time()\n",
    "print(clustering('week10_1_test1.txt',3)) #2\n",
    "print(\"--- %s seconds ---\" % (time.time() - start_time))\n",
    "start_time = time.time()\n",
    "print(clustering('week10_1_test1.txt',5)) #1\n",
    "print(\"--- %s seconds ---\" % (time.time() - start_time))"
   ]
  },
  {
   "cell_type": "code",
   "execution_count": 5,
   "metadata": {},
   "outputs": [
    {
     "name": "stdout",
     "output_type": "stream",
     "text": [
      "8\n",
      "--- 0.00238800048828125 seconds ---\n",
      "4\n",
      "--- 0.0005519390106201172 seconds ---\n",
      "1\n",
      "--- 0.0012269020080566406 seconds ---\n"
     ]
    }
   ],
   "source": [
    "start_time = time.time()\n",
    "print(clustering('week10_1_test2.txt',2)) #8\n",
    "print(\"--- %s seconds ---\" % (time.time() - start_time))\n",
    "start_time = time.time()\n",
    "print(clustering('week10_1_test2.txt',3)) #4\n",
    "print(\"--- %s seconds ---\" % (time.time() - start_time))\n",
    "start_time = time.time()\n",
    "print(clustering('week10_1_test2.txt',4)) #1\n",
    "print(\"--- %s seconds ---\" % (time.time() - start_time))"
   ]
  },
  {
   "cell_type": "code",
   "execution_count": 6,
   "metadata": {},
   "outputs": [
    {
     "name": "stdout",
     "output_type": "stream",
     "text": [
      "100\n",
      "--- 0.0018990039825439453 seconds ---\n"
     ]
    }
   ],
   "source": [
    "start_time = time.time()\n",
    "print(clustering('week10_1_test3.txt',2)) #100\n",
    "print(\"--- %s seconds ---\" % (time.time() - start_time))"
   ]
  },
  {
   "cell_type": "code",
   "execution_count": 7,
   "metadata": {},
   "outputs": [
    {
     "name": "stdout",
     "output_type": "stream",
     "text": [
      "106\n",
      "--- 0.8143727779388428 seconds ---\n"
     ]
    }
   ],
   "source": [
    "start_time = time.time()\n",
    "print(clustering('week10_1.txt',4)) #106\n",
    "print(\"--- %s seconds ---\" % (time.time() - start_time))"
   ]
  },
  {
   "cell_type": "markdown",
   "metadata": {},
   "source": [
    "In this question your task is again to run the clustering algorithm from lecture, but on a MUCH bigger graph. So big, in fact, that the distances (i.e., edge costs) are only defined implicitly, rather than being provided as an explicit list.\n",
    "\n",
    "The data set is below.\n",
    "\n",
    "The format is:\n",
    "\n",
    "[# of nodes] [# of bits for each node's label]\n",
    "\n",
    "[first bit of node 1] ... [last bit of node 1]\n",
    "\n",
    "[first bit of node 2] ... [last bit of node 2]\n",
    "\n",
    "...\n",
    "\n",
    "For example, the third line of the file \"0 1 1 0 0 1 1 0 0 1 0 1 1 1 1 1 1 0 1 0 1 1 0 1\" denotes the 24 bits associated with node #2.\n",
    "\n",
    "The distance between two nodes \n",
    "u\n",
    "u and \n",
    "v\n",
    "v in this problem is defined as the Hamming distance--- the number of differing bits --- between the two nodes' labels. For example, the Hamming distance between the 24-bit label of node #2 above and the label \"0 1 0 0 0 1 0 0 0 1 0 1 1 1 1 1 1 0 1 0 0 1 0 1\" is 3 (since they differ in the 3rd, 7th, and 21st bits).\n",
    "\n",
    "The question is: what is the largest value of \n",
    "k\n",
    "k such that there is a \n",
    "k\n",
    "k-clustering with spacing at least 3? That is, how many clusters are needed to ensure that no pair of nodes with all but 2 bits in common get split into different clusters?\n",
    "\n",
    "NOTE: The graph implicitly defined by the data file is so big that you probably can't write it out explicitly, let alone sort the edges by cost. So you will have to be a little creative to complete this part of the question. For example, is there some way you can identify the smallest distances without explicitly looking at every pair of nodes?\n",
    "\n"
   ]
  },
  {
   "cell_type": "code",
   "execution_count": 403,
   "metadata": {
    "collapsed": true
   },
   "outputs": [],
   "source": [
    "def generate_bit_recursive(bit,i,changesLeft,generated_bit,G):\n",
    "    if changesLeft == 0:\n",
    "        bit_str = ''.join(bit)\n",
    "        if G.get(bit_str) != None:\n",
    "            generated_bit.append(bit_str)\n",
    "        return generated_bit\n",
    "    \n",
    "    if i < 0:\n",
    "        return generated_bit\n",
    "    \n",
    "    if bit[i] == '0':\n",
    "        bit[i] = '1'\n",
    "    else:\n",
    "        bit[i] = '0'\n",
    "    \n",
    "    generated_bit = generate_bit_recursive(bit,i-1,changesLeft-1,generated_bit,G)\n",
    "    \n",
    "    if bit[i] == '0':\n",
    "        bit[i] = '1'\n",
    "    else:\n",
    "        bit[i] = '0'\n",
    "    generated_bit = generate_bit_recursive(bit,i-1,changesLeft,generated_bit,G)\n",
    "    \n",
    "    return generated_bit\n",
    "    "
   ]
  },
  {
   "cell_type": "code",
   "execution_count": 404,
   "metadata": {
    "collapsed": true
   },
   "outputs": [],
   "source": [
    "def clustering_big(filename,min_dist):\n",
    "    first = True\n",
    "    vertex_no = 0\n",
    "    G = {}\n",
    "    with open('week10_file/'+filename) as f:\n",
    "        for line in f:\n",
    "            if line and not first:            # lines (ie skip them)\n",
    "                line = line.strip()\n",
    "                bit = line.replace(\" \", \"\")\n",
    "                if G.get(bit) == None:\n",
    "                    G[bit] = vertex_no\n",
    "                else:\n",
    "                    uf.union(vertex_no,G[bit])\n",
    "                vertex_no +=1\n",
    "            else:\n",
    "                line = line.split()\n",
    "                num_nodes = int(line[0])\n",
    "                num_bits = int(line[1])\n",
    "                uf = UnionFind(num_nodes) \n",
    "                first = False\n",
    "\n",
    "    for bit in G.keys():\n",
    "        for i in range(min_dist):\n",
    "            result = generate_bit_recursive(list(bit),len(bit)-1,i,[],G)\n",
    "            for bit_generated in result:\n",
    "                if G.get(bit_generated) != None:\n",
    "                    uf.union(G[bit],G[bit_generated])          \n",
    "    return uf.n_comps"
   ]
  },
  {
   "cell_type": "code",
   "execution_count": 405,
   "metadata": {},
   "outputs": [
    {
     "name": "stdout",
     "output_type": "stream",
     "text": [
      "2\n",
      "--- 0.00949406623840332 seconds ---\n"
     ]
    }
   ],
   "source": [
    "start_time = time.time()\n",
    "print(clustering_big('week10_2_test1.txt',3)) #2\n",
    "print(\"--- %s seconds ---\" % (time.time() - start_time))"
   ]
  },
  {
   "cell_type": "code",
   "execution_count": 406,
   "metadata": {},
   "outputs": [
    {
     "name": "stdout",
     "output_type": "stream",
     "text": [
      "6\n",
      "--- 0.010624885559082031 seconds ---\n"
     ]
    }
   ],
   "source": [
    "start_time = time.time()\n",
    "print(clustering_big('week10_2_test2.txt',3)) #6\n",
    "print(\"--- %s seconds ---\" % (time.time() - start_time))"
   ]
  },
  {
   "cell_type": "code",
   "execution_count": 407,
   "metadata": {},
   "outputs": [
    {
     "name": "stdout",
     "output_type": "stream",
     "text": [
      "6118\n",
      "--- 107.31809592247009 seconds ---\n"
     ]
    }
   ],
   "source": [
    "start_time = time.time()\n",
    "print(clustering_big('week10_2.txt',3)) #6118\n",
    "print(\"--- %s seconds ---\" % (time.time() - start_time))"
   ]
  },
  {
   "cell_type": "code",
   "execution_count": null,
   "metadata": {
    "collapsed": true
   },
   "outputs": [],
   "source": [
    "import itertools"
   ]
  },
  {
   "cell_type": "code",
   "execution_count": 178,
   "metadata": {},
   "outputs": [
    {
     "name": "stdout",
     "output_type": "stream",
     "text": [
      "0 0\n",
      "0 1\n",
      "0 1\n"
     ]
    }
   ],
   "source": [
    "for pair in itertools.combinations('001', 2):\n",
    "        bit_1, bit_2 = pair\n",
    "        print(bit_1,bit_2)"
   ]
  },
  {
   "cell_type": "code",
   "execution_count": 174,
   "metadata": {},
   "outputs": [
    {
     "data": {
      "text/plain": [
       "('0', '0', '1')"
      ]
     },
     "execution_count": 174,
     "metadata": {},
     "output_type": "execute_result"
    }
   ],
   "source": [
    "tuple('001')"
   ]
  },
  {
   "cell_type": "code",
   "execution_count": 175,
   "metadata": {},
   "outputs": [
    {
     "ename": "SyntaxError",
     "evalue": "invalid token (<ipython-input-175-7b9d5caf2546>, line 1)",
     "output_type": "error",
     "traceback": [
      "\u001b[0;36m  File \u001b[0;32m\"<ipython-input-175-7b9d5caf2546>\"\u001b[0;36m, line \u001b[0;32m1\u001b[0m\n\u001b[0;31m    tuple(001)\u001b[0m\n\u001b[0m            ^\u001b[0m\n\u001b[0;31mSyntaxError\u001b[0m\u001b[0;31m:\u001b[0m invalid token\n"
     ]
    }
   ],
   "source": [
    "tuple(001)"
   ]
  },
  {
   "cell_type": "code",
   "execution_count": 176,
   "metadata": {
    "collapsed": true
   },
   "outputs": [],
   "source": [
    "a = tuple('001')"
   ]
  },
  {
   "cell_type": "code",
   "execution_count": 177,
   "metadata": {},
   "outputs": [
    {
     "ename": "TypeError",
     "evalue": "'tuple' object does not support item assignment",
     "output_type": "error",
     "traceback": [
      "\u001b[0;31m---------------------------------------------------------------------------\u001b[0m",
      "\u001b[0;31mTypeError\u001b[0m                                 Traceback (most recent call last)",
      "\u001b[0;32m<ipython-input-177-e2dc68fcab65>\u001b[0m in \u001b[0;36m<module>\u001b[0;34m()\u001b[0m\n\u001b[0;32m----> 1\u001b[0;31m \u001b[0ma\u001b[0m\u001b[0;34m[\u001b[0m\u001b[0;36m1\u001b[0m\u001b[0;34m]\u001b[0m \u001b[0;34m=\u001b[0m \u001b[0;36m1\u001b[0m\u001b[0;34m\u001b[0m\u001b[0m\n\u001b[0m",
      "\u001b[0;31mTypeError\u001b[0m: 'tuple' object does not support item assignment"
     ]
    }
   ],
   "source": [
    "a[1] = 1"
   ]
  },
  {
   "cell_type": "code",
   "execution_count": 184,
   "metadata": {
    "collapsed": true
   },
   "outputs": [],
   "source": [
    "a = list('001')"
   ]
  },
  {
   "cell_type": "code",
   "execution_count": 188,
   "metadata": {
    "collapsed": true
   },
   "outputs": [],
   "source": [
    "a[1] ='1'"
   ]
  },
  {
   "cell_type": "code",
   "execution_count": 189,
   "metadata": {},
   "outputs": [
    {
     "data": {
      "text/plain": [
       "['0', '1', '1']"
      ]
     },
     "execution_count": 189,
     "metadata": {},
     "output_type": "execute_result"
    }
   ],
   "source": [
    "a"
   ]
  },
  {
   "cell_type": "code",
   "execution_count": 191,
   "metadata": {},
   "outputs": [
    {
     "data": {
      "text/plain": [
       "'011'"
      ]
     },
     "execution_count": 191,
     "metadata": {},
     "output_type": "execute_result"
    }
   ],
   "source": [
    "''.join(a)"
   ]
  },
  {
   "cell_type": "code",
   "execution_count": 213,
   "metadata": {},
   "outputs": [
    {
     "data": {
      "text/plain": [
       "0"
      ]
     },
     "execution_count": 213,
     "metadata": {},
     "output_type": "execute_result"
    }
   ],
   "source": [
    "0 ^ 0"
   ]
  },
  {
   "cell_type": "code",
   "execution_count": 214,
   "metadata": {},
   "outputs": [
    {
     "data": {
      "text/plain": [
       "0"
      ]
     },
     "execution_count": 214,
     "metadata": {},
     "output_type": "execute_result"
    }
   ],
   "source": [
    "1 ^ 1"
   ]
  },
  {
   "cell_type": "code",
   "execution_count": 220,
   "metadata": {},
   "outputs": [
    {
     "name": "stdout",
     "output_type": "stream",
     "text": [
      "010\n"
     ]
    }
   ],
   "source": [
    "a = \"110\"\n",
    "b = \"100\"\n",
    "y = int(a, 2)^int(b,2)\n",
    "print(bin(y)[2:].zfill(len(a)))"
   ]
  },
  {
   "cell_type": "code",
   "execution_count": 382,
   "metadata": {},
   "outputs": [],
   "source": [
    "def precompute_bit(length,max_dist):\n",
    "    precomputed_bit = []\n",
    "    for i in itertools.product(['0', '1'], repeat=length):\n",
    "        if sum(list(map(int,i))) <= max_dist:\n",
    "            bit_str = ''.join(i)\n",
    "            precomputed_bit.append(int(bit_str,2))\n",
    "    return precomputed_bit"
   ]
  },
  {
   "cell_type": "code",
   "execution_count": 390,
   "metadata": {
    "collapsed": true
   },
   "outputs": [],
   "source": [
    "def generate_bit_iterative(bit,max_dist,precomputed_bit):\n",
    "    generated_bit = np.bitwise_xor(precomputed_bit,bit)\n",
    "    #generated_bit = [np.binary_repr(i,width=len_bit) for i in generated_bit]\n",
    "    #generated_bit.append(bin(xor_result)[2:].zfill(len_bit))\n",
    "            \n",
    "    return generated_bit\n",
    "    "
   ]
  },
  {
   "cell_type": "code",
   "execution_count": 426,
   "metadata": {
    "collapsed": true
   },
   "outputs": [],
   "source": [
    "def clustering_big_2(filename,min_dist):\n",
    "    first = True\n",
    "    vertex_no = 0\n",
    "    G = {}\n",
    "    with open('week10_file/'+filename) as f:\n",
    "        for line in f:\n",
    "            if line and not first:            # lines (ie skip them)\n",
    "                line = line.strip()\n",
    "                bit = line.replace(\" \", \"\")\n",
    "                bit = int(bit,2)\n",
    "                if G.get(bit) == None:\n",
    "                    G[bit] = vertex_no\n",
    "                else:\n",
    "                    uf.union(vertex_no,G[bit])\n",
    "                vertex_no +=1\n",
    "            else:\n",
    "                line = line.split()\n",
    "                num_nodes = int(line[0])\n",
    "                num_bits = int(line[1])\n",
    "                uf = UnionFind(num_nodes) \n",
    "                first = False\n",
    "                \n",
    "    precomputed_bit = precompute_bit(num_bits,min_dist-1)\n",
    "    for bit in G.keys():\n",
    "        for i in range(min_dist):\n",
    "            result = generate_bit_iterative(bit,min_dist-1,precomputed_bit)\n",
    "            for bit_generated in result:\n",
    "                if G.get(bit_generated) != None:\n",
    "                    uf.union(G[bit],G[bit_generated])          \n",
    "    return uf.n_comps"
   ]
  },
  {
   "cell_type": "code",
   "execution_count": 429,
   "metadata": {},
   "outputs": [
    {
     "name": "stdout",
     "output_type": "stream",
     "text": [
      "6\n",
      "--- 90.89142441749573 seconds ---\n"
     ]
    }
   ],
   "source": [
    "start_time = time.time()\n",
    "print(clustering_big_2('week10_2_test2.txt',3)) #6118\n",
    "print(\"--- %s seconds ---\" % (time.time() - start_time))"
   ]
  },
  {
   "cell_type": "code",
   "execution_count": 331,
   "metadata": {
    "collapsed": true
   },
   "outputs": [],
   "source": [
    "def precompute_bit_2(length,max_dist):\n",
    "    precomputed_bit = []\n",
    "    for i in itertools.product([0, 1], repeat=length):\n",
    "        if sum(i) <= max_dist:\n",
    "            precomputed_bit.append(list(i))\n",
    "    return precomputed_bit"
   ]
  },
  {
   "cell_type": "code",
   "execution_count": 360,
   "metadata": {},
   "outputs": [
    {
     "name": "stdout",
     "output_type": "stream",
     "text": [
      "0\n",
      "1\n",
      "2\n",
      "3\n",
      "4\n",
      "5\n",
      "6\n",
      "8\n",
      "9\n",
      "10\n",
      "12\n"
     ]
    },
    {
     "data": {
      "text/plain": [
       "['0000',\n",
       " '0001',\n",
       " '0010',\n",
       " '0011',\n",
       " '0100',\n",
       " '0101',\n",
       " '0110',\n",
       " '1000',\n",
       " '1001',\n",
       " '1010',\n",
       " '1100']"
      ]
     },
     "execution_count": 360,
     "metadata": {},
     "output_type": "execute_result"
    }
   ],
   "source": [
    "precompute_bit(4,2)"
   ]
  },
  {
   "cell_type": "code",
   "execution_count": null,
   "metadata": {
    "collapsed": true
   },
   "outputs": [],
   "source": [
    "def generate_bit_iterative_2(bit,max_dist):\n",
    "    bit_bin = int(bit,2)\n",
    "    len_bit = len(bit)\n",
    "    precomputed_bit = precompute_bit(len(bit),max_dist)\n",
    "    generated_bit = [ for bit in precomputed_bit]\n",
    "    #generated_bit.append(bin(xor_result)[2:].zfill(len_bit))\n",
    "            \n",
    "    return generated_bit\n",
    "    "
   ]
  },
  {
   "cell_type": "code",
   "execution_count": 351,
   "metadata": {},
   "outputs": [],
   "source": [
    "def generate_bit_iterative(bit,max_dist,precomputed_bit):\n",
    "    bit_bin = int(bit,2)\n",
    "    len_bit = len(bit)\n",
    "    print(precomputed_bit)\n",
    "    generated_bit = np.binary_repr(np.bitwise_xor(precomputed_bit,bit_bin))\n",
    "    #generated_bit.append(bin(xor_result)[2:].zfill(len_bit))\n",
    "            \n",
    "    return generated_bit\n",
    "    "
   ]
  },
  {
   "cell_type": "code",
   "execution_count": 352,
   "metadata": {},
   "outputs": [
    {
     "name": "stdout",
     "output_type": "stream",
     "text": [
      "['000', '001', '010', '011', '100', '101', '110']\n"
     ]
    },
    {
     "ename": "TypeError",
     "evalue": "ufunc 'bitwise_xor' not supported for the input types, and the inputs could not be safely coerced to any supported types according to the casting rule ''safe''",
     "output_type": "error",
     "traceback": [
      "\u001b[0;31m---------------------------------------------------------------------------\u001b[0m",
      "\u001b[0;31mTypeError\u001b[0m                                 Traceback (most recent call last)",
      "\u001b[0;32m<ipython-input-352-d344fddc2869>\u001b[0m in \u001b[0;36m<module>\u001b[0;34m()\u001b[0m\n\u001b[1;32m      2\u001b[0m \u001b[0;32mfor\u001b[0m \u001b[0mi\u001b[0m \u001b[0;32min\u001b[0m \u001b[0mrange\u001b[0m\u001b[0;34m(\u001b[0m\u001b[0;36m100000\u001b[0m\u001b[0;34m)\u001b[0m\u001b[0;34m:\u001b[0m\u001b[0;34m\u001b[0m\u001b[0m\n\u001b[1;32m      3\u001b[0m     \u001b[0mprecomputed_bit\u001b[0m \u001b[0;34m=\u001b[0m \u001b[0mprecompute_bit\u001b[0m\u001b[0;34m(\u001b[0m\u001b[0mlen\u001b[0m\u001b[0;34m(\u001b[0m\u001b[0;34m'011'\u001b[0m\u001b[0;34m)\u001b[0m\u001b[0;34m,\u001b[0m\u001b[0;36m2\u001b[0m\u001b[0;34m)\u001b[0m\u001b[0;34m\u001b[0m\u001b[0m\n\u001b[0;32m----> 4\u001b[0;31m     \u001b[0mgenerate_bit_iterative\u001b[0m\u001b[0;34m(\u001b[0m\u001b[0;34m'011'\u001b[0m\u001b[0;34m,\u001b[0m\u001b[0;36m2\u001b[0m\u001b[0;34m,\u001b[0m\u001b[0mprecomputed_bit\u001b[0m\u001b[0;34m)\u001b[0m\u001b[0;34m\u001b[0m\u001b[0m\n\u001b[0m\u001b[1;32m      5\u001b[0m \u001b[0mprint\u001b[0m\u001b[0;34m(\u001b[0m\u001b[0;34m\"--- %s seconds ---\"\u001b[0m \u001b[0;34m%\u001b[0m \u001b[0;34m(\u001b[0m\u001b[0mtime\u001b[0m\u001b[0;34m.\u001b[0m\u001b[0mtime\u001b[0m\u001b[0;34m(\u001b[0m\u001b[0;34m)\u001b[0m \u001b[0;34m-\u001b[0m \u001b[0mstart_time\u001b[0m\u001b[0;34m)\u001b[0m\u001b[0;34m)\u001b[0m\u001b[0;34m\u001b[0m\u001b[0m\n",
      "\u001b[0;32m<ipython-input-351-73af215849c1>\u001b[0m in \u001b[0;36mgenerate_bit_iterative\u001b[0;34m(bit, max_dist, precomputed_bit)\u001b[0m\n\u001b[1;32m      3\u001b[0m     \u001b[0mlen_bit\u001b[0m \u001b[0;34m=\u001b[0m \u001b[0mlen\u001b[0m\u001b[0;34m(\u001b[0m\u001b[0mbit\u001b[0m\u001b[0;34m)\u001b[0m\u001b[0;34m\u001b[0m\u001b[0m\n\u001b[1;32m      4\u001b[0m     \u001b[0mprint\u001b[0m\u001b[0;34m(\u001b[0m\u001b[0mprecomputed_bit\u001b[0m\u001b[0;34m)\u001b[0m\u001b[0;34m\u001b[0m\u001b[0m\n\u001b[0;32m----> 5\u001b[0;31m     \u001b[0mgenerated_bit\u001b[0m \u001b[0;34m=\u001b[0m \u001b[0mnp\u001b[0m\u001b[0;34m.\u001b[0m\u001b[0mbinary_repr\u001b[0m\u001b[0;34m(\u001b[0m\u001b[0mnp\u001b[0m\u001b[0;34m.\u001b[0m\u001b[0mbitwise_xor\u001b[0m\u001b[0;34m(\u001b[0m\u001b[0mprecomputed_bit\u001b[0m\u001b[0;34m,\u001b[0m\u001b[0mbit_bin\u001b[0m\u001b[0;34m)\u001b[0m\u001b[0;34m)\u001b[0m\u001b[0;34m\u001b[0m\u001b[0m\n\u001b[0m\u001b[1;32m      6\u001b[0m     \u001b[0;31m#generated_bit.append(bin(xor_result)[2:].zfill(len_bit))\u001b[0m\u001b[0;34m\u001b[0m\u001b[0;34m\u001b[0m\u001b[0m\n\u001b[1;32m      7\u001b[0m \u001b[0;34m\u001b[0m\u001b[0m\n",
      "\u001b[0;31mTypeError\u001b[0m: ufunc 'bitwise_xor' not supported for the input types, and the inputs could not be safely coerced to any supported types according to the casting rule ''safe''"
     ]
    }
   ],
   "source": [
    "start_time = time.time()\n",
    "for i in range(100000):\n",
    "    precomputed_bit = precompute_bit(len('011'),2)\n",
    "    generate_bit_iterative('011',2,precomputed_bit)\n",
    "print(\"--- %s seconds ---\" % (time.time() - start_time))"
   ]
  },
  {
   "cell_type": "code",
   "execution_count": 346,
   "metadata": {},
   "outputs": [
    {
     "name": "stdout",
     "output_type": "stream",
     "text": [
      "--- 0.928779125213623 seconds ---\n"
     ]
    }
   ],
   "source": [
    "start_time = time.time()\n",
    "for i in range(100000):\n",
    "    generate_bit_recursive(list('011'),2,2,[],{})\n",
    "    generate_bit_recursive(list('011'),2,1,[],{})\n",
    "    \n",
    "print(\"--- %s seconds ---\" % (time.time() - start_time))"
   ]
  },
  {
   "cell_type": "code",
   "execution_count": 265,
   "metadata": {},
   "outputs": [],
   "source": [
    "lst = [i for i in itertools.product([0, 1], repeat=3) if sum(i) == 1 or sum (i) == 2 ]"
   ]
  },
  {
   "cell_type": "code",
   "execution_count": 266,
   "metadata": {},
   "outputs": [
    {
     "data": {
      "text/plain": [
       "[(0, 0, 1), (0, 1, 0), (0, 1, 1), (1, 0, 0), (1, 0, 1), (1, 1, 0)]"
      ]
     },
     "execution_count": 266,
     "metadata": {},
     "output_type": "execute_result"
    }
   ],
   "source": [
    "lst"
   ]
  },
  {
   "cell_type": "code",
   "execution_count": 254,
   "metadata": {},
   "outputs": [],
   "source": [
    "rest = list(map(str,lst))"
   ]
  },
  {
   "cell_type": "code",
   "execution_count": 255,
   "metadata": {},
   "outputs": [
    {
     "data": {
      "text/plain": [
       "['[0, 0, 1]', '[0, 1, 0]', '[0, 1, 1]', '[1, 0, 0]', '[1, 0, 1]', '[1, 1, 0]']"
      ]
     },
     "execution_count": 255,
     "metadata": {},
     "output_type": "execute_result"
    }
   ],
   "source": [
    "rest"
   ]
  },
  {
   "cell_type": "code",
   "execution_count": 263,
   "metadata": {},
   "outputs": [
    {
     "data": {
      "text/plain": [
       "4"
      ]
     },
     "execution_count": 263,
     "metadata": {},
     "output_type": "execute_result"
    }
   ],
   "source": [
    "int('100',2)"
   ]
  },
  {
   "cell_type": "code",
   "execution_count": 264,
   "metadata": {},
   "outputs": [
    {
     "data": {
      "text/plain": [
       "6"
      ]
     },
     "execution_count": 264,
     "metadata": {},
     "output_type": "execute_result"
    }
   ],
   "source": [
    "int('110',2)"
   ]
  },
  {
   "cell_type": "code",
   "execution_count": 274,
   "metadata": {},
   "outputs": [
    {
     "data": {
      "text/plain": [
       "1"
      ]
     },
     "execution_count": 274,
     "metadata": {},
     "output_type": "execute_result"
    }
   ],
   "source": [
    "1^0"
   ]
  },
  {
   "cell_type": "code",
   "execution_count": 275,
   "metadata": {},
   "outputs": [
    {
     "data": {
      "text/plain": [
       "0"
      ]
     },
     "execution_count": 275,
     "metadata": {},
     "output_type": "execute_result"
    }
   ],
   "source": [
    "1^1"
   ]
  },
  {
   "cell_type": "code",
   "execution_count": 276,
   "metadata": {},
   "outputs": [
    {
     "data": {
      "text/plain": [
       "0"
      ]
     },
     "execution_count": 276,
     "metadata": {},
     "output_type": "execute_result"
    }
   ],
   "source": [
    "0^0"
   ]
  },
  {
   "cell_type": "code",
   "execution_count": 277,
   "metadata": {},
   "outputs": [
    {
     "data": {
      "text/plain": [
       "1"
      ]
     },
     "execution_count": 277,
     "metadata": {},
     "output_type": "execute_result"
    }
   ],
   "source": [
    "1^0"
   ]
  },
  {
   "cell_type": "code",
   "execution_count": 333,
   "metadata": {},
   "outputs": [
    {
     "ename": "TypeError",
     "evalue": "unsupported operand type(s) for ^: 'list' and 'list'",
     "output_type": "error",
     "traceback": [
      "\u001b[0;31m---------------------------------------------------------------------------\u001b[0m",
      "\u001b[0;31mTypeError\u001b[0m                                 Traceback (most recent call last)",
      "\u001b[0;32m<ipython-input-333-2e0285151407>\u001b[0m in \u001b[0;36m<module>\u001b[0;34m()\u001b[0m\n\u001b[0;32m----> 1\u001b[0;31m \u001b[0;34m[\u001b[0m\u001b[0;36m0\u001b[0m\u001b[0;34m,\u001b[0m\u001b[0;36m0\u001b[0m\u001b[0;34m,\u001b[0m\u001b[0;36m0\u001b[0m\u001b[0;34m]\u001b[0m\u001b[0;34m^\u001b[0m\u001b[0;34m[\u001b[0m\u001b[0;36m1\u001b[0m\u001b[0;34m,\u001b[0m\u001b[0;36m2\u001b[0m\u001b[0;34m,\u001b[0m\u001b[0;36m3\u001b[0m\u001b[0;34m]\u001b[0m\u001b[0;34m\u001b[0m\u001b[0m\n\u001b[0m",
      "\u001b[0;31mTypeError\u001b[0m: unsupported operand type(s) for ^: 'list' and 'list'"
     ]
    }
   ],
   "source": [
    "[0,0,0]^[1,2,3]"
   ]
  },
  {
   "cell_type": "code",
   "execution_count": 348,
   "metadata": {},
   "outputs": [
    {
     "ename": "SyntaxError",
     "evalue": "invalid token (<ipython-input-348-a784e0424a91>, line 1)",
     "output_type": "error",
     "traceback": [
      "\u001b[0;36m  File \u001b[0;32m\"<ipython-input-348-a784e0424a91>\"\u001b[0;36m, line \u001b[0;32m1\u001b[0m\n\u001b[0;31m    001^001\u001b[0m\n\u001b[0m      ^\u001b[0m\n\u001b[0;31mSyntaxError\u001b[0m\u001b[0;31m:\u001b[0m invalid token\n"
     ]
    }
   ],
   "source": [
    "001^001"
   ]
  },
  {
   "cell_type": "code",
   "execution_count": null,
   "metadata": {
    "collapsed": true
   },
   "outputs": [],
   "source": []
  }
 ],
 "metadata": {
  "kernelspec": {
   "display_name": "Python 3",
   "language": "python",
   "name": "python3"
  },
  "language_info": {
   "codemirror_mode": {
    "name": "ipython",
    "version": 3
   },
   "file_extension": ".py",
   "mimetype": "text/x-python",
   "name": "python",
   "nbconvert_exporter": "python",
   "pygments_lexer": "ipython3",
   "version": "3.6.3"
  }
 },
 "nbformat": 4,
 "nbformat_minor": 2
}
