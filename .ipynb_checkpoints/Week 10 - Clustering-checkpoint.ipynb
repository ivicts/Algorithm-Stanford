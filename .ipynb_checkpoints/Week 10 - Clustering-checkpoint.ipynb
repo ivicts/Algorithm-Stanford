{
 "cells": [
  {
   "cell_type": "code",
   "execution_count": 2,
   "metadata": {
    "collapsed": true
   },
   "outputs": [],
   "source": [
    "import time\n",
    "import numpy as np"
   ]
  },
  {
   "cell_type": "markdown",
   "metadata": {},
   "source": [
    "In this programming problem and the next you'll code up the clustering algorithm from lecture for computing a max-spacing \n",
    "k\n",
    "k-clustering.\n",
    "\n",
    "Download the text file below.\n",
    "\n",
    "This file describes a distance function (equivalently, a complete graph with edge costs). It has the following format:\n",
    "\n",
    "[number_of_nodes]\n",
    "\n",
    "[edge 1 node 1] [edge 1 node 2] [edge 1 cost]\n",
    "\n",
    "[edge 2 node 1] [edge 2 node 2] [edge 2 cost]\n",
    "\n",
    "...\n",
    "\n",
    "There is one edge \n",
    "(\n",
    "i\n",
    ",\n",
    "j\n",
    ")\n",
    "(i,j) for each choice of \n",
    "1\n",
    "≤\n",
    "i\n",
    "<\n",
    "j\n",
    "≤\n",
    "n\n",
    "1≤i<j≤n, where \n",
    "n\n",
    "n is the number of nodes.\n",
    "\n",
    "For example, the third line of the file is \"1 3 5250\", indicating that the distance between nodes 1 and 3 (equivalently, the cost of the edge (1,3)) is 5250. You can assume that distances are positive, but you should NOT assume that they are distinct.\n",
    "\n",
    "Your task in this problem is to run the clustering algorithm from lecture on this data set, where the target number \n",
    "k\n",
    "k of clusters is set to 4. What is the maximum spacing of a 4-clustering?\n",
    "\n",
    "ADVICE: If you're not getting the correct answer, try debugging your algorithm using some small test cases. And then post them to the discussion forum!"
   ]
  },
  {
   "cell_type": "code",
   "execution_count": 2,
   "metadata": {
    "collapsed": true
   },
   "outputs": [],
   "source": [
    "class UnionFind:\n",
    "    \"\"\"Weighted quick-union with path compression.\n",
    "    The original Java implementation is introduced at\n",
    "    https://www.cs.princeton.edu/~rs/AlgsDS07/01UnionFind.pdf\n",
    "    >>> uf = UnionFind(10)\n",
    "    >>> for (p, q) in [(3, 4), (4, 9), (8, 0), (2, 3), (5, 6), (5, 9),\n",
    "    ...                (7, 3), (4, 8), (6, 1)]:\n",
    "    ...     uf.union(p, q)\n",
    "    >>> uf._parent\n",
    "    [8, 3, 3, 3, 3, 3, 3, 3, 3, 3]\n",
    "    >>> uf.find(0, 1)\n",
    "    True\n",
    "    >>> uf._parent\n",
    "    [3, 3, 3, 3, 3, 3, 3, 3, 3, 3]\n",
    "    \"\"\"\n",
    "        \n",
    "    def __init__(self,n):\n",
    "        self._parent = list(range(n))\n",
    "        self._sz = [1]*n\n",
    "    \n",
    "    def find(self,i):\n",
    "        j = i\n",
    "        while (j != self._parent[j]): #if it is not root\n",
    "            self._parent[j] = self._parent[self._parent[j]] #install shortcut to the grandparents\n",
    "            j = self._parent[j]\n",
    "        return j\n",
    "\n",
    "    def connected(self,p,q):\n",
    "        return self.find(p) == self.find(q)\n",
    "    \n",
    "    def union(self,p,q):\n",
    "        i = self.find(p)\n",
    "        j = self.find(q)\n",
    "        if i == j:\n",
    "            return\n",
    "        elif (self._sz[i] < self._sz[j]):\n",
    "            self._parent[i] = j\n",
    "            self._sz[j] += self._sz[i]\n",
    "        else:\n",
    "            self._parent[j] = i\n",
    "            self._sz[i] += self._sz[j]"
   ]
  },
  {
   "cell_type": "code",
   "execution_count": 3,
   "metadata": {
    "collapsed": true
   },
   "outputs": [],
   "source": [
    "def read_input(filename):\n",
    "    with open('week10_file/'+filename) as f:\n",
    "        G = {}\n",
    "        edges = []\n",
    "        for line in f:\n",
    "            line = line.split() # to deal with blank \n",
    "            if line:            # lines (ie skip them)\n",
    "                line = [int(i) for i in line]\n",
    "                v = line[0]\n",
    "                G[v] = [(v,u) for u in line[1:]]\n",
    "                for i in line[1:]:\n",
    "                    edges.append((v,i))\n",
    "    return G,edges"
   ]
  },
  {
   "cell_type": "code",
   "execution_count": 4,
   "metadata": {
    "collapsed": true
   },
   "outputs": [],
   "source": [
    "def contract(G,edges,cuts,edge_index):\n",
    "    while True:\n",
    "        u,v = edges[edge_index]\n",
    "        edge_index += 1\n",
    "        u = cuts.find(u)\n",
    "        v = cuts.find(v)\n",
    "        if not cuts.connected(u,v):\n",
    "            cuts.union(u,v)\n",
    "            break\n",
    "    #find the new roots of both of u and v\n",
    "    w = cuts.find(u)\n",
    "    #w is connected to u and v\n",
    "    \n",
    "    #if w is not v or u itself, we append the edges\n",
    "    if w!= v:\n",
    "        for (i,j) in G[v]: #every i from (i,j) of G[v] is connected to v\n",
    "            if not cuts.connected(w,j): #if w connected to j, and w is connected to v (w is the root of u and v)\n",
    "                G[w].append((i,j))\n",
    "        del G[v]\n",
    "    \n",
    "    if w!= u:\n",
    "        for (i,j) in G[u]:\n",
    "            if not cuts.connected(w,j):\n",
    "                G[w].append((i,j))\n",
    "        del G[u]\n",
    "        \n",
    "    return edge_index"
   ]
  },
  {
   "cell_type": "markdown",
   "metadata": {},
   "source": [
    "In this question your task is again to run the clustering algorithm from lecture, but on a MUCH bigger graph. So big, in fact, that the distances (i.e., edge costs) are only defined implicitly, rather than being provided as an explicit list.\n",
    "\n",
    "The data set is below.\n",
    "\n",
    "The format is:\n",
    "\n",
    "[# of nodes] [# of bits for each node's label]\n",
    "\n",
    "[first bit of node 1] ... [last bit of node 1]\n",
    "\n",
    "[first bit of node 2] ... [last bit of node 2]\n",
    "\n",
    "...\n",
    "\n",
    "For example, the third line of the file \"0 1 1 0 0 1 1 0 0 1 0 1 1 1 1 1 1 0 1 0 1 1 0 1\" denotes the 24 bits associated with node #2.\n",
    "\n",
    "The distance between two nodes \n",
    "u\n",
    "u and \n",
    "v\n",
    "v in this problem is defined as the Hamming distance--- the number of differing bits --- between the two nodes' labels. For example, the Hamming distance between the 24-bit label of node #2 above and the label \"0 1 0 0 0 1 0 0 0 1 0 1 1 1 1 1 1 0 1 0 0 1 0 1\" is 3 (since they differ in the 3rd, 7th, and 21st bits).\n",
    "\n",
    "The question is: what is the largest value of \n",
    "k\n",
    "k such that there is a \n",
    "k\n",
    "k-clustering with spacing at least 3? That is, how many clusters are needed to ensure that no pair of nodes with all but 2 bits in common get split into different clusters?\n",
    "\n",
    "NOTE: The graph implicitly defined by the data file is so big that you probably can't write it out explicitly, let alone sort the edges by cost. So you will have to be a little creative to complete this part of the question. For example, is there some way you can identify the smallest distances without explicitly looking at every pair of nodes?\n",
    "\n"
   ]
  },
  {
   "cell_type": "code",
   "execution_count": 5,
   "metadata": {
    "collapsed": true
   },
   "outputs": [],
   "source": [
    "def karger_min_cut(G,edges):\n",
    "    n = max(G.keys())\n",
    "    #To make union find start at 1 to n (coresspond to index 0 to n+1)\n",
    "    cuts = UnionFind(n+1)\n",
    "    edge_index = 0\n",
    "    \n",
    "    for _ in range(n-2):\n",
    "        edge_index = contract(G,edges,cuts,edge_index)\n",
    "    \n",
    "    u,v = G.keys()\n",
    "    #(u,v) self loop in the list of edges if and only if u and v is connected, we don't consider cuts.connected(u,x)\n",
    "    #because G[u] and x where x is from (x,v) is always connected in the first place when we contract.\n",
    "    #key with the minimum item\n",
    "    \n",
    "    if len(G[u]) <= len(G[v]):\n",
    "        edge_min = G[u]\n",
    "    else:\n",
    "        edge_min = G[v]\n",
    "    \n",
    "    mc = [(i,j) for (i,j) in edge_min if not cuts.connected(i,j)]\n",
    "    \n",
    "    return mc, len(mc)\n",
    "        "
   ]
  },
  {
   "cell_type": "code",
   "execution_count": 22,
   "metadata": {
    "collapsed": true,
    "scrolled": true
   },
   "outputs": [],
   "source": [
    "def monte_carlo_karger(G,edges,N=0):\n",
    "    min_cut_len = float(\"inf\")\n",
    "    n = max(G.keys())\n",
    "    if N == 0:\n",
    "        N = math.ceil(n**2*(math.log(n)))\n",
    "\n",
    "    m = len(edges)\n",
    "    for k in range(N):\n",
    "        G_temp = deepcopy(G)\n",
    "        random.shuffle(edges)\n",
    "        #for i in range(m):\n",
    "         #   j =  randrange(i,m) #generate 1 to m-1\n",
    "          #  edges[i], edges[j] = edges[j] , edges[i]\n",
    "        min_cut_temp, min_cut_len_temp = karger_min_cut(G_temp,edges)\n",
    "        if min_cut_len_temp < min_cut_len:\n",
    "            counter = 0\n",
    "            min_cut_len = min_cut_len_temp\n",
    "            min_cut = min_cut_temp\n",
    "        if k % 100 == 0 and k != 0:\n",
    "            counter +=1\n",
    "            print(min_cut,min_cut_len)\n",
    "            if counter == 10:\n",
    "                return min_cut,min_cut_len\n",
    "    return min_cut,min_cut_len"
   ]
  },
  {
   "cell_type": "code",
   "execution_count": 23,
   "metadata": {},
   "outputs": [
    {
     "name": "stdout",
     "output_type": "stream",
     "text": [
      "--- 0.009731054306030273 seconds ---\n"
     ]
    }
   ],
   "source": [
    "start_time = time.time()\n",
    "G, edges = read_input('week4_test1.txt')\n",
    "m = len(edges)\n",
    "for i in range(m):\n",
    "    j =  randrange(i,m) #generate 1 to m-1\n",
    "    edges[i], edges[j] = edges[j] , edges[i]\n",
    "print(\"--- %s seconds ---\" % (time.time() - start_time))\n",
    "#print(edges)"
   ]
  },
  {
   "cell_type": "code",
   "execution_count": 24,
   "metadata": {},
   "outputs": [
    {
     "name": "stdout",
     "output_type": "stream",
     "text": [
      "--- 0.0020079612731933594 seconds ---\n",
      "[(1, 4), (4, 5), (2, 4), (5, 8), (5, 4), (3, 1), (8, 7), (2, 3), (6, 5), (7, 1), (1, 7), (4, 1), (3, 2), (4, 3), (1, 2), (7, 6), (4, 2), (1, 3), (6, 8), (8, 6), (2, 1), (7, 5), (3, 4), (6, 7), (5, 6), (8, 5), (7, 8), (5, 7)]\n"
     ]
    }
   ],
   "source": [
    "start_time = time.time()\n",
    "G, edges = read_input('week4_test1.txt')\n",
    "random.shuffle(edges)\n",
    "print(\"--- %s seconds ---\" % (time.time() - start_time))\n",
    "print(edges)"
   ]
  },
  {
   "cell_type": "code",
   "execution_count": 25,
   "metadata": {},
   "outputs": [
    {
     "data": {
      "text/plain": [
       "[(1, 2), (1, 3), (1, 4), (1, 7)]"
      ]
     },
     "execution_count": 25,
     "metadata": {},
     "output_type": "execute_result"
    }
   ],
   "source": [
    "G[1]"
   ]
  },
  {
   "cell_type": "code",
   "execution_count": 26,
   "metadata": {},
   "outputs": [
    {
     "name": "stdout",
     "output_type": "stream",
     "text": [
      "[(1, 2), (1, 3), (1, 4), (1, 7)]\n",
      "[(2, 1), (2, 3), (2, 4)]\n",
      "[(1, 2), (1, 3), (1, 4), (1, 7), (2, 1), (2, 3), (2, 4)]\n"
     ]
    }
   ],
   "source": [
    "lis = []\n",
    "print(G[1])\n",
    "print(G[2])\n",
    "G[1] = [(i,j) for (i,j) in (*G[1],*G[2])]\n",
    "print(G[1])"
   ]
  },
  {
   "cell_type": "code",
   "execution_count": 27,
   "metadata": {},
   "outputs": [
    {
     "name": "stdout",
     "output_type": "stream",
     "text": [
      "[(1, 7), (4, 5)] 2\n",
      "([(1, 7), (4, 5)], 2)\n",
      "--- 0.04281306266784668 seconds ---\n"
     ]
    }
   ],
   "source": [
    "start_time = time.time()\n",
    "G, edges = read_input('week4_test1.txt')\n",
    "print(monte_carlo_karger(G,edges))\n",
    "print(\"--- %s seconds ---\" % (time.time() - start_time))"
   ]
  },
  {
   "cell_type": "code",
   "execution_count": 28,
   "metadata": {},
   "outputs": [
    {
     "name": "stdout",
     "output_type": "stream",
     "text": [
      "[(1, 7), (4, 5)] 2\n",
      "([(1, 7), (4, 5)], 2)\n",
      "--- 0.06282973289489746 seconds ---\n"
     ]
    }
   ],
   "source": [
    "start_time = time.time()\n",
    "G, edges = read_input('week4_test2.txt')\n",
    "print(monte_carlo_karger(G,edges))\n",
    "print(\"--- %s seconds ---\" % (time.time() - start_time))"
   ]
  },
  {
   "cell_type": "code",
   "execution_count": 29,
   "metadata": {},
   "outputs": [
    {
     "name": "stdout",
     "output_type": "stream",
     "text": [
      "[(4, 5)] 1\n",
      "([(4, 5)], 1)\n",
      "--- 0.04439592361450195 seconds ---\n"
     ]
    }
   ],
   "source": [
    "start_time = time.time()\n",
    "G, edges = read_input('week4_test3.txt')\n",
    "print(monte_carlo_karger(G,edges))\n",
    "print(\"--- %s seconds ---\" % (time.time() - start_time))"
   ]
  },
  {
   "cell_type": "code",
   "execution_count": 30,
   "metadata": {},
   "outputs": [
    {
     "name": "stdout",
     "output_type": "stream",
     "text": [
      "[(4, 5)] 1\n",
      "([(4, 5)], 1)\n",
      "--- 0.06719017028808594 seconds ---\n"
     ]
    }
   ],
   "source": [
    "start_time = time.time()\n",
    "G, edges = read_input('week4_test4.txt')\n",
    "print(monte_carlo_karger(G,edges))\n",
    "print(\"--- %s seconds ---\" % (time.time() - start_time))"
   ]
  },
  {
   "cell_type": "code",
   "execution_count": 31,
   "metadata": {},
   "outputs": [
    {
     "name": "stdout",
     "output_type": "stream",
     "text": [
      "[(17, 9), (30, 37), (11, 26)] 3\n",
      "[(17, 9), (30, 37), (11, 26)] 3\n",
      "[(17, 9), (30, 37), (11, 26)] 3\n",
      "[(17, 9), (30, 37), (11, 26)] 3\n",
      "[(17, 9), (30, 37), (11, 26)] 3\n",
      "[(17, 9), (30, 37), (11, 26)] 3\n",
      "[(17, 9), (30, 37), (11, 26)] 3\n",
      "[(17, 9), (30, 37), (11, 26)] 3\n",
      "[(17, 9), (30, 37), (11, 26)] 3\n",
      "[(17, 9), (30, 37), (11, 26)] 3\n",
      "([(17, 9), (30, 37), (11, 26)], 3)\n",
      "--- 1.624953031539917 seconds ---\n"
     ]
    }
   ],
   "source": [
    "start_time = time.time()\n",
    "G, edges = read_input('week4_test5.txt')\n",
    "print(monte_carlo_karger(G,edges))\n",
    "print(\"--- %s seconds ---\" % (time.time() - start_time))"
   ]
  },
  {
   "cell_type": "code",
   "execution_count": 32,
   "metadata": {},
   "outputs": [
    {
     "name": "stdout",
     "output_type": "stream",
     "text": [
      "[(1, 5), (4, 8)] 2\n",
      "([(1, 5), (4, 8)], 2)\n",
      "--- 0.07304501533508301 seconds ---\n"
     ]
    }
   ],
   "source": [
    "start_time = time.time()\n",
    "G, edges = read_input('week4_test6.txt')\n",
    "print(monte_carlo_karger(G,edges))\n",
    "print(\"--- %s seconds ---\" % (time.time() - start_time))"
   ]
  },
  {
   "cell_type": "code",
   "execution_count": 34,
   "metadata": {},
   "outputs": [
    {
     "name": "stdout",
     "output_type": "stream",
     "text": [
      "[(24, 53), (109, 86), (134, 80), (161, 149), (116, 164), (41, 108), (163, 79), (36, 122), (141, 178), (169, 27), (188, 58), (184, 171), (186, 37), (48, 193), (10, 185), (165, 91), (123, 156)] 17\n",
      "[(24, 53), (109, 86), (134, 80), (161, 149), (116, 164), (41, 108), (163, 79), (36, 122), (141, 178), (169, 27), (188, 58), (184, 171), (186, 37), (48, 193), (10, 185), (165, 91), (123, 156)] 17\n",
      "[(24, 53), (109, 86), (134, 80), (161, 149), (116, 164), (41, 108), (163, 79), (36, 122), (141, 178), (169, 27), (188, 58), (184, 171), (186, 37), (48, 193), (10, 185), (165, 91), (123, 156)] 17\n",
      "[(24, 53), (109, 86), (134, 80), (161, 149), (116, 164), (41, 108), (163, 79), (36, 122), (141, 178), (169, 27), (188, 58), (184, 171), (186, 37), (48, 193), (10, 185), (165, 91), (123, 156)] 17\n",
      "[(24, 53), (109, 86), (134, 80), (161, 149), (116, 164), (41, 108), (163, 79), (36, 122), (141, 178), (169, 27), (188, 58), (184, 171), (186, 37), (48, 193), (10, 185), (165, 91), (123, 156)] 17\n",
      "[(24, 53), (109, 86), (134, 80), (161, 149), (116, 164), (41, 108), (163, 79), (36, 122), (141, 178), (169, 27), (188, 58), (184, 171), (186, 37), (48, 193), (10, 185), (165, 91), (123, 156)] 17\n",
      "[(24, 53), (109, 86), (134, 80), (161, 149), (116, 164), (41, 108), (163, 79), (36, 122), (141, 178), (169, 27), (188, 58), (184, 171), (186, 37), (48, 193), (10, 185), (165, 91), (123, 156)] 17\n",
      "[(24, 53), (109, 86), (134, 80), (161, 149), (116, 164), (41, 108), (163, 79), (36, 122), (141, 178), (169, 27), (188, 58), (184, 171), (186, 37), (48, 193), (10, 185), (165, 91), (123, 156)] 17\n",
      "[(24, 53), (109, 86), (134, 80), (161, 149), (116, 164), (41, 108), (163, 79), (36, 122), (141, 178), (169, 27), (188, 58), (184, 171), (186, 37), (48, 193), (10, 185), (165, 91), (123, 156)] 17\n",
      "[(24, 53), (109, 86), (134, 80), (161, 149), (116, 164), (41, 108), (163, 79), (36, 122), (141, 178), (169, 27), (188, 58), (184, 171), (186, 37), (48, 193), (10, 185), (165, 91), (123, 156)] 17\n",
      "([(24, 53), (109, 86), (134, 80), (161, 149), (116, 164), (41, 108), (163, 79), (36, 122), (141, 178), (169, 27), (188, 58), (184, 171), (186, 37), (48, 193), (10, 185), (165, 91), (123, 156)], 17)\n",
      "--- 38.905174016952515 seconds ---\n"
     ]
    }
   ],
   "source": [
    "start_time = time.time()\n",
    "G, edges = read_input('week4.txt')\n",
    "print(monte_carlo_karger(G,edges))\n",
    "print(\"--- %s seconds ---\" % (time.time() - start_time))"
   ]
  }
 ],
 "metadata": {
  "kernelspec": {
   "display_name": "Python 3",
   "language": "python",
   "name": "python3"
  },
  "language_info": {
   "codemirror_mode": {
    "name": "ipython",
    "version": 3
   },
   "file_extension": ".py",
   "mimetype": "text/x-python",
   "name": "python",
   "nbconvert_exporter": "python",
   "pygments_lexer": "ipython3",
   "version": "3.6.3"
  }
 },
 "nbformat": 4,
 "nbformat_minor": 2
}
