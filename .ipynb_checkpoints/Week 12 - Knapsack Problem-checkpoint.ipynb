{
 "cells": [
  {
   "cell_type": "code",
   "execution_count": 2,
   "metadata": {
    "collapsed": true
   },
   "outputs": [],
   "source": [
    "import time\n",
    "import numpy as np\n",
    "import itertools\n",
    "np.set_printoptions(suppress=True)\n",
    "import sys\n",
    "sys.setrecursionlimit(3000)"
   ]
  },
  {
   "cell_type": "markdown",
   "metadata": {},
   "source": [
    "In this programming problem and the next you'll code up the knapsack algorithm from lecture.\n",
    "\n",
    "Let's start with a warm-up. Download the text file below.\n",
    "\n",
    "This file describes a knapsack instance, and it has the following format:\n",
    "\n",
    "[knapsack_size][number_of_items]\n",
    "\n",
    "[value_1] [weight_1]\n",
    "\n",
    "[value_2] [weight_2]\n",
    "\n",
    "...\n",
    "\n",
    "For example, the third line of the file is \"50074 659\", indicating that the second item has value 50074 and size 659, respectively.\n",
    "\n",
    "You can assume that all numbers are positive. You should assume that item weights and the knapsack capacity are integers.\n",
    "\n",
    "In the box below, type in the value of the optimal solution.\n",
    "\n",
    "ADVICE: If you're not getting the correct answer, try debugging your algorithm using some small test cases. And then post them to the discussion forum!\n"
   ]
  },
  {
   "cell_type": "code",
   "execution_count": 30,
   "metadata": {
    "collapsed": true
   },
   "outputs": [],
   "source": [
    "def knapsack_problem_small(filename):\n",
    "    first = True\n",
    "    counter = 0 \n",
    "    with open('week12_file/'+filename) as f:\n",
    "        for line in f:\n",
    "            line = line.split() # to deal with blank \n",
    "            if line and not first:            # lines (ie skip them)\n",
    "                value = int(line[0])\n",
    "                weight = int(line[1])\n",
    "                knapsack_instance[counter,0] = value\n",
    "                knapsack_instance[counter,1] = weight\n",
    "                counter+=1\n",
    "            else:\n",
    "                knapsack_size = int(line[0])\n",
    "                num_items = int(line[1])\n",
    "                knapsack_instance = np.zeros((num_items,2),dtype=int)\n",
    "                first = False\n",
    "                \n",
    "    #A[i,x] = value of best solution that: 1) uses only the first i item 2) has total size <= x          \n",
    "    A = np.zeros((num_items,knapsack_size),dtype=int)\n",
    "    \n",
    "    for i in range(1,num_items):\n",
    "        for x in range(knapsack_size):\n",
    "            vi = knapsack_instance[i,0]\n",
    "            wi = knapsack_instance[i,1]\n",
    "            #edge cases if weight is more than knapsack size\n",
    "            if wi>x:\n",
    "                A[i,x] = A[i-1,x]\n",
    "            else:\n",
    "            #Compute the best solution considering two cases: 1) item i excluded 2) item i included\n",
    "                A[i,x] = max(A[i-1,x],A[i-1,x-wi]+vi)\n",
    "    \n",
    "    return A[-1,-1]\n",
    "    "
   ]
  },
  {
   "cell_type": "code",
   "execution_count": 31,
   "metadata": {},
   "outputs": [
    {
     "name": "stdout",
     "output_type": "stream",
     "text": [
      "147\n",
      "--- 0.014214038848876953 seconds ---\n",
      "210\n",
      "--- 0.0043487548828125 seconds ---\n"
     ]
    }
   ],
   "source": [
    "start_time = time.time()\n",
    "print(knapsack_problem_small('week12_test1.txt')) #147\n",
    "print(\"--- %s seconds ---\" % (time.time() - start_time))\n",
    "start_time = time.time()\n",
    "print(knapsack_problem_small('week12_test2.txt')) #210\n",
    "print(\"--- %s seconds ---\" % (time.time() - start_time))"
   ]
  },
  {
   "cell_type": "code",
   "execution_count": 60,
   "metadata": {},
   "outputs": [
    {
     "name": "stdout",
     "output_type": "stream",
     "text": [
      "2493893\n",
      "--- 1.9353950023651123 seconds ---\n"
     ]
    }
   ],
   "source": [
    "start_time = time.time()\n",
    "print(knapsack_problem_small('week12_1.txt')) #2493893\n",
    "print(\"--- %s seconds ---\" % (time.time() - start_time))"
   ]
  },
  {
   "cell_type": "markdown",
   "metadata": {},
   "source": [
    "This problem also asks you to solve a knapsack instance, but a much bigger one.\n",
    "\n",
    "Download the text file below.\n",
    "\n",
    "This file describes a knapsack instance, and it has the following format:\n",
    "\n",
    "[knapsack_size][number_of_items]\n",
    "\n",
    "[value_1] [weight_1]\n",
    "\n",
    "[value_2] [weight_2]\n",
    "\n",
    "...\n",
    "\n",
    "For example, the third line of the file is \"50074 834558\", indicating that the second item has value 50074 and size 834558, respectively. As before, you should assume that item weights and the knapsack capacity are integers.\n",
    "\n",
    "This instance is so big that the straightforward iterative implemetation uses an infeasible amount of time and space. So you will have to be creative to compute an optimal solution. One idea is to go back to a recursive implementation, solving subproblems --- and, of course, caching the results to avoid redundant work --- only on an \"as needed\" basis. Also, be sure to think about appropriate data structures for storing and looking up solutions to subproblems.\n",
    "\n",
    "In the box below, type in the value of the optimal solution.\n",
    "\n",
    "ADVICE: If you're not getting the correct answer, try debugging your algorithm using some small test cases. And then post them to the discussion forum!"
   ]
  },
  {
   "cell_type": "code",
   "execution_count": 25,
   "metadata": {
    "collapsed": true
   },
   "outputs": [],
   "source": [
    "def knapsack_recursive(knapsack_instance,i,x,memoization=None):\n",
    "    '''Recursive approach of knapsack probllem. It utilizes hash table to store up the subproblem solution.'''\n",
    "    \n",
    "    #Base case\n",
    "    if i == 0:\n",
    "        return 0\n",
    "    vi = knapsack_instance[i,0]\n",
    "    wi = knapsack_instance[i,1]\n",
    "    \n",
    "    if memoization is None:\n",
    "        memoization= {}\n",
    "    \n",
    "    #If we have not computed the subproblem before, recursively solves the solution.\n",
    "    #If we have solved, retrieved it from hash table\n",
    "    if memoization.get((i-1,x)) == None:\n",
    "        S1 = knapsack_recursive(knapsack_instance,i-1,x,memoization)\n",
    "        memoization[(i-1,x)] = S1\n",
    "    else:\n",
    "        S1 = memoization[(i-1,x)]\n",
    "    \n",
    "    #if weight is bigger than the knapsack size, return S1\n",
    "    if wi >x:\n",
    "        return S1\n",
    "    else:\n",
    "        if memoization.get((i-1,x-wi)) == None:\n",
    "            S2 = knapsack_recursive(knapsack_instance,i-1,x-wi,memoization)\n",
    "            memoization[(i-1,x-wi)] = S2 \n",
    "        else:\n",
    "            S2 = memoization[(i-1,x-wi)]\n",
    "    return max(S1,S2+vi)"
   ]
  },
  {
   "cell_type": "code",
   "execution_count": 60,
   "metadata": {
    "collapsed": true
   },
   "outputs": [],
   "source": [
    "def knapsack_problem_big_recursive(filename):\n",
    "    \n",
    "    first = True\n",
    "    counter = 0 \n",
    "    with open('week12_file/'+filename) as f:\n",
    "        for line in f:\n",
    "            line = line.split() # to deal with blank \n",
    "            if line and not first:            # lines (ie skip them)\n",
    "                value = int(line[0])\n",
    "                weight = int(line[1])\n",
    "                knapsack_instance[counter,0] = value\n",
    "                knapsack_instance[counter,1] = weight\n",
    "                counter+=1\n",
    "            else:\n",
    "                knapsack_size = int(line[0])\n",
    "                num_items = int(line[1])\n",
    "                knapsack_instance = np.zeros((num_items,2),dtype=int)\n",
    "                first = False\n",
    "                \n",
    "    #Sort will make the recursion faster, but the sorting itself takes time\n",
    "    #np.sort(knapsack_instance,axis=1)\n",
    "    optim_value = knapsack_recursive(knapsack_instance,num_items-1,knapsack_size-1)\n",
    "    \n",
    "    return optim_value\n",
    "    "
   ]
  },
  {
   "cell_type": "code",
   "execution_count": 61,
   "metadata": {},
   "outputs": [
    {
     "name": "stdout",
     "output_type": "stream",
     "text": [
      "147\n",
      "--- 0.004553079605102539 seconds ---\n",
      "210\n",
      "--- 0.0032570362091064453 seconds ---\n"
     ]
    }
   ],
   "source": [
    "start_time = time.time()\n",
    "print(knapsack_problem_big_recursive('week12_test1.txt')) #147\n",
    "print(\"--- %s seconds ---\" % (time.time() - start_time))\n",
    "start_time = time.time()\n",
    "print(knapsack_problem_big_recursive('week12_test2.txt')) #210\n",
    "print(\"--- %s seconds ---\" % (time.time() - start_time))"
   ]
  },
  {
   "cell_type": "code",
   "execution_count": 62,
   "metadata": {},
   "outputs": [
    {
     "name": "stdout",
     "output_type": "stream",
     "text": [
      "2493893\n",
      "--- 3.2261688709259033 seconds ---\n"
     ]
    }
   ],
   "source": [
    "start_time = time.time()\n",
    "print(knapsack_problem_big_recursive('week12_1.txt')) #2493893\n",
    "print(\"--- %s seconds ---\" % (time.time() - start_time))"
   ]
  },
  {
   "cell_type": "code",
   "execution_count": 63,
   "metadata": {},
   "outputs": [
    {
     "name": "stdout",
     "output_type": "stream",
     "text": [
      "4243395\n",
      "--- 50.0116491317749 seconds ---\n"
     ]
    }
   ],
   "source": [
    "start_time = time.time()\n",
    "print(knapsack_problem_big_recursive('week12_2.txt')) #4243395\n",
    "print(\"--- %s seconds ---\" % (time.time() - start_time))"
   ]
  },
  {
   "cell_type": "code",
   "execution_count": 28,
   "metadata": {
    "collapsed": true
   },
   "outputs": [],
   "source": [
    "def knapsack_problem_big_iterative(filename):\n",
    "    \n",
    "    first = True\n",
    "    counter = 0 \n",
    "    with open('week12_file/'+filename) as f:\n",
    "        for line in f:\n",
    "            line = line.split() # to deal with blank \n",
    "            if line and not first:            # lines (ie skip them)\n",
    "                value = int(line[0])\n",
    "                weight = int(line[1])\n",
    "                knapsack_instance[counter,0] = value\n",
    "                knapsack_instance[counter,1] = weight\n",
    "                counter+=1\n",
    "            else:\n",
    "                knapsack_size = int(line[0])\n",
    "                num_items = int(line[1])\n",
    "                knapsack_instance = np.zeros((num_items,2),dtype=int)\n",
    "                first = False\n",
    "    A = np.zeros((knapsack_size),dtype=int)\n",
    "    \n",
    "    #The trick is to scan the array in reversing order, i.e., from big end to small end. In other words,\n",
    "    #we do the computation from big knapsack size to small knapsack size.\n",
    "    \n",
    "    #A[x]=max{A[x],A[x-wi]+vi}\n",
    "    \n",
    "    #The reason is that A[x] is updated by either unchanging or using A[x-wi] which\n",
    "    #represents smaller knapsack size than x. Consequently, by such reversed scan,\n",
    "    #you will never erase your previous result.\n",
    "    \n",
    "    for i in range(1,num_items):\n",
    "        for x in range(knapsack_size-1,0,-1):\n",
    "            vi = knapsack_instance[i,0]\n",
    "            wi = knapsack_instance[i,1]\n",
    "            if wi <=x:\n",
    "                A[x] = max(A[x],A[x-wi]+vi)\n",
    "    return A[-1]"
   ]
  },
  {
   "cell_type": "code",
   "execution_count": 29,
   "metadata": {},
   "outputs": [
    {
     "name": "stdout",
     "output_type": "stream",
     "text": [
      "147\n",
      "--- 0.011773109436035156 seconds ---\n",
      "210\n",
      "--- 0.002624988555908203 seconds ---\n"
     ]
    }
   ],
   "source": [
    "start_time = time.time()\n",
    "print(knapsack_problem_big_iterative('week12_test1.txt')) #147\n",
    "print(\"--- %s seconds ---\" % (time.time() - start_time))\n",
    "start_time = time.time()\n",
    "print(knapsack_problem_big_iterative('week12_test2.txt')) #210\n",
    "print(\"--- %s seconds ---\" % (time.time() - start_time))"
   ]
  },
  {
   "cell_type": "code",
   "execution_count": 23,
   "metadata": {},
   "outputs": [
    {
     "name": "stdout",
     "output_type": "stream",
     "text": [
      "2493893\n",
      "--- 1.6817128658294678 seconds ---\n"
     ]
    }
   ],
   "source": [
    "start_time = time.time()\n",
    "print(knapsack_problem_big_iterative('week12_1.txt')) #2493893\n",
    "print(\"--- %s seconds ---\" % (time.time() - start_time))"
   ]
  },
  {
   "cell_type": "code",
   "execution_count": null,
   "metadata": {
    "collapsed": true
   },
   "outputs": [],
   "source": [
    "start_time = time.time()\n",
    "print(knapsack_problem_big_iterative('week12_2.txt')) #4243395\n",
    "print(\"--- %s seconds ---\" % (time.time() - start_time))"
   ]
  },
  {
   "cell_type": "code",
   "execution_count": null,
   "metadata": {
    "collapsed": true
   },
   "outputs": [],
   "source": []
  }
 ],
 "metadata": {
  "kernelspec": {
   "display_name": "Python 3",
   "language": "python",
   "name": "python3"
  },
  "language_info": {
   "codemirror_mode": {
    "name": "ipython",
    "version": 3
   },
   "file_extension": ".py",
   "mimetype": "text/x-python",
   "name": "python",
   "nbconvert_exporter": "python",
   "pygments_lexer": "ipython3",
   "version": "3.6.3"
  }
 },
 "nbformat": 4,
 "nbformat_minor": 2
}
