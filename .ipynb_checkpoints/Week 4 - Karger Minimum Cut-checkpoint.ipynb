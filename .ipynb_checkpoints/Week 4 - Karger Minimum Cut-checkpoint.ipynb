{
 "cells": [
  {
   "cell_type": "code",
   "execution_count": 1,
   "metadata": {
    "collapsed": true
   },
   "outputs": [],
   "source": [
    "import time\n",
    "import numpy as np\n",
    "import math\n",
    "import random\n",
    "from random import randrange\n",
    "from copy import copy, deepcopy"
   ]
  },
  {
   "cell_type": "markdown",
   "metadata": {},
   "source": [
    "The file contains the adjacency list representation of a simple undirected graph. There are 200 vertices labeled 1 to 200. The first column in the file represents the vertex label, and the particular row (other entries except the first column) tells all the vertices that the vertex is adjacent to. So for example, the 6th row looks like : \"6\t155\t56\t52\t120\t......\". This just means that the vertex with label 6 is adjacent to (i.e., shares an edge with) the vertices with labels 155,56,52,120,......,etc\n",
    "\n",
    "Your task is to code up and run the randomized contraction algorithm for the min cut problem and use it on the above graph to compute the min cut. (HINT: Note that you'll have to figure out an implementation of edge contractions. Initially, you might want to do this naively, creating a new graph from the old every time there's an edge contraction. But you should also think about more efficient implementations.) (WARNING: As per the video lectures, please make sure to run the algorithm many times with different random seeds, and remember the smallest cut that you ever find.) Write your numeric answer in the space provided. So e.g., if your answer is 5, just type 5 in the space provided.\n"
   ]
  },
  {
   "cell_type": "markdown",
   "metadata": {},
   "source": [
    "<img src=\"week4_file/week4_ilustration.png\" style=\"width: 750px\">\n",
    "The process coresspond to the diagram is as follows:\n",
    "\n",
    "First picture: \n",
    "\n",
    "G = {1 : [(1,2),(1,3)], 2 : [(2,1),(2,3),(2,4)], 3 : [(3,1),(3,2),(3,4)], 4:[(4,2),(4,3)]} \n",
    "\n",
    "edges = [(1,2),(1,3),(2,1),(2,3),(2,4),(3,1),(3,2),(3,4),(4,2),(4,3)]\n",
    "\n",
    "Pick edges (1,3) to contract\n",
    "\n",
    "Second picture:\n",
    "\n",
    "G = {1 : [(1,2),(1,3),(3,2),(3,4)], 2 : [(2,1),(2,3),(2,4)], 4:[(4,2),(4,3)]} \n",
    "\n",
    "(3,1) is not included because it is self loop (1,3 are connected) and checked using line if not cuts.connected(w,j):  G[w].append((i,j)))\n",
    "\n",
    "edges choice = [(1,2),(2,1),(2,3),(2,4),(3,2),(3,4),(4,2),(4,3)]\n",
    "\n",
    "(1,3) and (3,1) cannot be choosen because it is connected now (self loop)\n",
    "\n",
    "Third picture:\n",
    "\n",
    "G = {1 : [(1,2),(1,3),(3,2),(3,4),(2,4)], 4:[(4,2),(4,3)]} \n",
    "\n",
    "(2,1),(2,3) excluded because (1,1) and (1,3) is connected\n",
    "\n",
    "edges choice = [(2,4),(3,4),(4,2),(4,3)]\n",
    " "
   ]
  },
  {
   "cell_type": "code",
   "execution_count": 2,
   "metadata": {
    "collapsed": true
   },
   "outputs": [],
   "source": [
    "class UnionFind:\n",
    "    \"\"\"Weighted quick-union with path compression.\n",
    "    The original Java implementation is introduced at\n",
    "    https://www.cs.princeton.edu/~rs/AlgsDS07/01UnionFind.pdf\n",
    "    >>> uf = UnionFind(10)\n",
    "    >>> for (p, q) in [(3, 4), (4, 9), (8, 0), (2, 3), (5, 6), (5, 9),\n",
    "    ...                (7, 3), (4, 8), (6, 1)]:\n",
    "    ...     uf.union(p, q)\n",
    "    >>> uf._id\n",
    "    [8, 3, 3, 3, 3, 3, 3, 3, 3, 3]\n",
    "    >>> uf.find(0, 1)\n",
    "    True\n",
    "    >>> uf._id\n",
    "    [3, 3, 3, 3, 3, 3, 3, 3, 3, 3]\n",
    "    \"\"\"\n",
    "        \n",
    "    def __init__(self,n):\n",
    "        self._id = list(range(n))\n",
    "        self._sz = [1]*n\n",
    "    \n",
    "    def find(self,i):\n",
    "        j = i\n",
    "        while (j != self._id[j]):\n",
    "            self._id[j] = self._id[self._id[j]]\n",
    "            j = self._id[j]\n",
    "        return j\n",
    "\n",
    "    def connected(self,p,q):\n",
    "        return self.find(p) == self.find(q)\n",
    "    \n",
    "    def union(self,p,q):\n",
    "        i = self.find(p)\n",
    "        j = self.find(q)\n",
    "        if i == j:\n",
    "            return\n",
    "        elif (self._sz[i] < self._sz[j]):\n",
    "            self._id[i] = j\n",
    "            self._sz[j] += self._sz[i]\n",
    "        else:\n",
    "            self._id[j] = i\n",
    "            self._sz[i] += self._sz[j]"
   ]
  },
  {
   "cell_type": "code",
   "execution_count": 3,
   "metadata": {
    "collapsed": true
   },
   "outputs": [],
   "source": [
    "def read_input(filename):\n",
    "    with open('week4_file/'+filename) as f:\n",
    "        G = {}\n",
    "        edges = []\n",
    "        for line in f:\n",
    "            line = line.split() # to deal with blank \n",
    "            if line:            # lines (ie skip them)\n",
    "                line = [int(i) for i in line]\n",
    "                v = line[0]\n",
    "                G[v] = [(v,u) for u in line[1:]]\n",
    "                for i in line[1:]:\n",
    "                    edges.append((v,i))\n",
    "    return G,edges"
   ]
  },
  {
   "cell_type": "code",
   "execution_count": 4,
   "metadata": {
    "collapsed": true
   },
   "outputs": [],
   "source": [
    "def contract(G,edges,cuts,edge_index):\n",
    "    while True:\n",
    "        u,v = edges[edge_index]\n",
    "        edge_index += 1\n",
    "        u = cuts.find(u)\n",
    "        v = cuts.find(v)\n",
    "        #do not consider self-loops\n",
    "        if not cuts.connected(u,v):\n",
    "            cuts.union(u,v)\n",
    "            break\n",
    "    #find the new roots of both of u and v\n",
    "    w = cuts.find(u)\n",
    "    #w is connected to u and v\n",
    "    \n",
    "    #if w is not v or u itself, we append the edges\n",
    "    if w!= v:\n",
    "        for (i,j) in G[v]: #every i from (i,j) of G[v] is connected to v\n",
    "            if not cuts.connected(w,j): #if w connected to j, and w is connected to v (w is the root of u and v)\n",
    "                G[w].append((i,j))\n",
    "        del G[v]\n",
    "    \n",
    "    if w!= u:\n",
    "        for (i,j) in G[u]:\n",
    "            if not cuts.connected(w,j):\n",
    "                G[w].append((i,j))\n",
    "        del G[u]\n",
    "        \n",
    "    return edge_index"
   ]
  },
  {
   "cell_type": "code",
   "execution_count": 5,
   "metadata": {
    "collapsed": true
   },
   "outputs": [],
   "source": [
    "def karger_min_cut(G,edges):\n",
    "    n = max(G.keys())\n",
    "    #To make union find start at 1 to n (coresspond to index 0 to n+1)\n",
    "    cuts = UnionFind(n+1)\n",
    "    edge_index = 0\n",
    "    \n",
    "    #while there are more than 2 vertices\n",
    "    for _ in range(n-2):\n",
    "        #pick a remaining edge(u,v) uniformly at random and merge (or \"contract) u and v into a single vertex\n",
    "        edge_index = contract(G,edges,cuts,edge_index)\n",
    "    \n",
    "    u,v = G.keys()\n",
    "    #(u,v) self loop in the list of edges if and only if u and v is connected, we don't consider cuts.connected(u,x)\n",
    "    #because G[u] and x where x is from (x,v) is always connected in the first place when we contract.\n",
    "    #key with the minimum item\n",
    "    \n",
    "    if len(G[u]) <= len(G[v]):\n",
    "        edge_min = G[u]\n",
    "    else:\n",
    "        edge_min = G[v]\n",
    "    \n",
    "    #return cut represented by final two vertices\n",
    "    mc = [(i,j) for (i,j) in edge_min if not cuts.connected(i,j)]\n",
    "    \n",
    "    return mc, len(mc)\n",
    "        "
   ]
  },
  {
   "cell_type": "code",
   "execution_count": 22,
   "metadata": {
    "collapsed": true,
    "scrolled": true
   },
   "outputs": [],
   "source": [
    "def monte_carlo_karger(G,edges,N=0):\n",
    "    '''Compute a cut with fewest number of crossing edges: a min cut.'''\n",
    "    min_cut_len = float(\"inf\")\n",
    "    n = max(G.keys())\n",
    "    if N == 0:\n",
    "        N = math.ceil(n**2*(math.log(n)))\n",
    "\n",
    "    m = len(edges)\n",
    "    for k in range(N):\n",
    "        G_temp = deepcopy(G)\n",
    "        random.shuffle(edges)\n",
    "        #for i in range(m):\n",
    "         #   j =  randrange(i,m) #generate 1 to m-1\n",
    "          #  edges[i], edges[j] = edges[j] , edges[i]\n",
    "        min_cut_temp, min_cut_len_temp = karger_min_cut(G_temp,edges)\n",
    "        if min_cut_len_temp < min_cut_len:\n",
    "            counter = 0\n",
    "            min_cut_len = min_cut_len_temp\n",
    "            min_cut = min_cut_temp\n",
    "        if k % 100 == 0 and k != 0:\n",
    "            counter +=1\n",
    "            print(min_cut,min_cut_len)\n",
    "            if counter == 10:\n",
    "                return min_cut,min_cut_len\n",
    "    return min_cut,min_cut_len"
   ]
  },
  {
   "cell_type": "code",
   "execution_count": 23,
   "metadata": {},
   "outputs": [
    {
     "name": "stdout",
     "output_type": "stream",
     "text": [
      "--- 0.009731054306030273 seconds ---\n"
     ]
    }
   ],
   "source": [
    "start_time = time.time()\n",
    "G, edges = read_input('week4_test1.txt')\n",
    "m = len(edges)\n",
    "for i in range(m):\n",
    "    j =  randrange(i,m) #generate 1 to m-1\n",
    "    edges[i], edges[j] = edges[j] , edges[i]\n",
    "print(\"--- %s seconds ---\" % (time.time() - start_time))\n",
    "#print(edges)"
   ]
  },
  {
   "cell_type": "code",
   "execution_count": 24,
   "metadata": {},
   "outputs": [
    {
     "name": "stdout",
     "output_type": "stream",
     "text": [
      "--- 0.0020079612731933594 seconds ---\n",
      "[(1, 4), (4, 5), (2, 4), (5, 8), (5, 4), (3, 1), (8, 7), (2, 3), (6, 5), (7, 1), (1, 7), (4, 1), (3, 2), (4, 3), (1, 2), (7, 6), (4, 2), (1, 3), (6, 8), (8, 6), (2, 1), (7, 5), (3, 4), (6, 7), (5, 6), (8, 5), (7, 8), (5, 7)]\n"
     ]
    }
   ],
   "source": [
    "start_time = time.time()\n",
    "G, edges = read_input('week4_test1.txt')\n",
    "random.shuffle(edges)\n",
    "print(\"--- %s seconds ---\" % (time.time() - start_time))\n",
    "print(edges)"
   ]
  },
  {
   "cell_type": "code",
   "execution_count": 25,
   "metadata": {},
   "outputs": [
    {
     "data": {
      "text/plain": [
       "[(1, 2), (1, 3), (1, 4), (1, 7)]"
      ]
     },
     "execution_count": 25,
     "metadata": {},
     "output_type": "execute_result"
    }
   ],
   "source": [
    "G[1]"
   ]
  },
  {
   "cell_type": "code",
   "execution_count": 26,
   "metadata": {},
   "outputs": [
    {
     "name": "stdout",
     "output_type": "stream",
     "text": [
      "[(1, 2), (1, 3), (1, 4), (1, 7)]\n",
      "[(2, 1), (2, 3), (2, 4)]\n",
      "[(1, 2), (1, 3), (1, 4), (1, 7), (2, 1), (2, 3), (2, 4)]\n"
     ]
    }
   ],
   "source": [
    "lis = []\n",
    "print(G[1])\n",
    "print(G[2])\n",
    "G[1] = [(i,j) for (i,j) in (*G[1],*G[2])]\n",
    "print(G[1])"
   ]
  },
  {
   "cell_type": "code",
   "execution_count": 27,
   "metadata": {},
   "outputs": [
    {
     "name": "stdout",
     "output_type": "stream",
     "text": [
      "[(1, 7), (4, 5)] 2\n",
      "([(1, 7), (4, 5)], 2)\n",
      "--- 0.04281306266784668 seconds ---\n"
     ]
    }
   ],
   "source": [
    "start_time = time.time()\n",
    "G, edges = read_input('week4_test1.txt') \n",
    "print(monte_carlo_karger(G,edges)) #2\n",
    "print(\"--- %s seconds ---\" % (time.time() - start_time))"
   ]
  },
  {
   "cell_type": "code",
   "execution_count": 28,
   "metadata": {},
   "outputs": [
    {
     "name": "stdout",
     "output_type": "stream",
     "text": [
      "[(1, 7), (4, 5)] 2\n",
      "([(1, 7), (4, 5)], 2)\n",
      "--- 0.06282973289489746 seconds ---\n"
     ]
    }
   ],
   "source": [
    "start_time = time.time()\n",
    "G, edges = read_input('week4_test2.txt')\n",
    "print(monte_carlo_karger(G,edges)) #2\n",
    "print(\"--- %s seconds ---\" % (time.time() - start_time))"
   ]
  },
  {
   "cell_type": "code",
   "execution_count": 29,
   "metadata": {},
   "outputs": [
    {
     "name": "stdout",
     "output_type": "stream",
     "text": [
      "[(4, 5)] 1\n",
      "([(4, 5)], 1)\n",
      "--- 0.04439592361450195 seconds ---\n"
     ]
    }
   ],
   "source": [
    "start_time = time.time()\n",
    "G, edges = read_input('week4_test3.txt')\n",
    "print(monte_carlo_karger(G,edges)) #1\n",
    "print(\"--- %s seconds ---\" % (time.time() - start_time))"
   ]
  },
  {
   "cell_type": "code",
   "execution_count": 30,
   "metadata": {},
   "outputs": [
    {
     "name": "stdout",
     "output_type": "stream",
     "text": [
      "[(4, 5)] 1\n",
      "([(4, 5)], 1)\n",
      "--- 0.06719017028808594 seconds ---\n"
     ]
    }
   ],
   "source": [
    "start_time = time.time()\n",
    "G, edges = read_input('week4_test4.txt')\n",
    "print(monte_carlo_karger(G,edges)) #1\n",
    "print(\"--- %s seconds ---\" % (time.time() - start_time))"
   ]
  },
  {
   "cell_type": "code",
   "execution_count": 31,
   "metadata": {},
   "outputs": [
    {
     "name": "stdout",
     "output_type": "stream",
     "text": [
      "[(17, 9), (30, 37), (11, 26)] 3\n",
      "[(17, 9), (30, 37), (11, 26)] 3\n",
      "[(17, 9), (30, 37), (11, 26)] 3\n",
      "[(17, 9), (30, 37), (11, 26)] 3\n",
      "[(17, 9), (30, 37), (11, 26)] 3\n",
      "[(17, 9), (30, 37), (11, 26)] 3\n",
      "[(17, 9), (30, 37), (11, 26)] 3\n",
      "[(17, 9), (30, 37), (11, 26)] 3\n",
      "[(17, 9), (30, 37), (11, 26)] 3\n",
      "[(17, 9), (30, 37), (11, 26)] 3\n",
      "([(17, 9), (30, 37), (11, 26)], 3)\n",
      "--- 1.624953031539917 seconds ---\n"
     ]
    }
   ],
   "source": [
    "start_time = time.time()\n",
    "G, edges = read_input('week4_test5.txt')\n",
    "print(monte_carlo_karger(G,edges)) #3\n",
    "print(\"--- %s seconds ---\" % (time.time() - start_time))"
   ]
  },
  {
   "cell_type": "code",
   "execution_count": 32,
   "metadata": {},
   "outputs": [
    {
     "name": "stdout",
     "output_type": "stream",
     "text": [
      "[(1, 5), (4, 8)] 2\n",
      "([(1, 5), (4, 8)], 2)\n",
      "--- 0.07304501533508301 seconds ---\n"
     ]
    }
   ],
   "source": [
    "start_time = time.time()\n",
    "G, edges = read_input('week4_test6.txt')\n",
    "print(monte_carlo_karger(G,edges)) #2\n",
    "print(\"--- %s seconds ---\" % (time.time() - start_time))"
   ]
  },
  {
   "cell_type": "code",
   "execution_count": 34,
   "metadata": {},
   "outputs": [
    {
     "name": "stdout",
     "output_type": "stream",
     "text": [
      "[(24, 53), (109, 86), (134, 80), (161, 149), (116, 164), (41, 108), (163, 79), (36, 122), (141, 178), (169, 27), (188, 58), (184, 171), (186, 37), (48, 193), (10, 185), (165, 91), (123, 156)] 17\n",
      "[(24, 53), (109, 86), (134, 80), (161, 149), (116, 164), (41, 108), (163, 79), (36, 122), (141, 178), (169, 27), (188, 58), (184, 171), (186, 37), (48, 193), (10, 185), (165, 91), (123, 156)] 17\n",
      "[(24, 53), (109, 86), (134, 80), (161, 149), (116, 164), (41, 108), (163, 79), (36, 122), (141, 178), (169, 27), (188, 58), (184, 171), (186, 37), (48, 193), (10, 185), (165, 91), (123, 156)] 17\n",
      "[(24, 53), (109, 86), (134, 80), (161, 149), (116, 164), (41, 108), (163, 79), (36, 122), (141, 178), (169, 27), (188, 58), (184, 171), (186, 37), (48, 193), (10, 185), (165, 91), (123, 156)] 17\n",
      "[(24, 53), (109, 86), (134, 80), (161, 149), (116, 164), (41, 108), (163, 79), (36, 122), (141, 178), (169, 27), (188, 58), (184, 171), (186, 37), (48, 193), (10, 185), (165, 91), (123, 156)] 17\n",
      "[(24, 53), (109, 86), (134, 80), (161, 149), (116, 164), (41, 108), (163, 79), (36, 122), (141, 178), (169, 27), (188, 58), (184, 171), (186, 37), (48, 193), (10, 185), (165, 91), (123, 156)] 17\n",
      "[(24, 53), (109, 86), (134, 80), (161, 149), (116, 164), (41, 108), (163, 79), (36, 122), (141, 178), (169, 27), (188, 58), (184, 171), (186, 37), (48, 193), (10, 185), (165, 91), (123, 156)] 17\n",
      "[(24, 53), (109, 86), (134, 80), (161, 149), (116, 164), (41, 108), (163, 79), (36, 122), (141, 178), (169, 27), (188, 58), (184, 171), (186, 37), (48, 193), (10, 185), (165, 91), (123, 156)] 17\n",
      "[(24, 53), (109, 86), (134, 80), (161, 149), (116, 164), (41, 108), (163, 79), (36, 122), (141, 178), (169, 27), (188, 58), (184, 171), (186, 37), (48, 193), (10, 185), (165, 91), (123, 156)] 17\n",
      "[(24, 53), (109, 86), (134, 80), (161, 149), (116, 164), (41, 108), (163, 79), (36, 122), (141, 178), (169, 27), (188, 58), (184, 171), (186, 37), (48, 193), (10, 185), (165, 91), (123, 156)] 17\n",
      "([(24, 53), (109, 86), (134, 80), (161, 149), (116, 164), (41, 108), (163, 79), (36, 122), (141, 178), (169, 27), (188, 58), (184, 171), (186, 37), (48, 193), (10, 185), (165, 91), (123, 156)], 17)\n",
      "--- 38.905174016952515 seconds ---\n"
     ]
    }
   ],
   "source": [
    "start_time = time.time()\n",
    "G, edges = read_input('week4.txt')\n",
    "print(monte_carlo_karger(G,edges)) #17\n",
    "print(\"--- %s seconds ---\" % (time.time() - start_time))"
   ]
  }
 ],
 "metadata": {
  "kernelspec": {
   "display_name": "Python 3",
   "language": "python",
   "name": "python3"
  },
  "language_info": {
   "codemirror_mode": {
    "name": "ipython",
    "version": 3
   },
   "file_extension": ".py",
   "mimetype": "text/x-python",
   "name": "python",
   "nbconvert_exporter": "python",
   "pygments_lexer": "ipython3",
   "version": "3.6.3"
  }
 },
 "nbformat": 4,
 "nbformat_minor": 2
}
