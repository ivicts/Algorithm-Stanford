{
 "cells": [
  {
   "cell_type": "code",
   "execution_count": 94,
   "metadata": {
    "collapsed": true
   },
   "outputs": [],
   "source": [
    "import time\n",
    "import math"
   ]
  },
  {
   "cell_type": "markdown",
   "metadata": {},
   "source": [
    "In this programming assignment you will implement one or more of the integer multiplication algorithms described in lecture.\n",
    "\n",
    "To get the most out of this assignment, your program should restrict itself to multiplying only pairs of single-digit numbers. You can implement the grade-school algorithm if you want, but to get the most out of the assignment you'll want to implement recursive integer multiplication and/or Karatsuba's algorithm.\n",
    "\n",
    "So: what's the product of the following two 64-digit numbers?\n",
    "\n",
    "3141592653589793238462643383279502884197169399375105820974944592\n",
    "\n",
    "2718281828459045235360287471352662497757247093699959574966967627\n",
    "\n",
    "[TIP: before submitting, first test the correctness of your program on some small test cases of your own devising. Then post your best test cases to the discussion forums to help your fellow students!]\n",
    "\n",
    "[Food for thought: the number of digits in each input number is a power of 2. Does this make your life easier? Does it depend on which algorithm you're implementing?]\n",
    "\n",
    "The numeric answer should be typed in the space below. So if your answer is 1198233847, then just type 1198233847 in the space provided without any space / commas / any other punctuation marks.\n",
    "\n",
    "(We do not require you to submit your code, so feel free to use any programming language you want --- just type the final numeric answer in the following space.)\n",
    "\n"
   ]
  },
  {
   "cell_type": "code",
   "execution_count": 152,
   "metadata": {
    "collapsed": true
   },
   "outputs": [],
   "source": [
    "def KaratsubaMultiplication(num1,num2):\n",
    "   \n",
    "    numstr1 = str(num1)\n",
    "    numstr2 = str(num2)\n",
    "    n1 = len(numstr1)\n",
    "    n2 = len(numstr2)\n",
    "    n = max(n1,n2)\n",
    "    nover2 = math.ceil(n/2)\n",
    "    \n",
    "    #Base case\n",
    "    if n==1:\n",
    "        return (num1*num2)\n",
    "    \n",
    "    #Check if ' ' = 0\n",
    "    if numstr1[:-nover2] !='':\n",
    "        a = int(numstr1[:-nover2])\n",
    "    else:\n",
    "        a = 0\n",
    "    \n",
    "    if numstr1[-nover2:] !='':\n",
    "        b = int(numstr1[-nover2:])\n",
    "    else:\n",
    "        b = 0\n",
    "        \n",
    "    if numstr2[:-nover2] !='':    \n",
    "        c = int(numstr2[:-nover2])\n",
    "    else: \n",
    "        c = 0\n",
    "        \n",
    "    if numstr2[-nover2:] !='':    \n",
    "        d = int(numstr2[-nover2:])\n",
    "    else: \n",
    "        d = 0\n",
    "\n",
    "    \n",
    "    #Recursively compute ac \n",
    "    if a== 0 or c == 0:\n",
    "        ac = 0\n",
    "    else:\n",
    "        ac = KaratsubaMultiplication(a,c)\n",
    "\n",
    "    #Recursively compute bd\n",
    "    if b == 0 or d == 0:\n",
    "        bd = 0\n",
    "    else:\n",
    "        bd = KaratsubaMultiplication(b,d)\n",
    "    \n",
    "   \n",
    "    #Recursively compute (a+b)(c+d) = ac+bd+ad+bc to get (ad+bc) \n",
    "    #Gauss’ Trick : (3) – (1) – (2) = ad + bc \n",
    "    adplusbc = KaratsubaMultiplication(a + b, c + d) - ac - bd\n",
    "   \n",
    "    # x.y = 10^n*(ac) + 10^n/2*(ad+bc) + bd\n",
    "    product = 10**(nover2*2)*ac + 10**(nover2)*adplusbc + bd\n",
    "\n",
    "    return product"
   ]
  },
  {
   "cell_type": "code",
   "execution_count": 163,
   "metadata": {},
   "outputs": [
    {
     "name": "stdout",
     "output_type": "stream",
     "text": [
      "8369910\n",
      "--- 0.000598907470703125 seconds ---\n"
     ]
    }
   ],
   "source": [
    "start_time = time.time()\n",
    "print(KaratsubaMultiplication(12345,678))\n",
    "print(\"--- %s seconds ---\" % (time.time() - start_time))"
   ]
  },
  {
   "cell_type": "code",
   "execution_count": 164,
   "metadata": {},
   "outputs": [
    {
     "name": "stdout",
     "output_type": "stream",
     "text": [
      "8369910\n",
      "--- 0.0007166862487792969 seconds ---\n"
     ]
    }
   ],
   "source": [
    "start_time = time.time()\n",
    "print(12345*678)\n",
    "print(\"--- %s seconds ---\" % (time.time() - start_time))"
   ]
  },
  {
   "cell_type": "code",
   "execution_count": 166,
   "metadata": {},
   "outputs": [
    {
     "name": "stdout",
     "output_type": "stream",
     "text": [
      "11023\n",
      "--- 0.0007278919219970703 seconds ---\n"
     ]
    }
   ],
   "source": [
    "start_time = time.time()\n",
    "print(KaratsubaMultiplication(151,73))\n",
    "print(\"--- %s seconds ---\" % (time.time() - start_time))"
   ]
  },
  {
   "cell_type": "code",
   "execution_count": 161,
   "metadata": {},
   "outputs": [
    {
     "name": "stdout",
     "output_type": "stream",
     "text": [
      "8539734222673567065463550869546574495034888535765114961879601127067743044893204848617875072216249073013374895871952806582723184\n",
      "--- 0.0066721439361572266 seconds ---\n"
     ]
    }
   ],
   "source": [
    "start_time = time.time()\n",
    "print(KaratsubaMultiplication(3141592653589793238462643383279502884197169399375105820974944592,2718281828459045235360287471352662497757247093699959574966967627))\n",
    "print(\"--- %s seconds ---\" % (time.time() - start_time))"
   ]
  },
  {
   "cell_type": "code",
   "execution_count": 162,
   "metadata": {},
   "outputs": [
    {
     "name": "stdout",
     "output_type": "stream",
     "text": [
      "8539734222673567065463550869546574495034888535765114961879601127067743044893204848617875072216249073013374895871952806582723184\n",
      "--- 0.000492095947265625 seconds ---\n"
     ]
    }
   ],
   "source": [
    "start_time = time.time()\n",
    "print(3141592653589793238462643383279502884197169399375105820974944592*2718281828459045235360287471352662497757247093699959574966967627)\n",
    "print(\"--- %s seconds ---\" % (time.time() - start_time))"
   ]
  }
 ],
 "metadata": {
  "kernelspec": {
   "display_name": "Python 3",
   "language": "python",
   "name": "python3"
  },
  "language_info": {
   "codemirror_mode": {
    "name": "ipython",
    "version": 3
   },
   "file_extension": ".py",
   "mimetype": "text/x-python",
   "name": "python",
   "nbconvert_exporter": "python",
   "pygments_lexer": "ipython3",
   "version": "3.6.3"
  }
 },
 "nbformat": 4,
 "nbformat_minor": 2
}
