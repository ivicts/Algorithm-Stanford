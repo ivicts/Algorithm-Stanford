{
 "cells": [
  {
   "cell_type": "code",
   "execution_count": 10,
   "metadata": {
    "collapsed": true
   },
   "outputs": [],
   "source": [
    "import time\n",
    "from heapdict import heapdict"
   ]
  },
  {
   "cell_type": "markdown",
   "metadata": {},
   "source": [
    "In this programming problem you'll code up Dijkstra's shortest-path algorithm.\n",
    "\n",
    "The file contains an adjacency list representation of an undirected weighted graph with 200 vertices labeled 1 to 200. Each row consists of the node tuples that are adjacent to that particular vertex along with the length of that edge. For example, the 6th row has 6 as the first entry indicating that this row corresponds to the vertex labeled 6. The next entry of this row \"141,8200\" indicates that there is an edge between vertex 6 and vertex 141 that has length 8200. The rest of the pairs of this row indicate the other vertices adjacent to vertex 6 and the lengths of the corresponding edges.\n",
    "\n",
    "Your task is to run Dijkstra's shortest-path algorithm on this graph, using 1 (the first vertex) as the source vertex, and to compute the shortest-path distances between 1 and every other vertex of the graph. If there is no path between a vertex v and vertex 1, we'll define the shortest-path distance between 1 and v to be 1000000.\n",
    "\n",
    "You should report the shortest-path distances to the following ten vertices, in order: 7,37,59,82,99,115,133,165,188,197. You should encode the distances as a comma-separated string of integers. So if you find that all ten of these vertices except 115 are at distance 1000 away from vertex 1 and 115 is 2000 distance away, then your answer should be 1000,1000,1000,1000,1000,2000,1000,1000,1000,1000. Remember the order of reporting DOES MATTER, and the string should be in the same order in which the above ten vertices are given. The string should not contain any spaces. Please type your answer in the space provided.\n",
    "\n",
    "IMPLEMENTATION NOTES: This graph is small enough that the straightforward O(mn) time implementation of Dijkstra's algorithm should work fine. OPTIONAL: For those of you seeking an additional challenge, try implementing the heap-based version. Note this requires a heap that supports deletions, and you'll probably need to maintain some kind of mapping between vertices and their positions in the heap"
   ]
  },
  {
   "cell_type": "code",
   "execution_count": 14,
   "metadata": {
    "collapsed": true
   },
   "outputs": [],
   "source": [
    "def read_input_slow(filename):\n",
    "    with open('week6_file/'+filename) as f: \n",
    "        edges = []\n",
    "        for line in f:\n",
    "            line = line.split() # to deal with blank \n",
    "            if line:            # lines (ie skip them)\n",
    "                v = int(line[0])\n",
    "                for paired in line[1:]:\n",
    "                    w,weight = paired.split(',')\n",
    "                    w = int(w)\n",
    "                    weight = int(weight)\n",
    "                    edges.append([v,w,weight])\n",
    "                    \n",
    "            n = v\n",
    "    return edges,n"
   ]
  },
  {
   "cell_type": "code",
   "execution_count": 15,
   "metadata": {
    "collapsed": true
   },
   "outputs": [],
   "source": [
    "def dijkstra_algorithm_slow(filename):\n",
    "    edges,n = read_input_slow(filename)\n",
    "    A = [1000000]*(n+1)  #n size of Graph G\n",
    "    B = [[]]*(n+1)\n",
    "    X_ = [0]*(n+1)\n",
    "    X = [1]\n",
    "    A[1] = 0\n",
    "    \n",
    "    while len(X) != n:\n",
    "        min_dist = 1000000\n",
    "        for v,w,weight_vw in edges:\n",
    "            if v in X and w not in X:\n",
    "                if min_dist > A[v] + weight_vw:\n",
    "                    min_dist = A[v] + weight_vw\n",
    "                    w_star = w\n",
    "                    v_star = v\n",
    "                    weight_star = weight_vw\n",
    "        X.append(w_star)\n",
    "        A[w_star] = A[v_star] + weight_star\n",
    "        B[w_star] = [*B[v_star]] + [w_star]\n",
    "        \n",
    "    return A,B"
   ]
  },
  {
   "cell_type": "code",
   "execution_count": 16,
   "metadata": {
    "collapsed": true
   },
   "outputs": [],
   "source": [
    "def read_input(filename):\n",
    "    with open('week6_file/'+filename) as f:\n",
    "        G = {}\n",
    "        for line in f:\n",
    "            line = line.split() # to deal with blank \n",
    "            if line:            # lines (ie skip them)\n",
    "                v = int(line[0])\n",
    "                for paired in line[1:]:\n",
    "                    w,weight = paired.split(',')\n",
    "                    w = int(w)\n",
    "                    weight = int(weight)\n",
    "                    if G.get(v) == None:\n",
    "                        G[v] = [(v,w,weight)]\n",
    "                    else:\n",
    "                        G[v].append((v,w,weight))\n",
    "                    \n",
    "    return G"
   ]
  },
  {
   "cell_type": "code",
   "execution_count": 17,
   "metadata": {
    "collapsed": true
   },
   "outputs": [],
   "source": [
    "def dijkstra_algorithm(filename):\n",
    "    G = read_input(filename)\n",
    "    n = len(G.keys())\n",
    "    A = [1000000]*(n+1)  #n size of Graph G\n",
    "    B = [[]]*(n+1)\n",
    "    X_ = [0]*(n+1)\n",
    "    X = [1]\n",
    "    A[1] = 0\n",
    "    \n",
    "    while len(X) != n:\n",
    "        min_dist = 1000000\n",
    "        for vertices in X: #Faster than loop through edges\n",
    "            for (v,w,weight_vw) in G[vertices]:\n",
    "                if w not in X:\n",
    "                    if min_dist > A[v] + weight_vw:\n",
    "                        min_dist = A[v] + weight_vw\n",
    "                        w_star = w\n",
    "                        v_star = v\n",
    "                        weight_star = weight_vw\n",
    "        X.append(w_star)\n",
    "        A[w_star] = A[v_star] + weight_star\n",
    "        B[w_star] = [*B[v_star]] + [w_star]\n",
    "        \n",
    "    return A,B"
   ]
  },
  {
   "cell_type": "code",
   "execution_count": 18,
   "metadata": {
    "collapsed": true
   },
   "outputs": [],
   "source": [
    "def dijkstra_algorithm_heap(filename):\n",
    "    G = read_input(filename)\n",
    "    n = len(G.keys())\n",
    "    X = []\n",
    "    A = [1000000]*(n+1)  #n size of Graph G\n",
    "    A[1] = 0\n",
    "    hd = heapdict()\n",
    "    hd[1] = 0\n",
    "    for i in list(G.keys())[1:]:\n",
    "        hd[i] = 1000000\n",
    "\n",
    "    while any(hd):\n",
    "        w,distance = hd.popitem()\n",
    "        X.append(w)\n",
    "        A[w] = distance\n",
    "        for (w,v,weight_wv) in G[w]: \n",
    "            if hd.get(v) != None:\n",
    "                hd[v] = min(hd[v],A[w]+weight_wv)\n",
    "        \n",
    "    return A"
   ]
  },
  {
   "cell_type": "code",
   "execution_count": 19,
   "metadata": {},
   "outputs": [
    {
     "name": "stdout",
     "output_type": "stream",
     "text": [
      "--- 0.004079103469848633 seconds ---\n",
      "--- 0.0008368492126464844 seconds ---\n",
      "--- 0.0018088817596435547 seconds ---\n",
      "[1000000, 0, 1, 2, 3, 4, 4, 3, 2] [[], [], [2], [2, 3], [2, 3, 4], [2, 3, 4, 5], [8, 7, 6], [8, 7], [8]]\n"
     ]
    }
   ],
   "source": [
    "start_time = time.time()\n",
    "A,B = dijkstra_algorithm_slow('week6_test1.txt') \n",
    "print(\"--- %s seconds ---\" % (time.time() - start_time))\n",
    "start_time = time.time()\n",
    "A,B = dijkstra_algorithm('week6_test1.txt') \n",
    "print(\"--- %s seconds ---\" % (time.time() - start_time))\n",
    "start_time = time.time()\n",
    "A = dijkstra_algorithm_heap('week6_test1.txt') \n",
    "print(\"--- %s seconds ---\" % (time.time() - start_time))\n",
    "print(A,B)"
   ]
  },
  {
   "cell_type": "code",
   "execution_count": 23,
   "metadata": {},
   "outputs": [
    {
     "name": "stdout",
     "output_type": "stream",
     "text": [
      "--- 0.0009808540344238281 seconds ---\n",
      "--- 0.0014100074768066406 seconds ---\n",
      "--- 0.0010662078857421875 seconds ---\n",
      "[1000000, 0, 3, 5, 8, 5, 7, 11, 4, 6, 10, 10] [[], [], [2], [2, 3], [2, 3, 4], [5], [2, 3, 6], [2, 3, 7], [8], [8, 9], [2, 3, 6, 10], [2, 3, 4, 11]]\n"
     ]
    }
   ],
   "source": [
    "start_time = time.time()\n",
    "A,B = dijkstra_algorithm_slow('week6_test2.txt') \n",
    "print(\"--- %s seconds ---\" % (time.time() - start_time))\n",
    "start_time = time.time()\n",
    "A,B = dijkstra_algorithm('week6_test2.txt') \n",
    "print(\"--- %s seconds ---\" % (time.time() - start_time))\n",
    "start_time = time.time()\n",
    "A = dijkstra_algorithm_heap('week6_test2.txt') \n",
    "print(\"--- %s seconds ---\" % (time.time() - start_time))\n",
    "print(A,B)"
   ]
  },
  {
   "cell_type": "code",
   "execution_count": 21,
   "metadata": {},
   "outputs": [
    {
     "name": "stdout",
     "output_type": "stream",
     "text": [
      "--- 1.4893732070922852 seconds ---\n",
      "--- 0.6011641025543213 seconds ---\n",
      "--- 0.1737370491027832 seconds ---\n",
      "2599 2610 2947 2052 2367 2399 2029 2442 2505 3068\n"
     ]
    }
   ],
   "source": [
    "start_time = time.time()\n",
    "A,B = dijkstra_algorithm_slow('week6.txt') \n",
    "print(\"--- %s seconds ---\" % (time.time() - start_time))\n",
    "start_time = time.time()\n",
    "A,B = dijkstra_algorithm('week6.txt') \n",
    "print(\"--- %s seconds ---\" % (time.time() - start_time))\n",
    "start_time = time.time()\n",
    "A = dijkstra_algorithm_heap('week6.txt') \n",
    "print(\"--- %s seconds ---\" % (time.time() - start_time))\n",
    "print(A[7],A[37],A[59],A[82],A[99],A[115],A[133],A[165],A[188],A[197]) #2599 2610 2947 2052 2367 2399 2029 2442 2505 3068"
   ]
  },
  {
   "cell_type": "code",
   "execution_count": null,
   "metadata": {
    "collapsed": true
   },
   "outputs": [],
   "source": []
  }
 ],
 "metadata": {
  "kernelspec": {
   "display_name": "Python 3",
   "language": "python",
   "name": "python3"
  },
  "language_info": {
   "codemirror_mode": {
    "name": "ipython",
    "version": 3
   },
   "file_extension": ".py",
   "mimetype": "text/x-python",
   "name": "python",
   "nbconvert_exporter": "python",
   "pygments_lexer": "ipython3",
   "version": "3.6.3"
  }
 },
 "nbformat": 4,
 "nbformat_minor": 2
}
