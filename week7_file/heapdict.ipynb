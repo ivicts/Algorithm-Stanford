{
 "cells": [
  {
   "cell_type": "code",
   "execution_count": 54,
   "metadata": {
    "collapsed": true
   },
   "outputs": [],
   "source": [
    "import collections\n",
    "def doc(s):\n",
    "    if hasattr(s, '__call__'):\n",
    "        s = s.__doc__\n",
    "    def f(g):\n",
    "        g.__doc__ = s\n",
    "        return g\n",
    "    return f\n",
    "\n",
    "class heapdict(collections.MutableMapping):\n",
    "    __marker = object()\n",
    "\n",
    "    @staticmethod\n",
    "    def _parent(i):\n",
    "        return ((i - 1) >> 1) (i-1)//2\n",
    "\n",
    "    @staticmethod\n",
    "    def _left(i):\n",
    "        return ((i << 1) + 1) i*2+1\n",
    "\n",
    "    @staticmethod\n",
    "    def _right(i):\n",
    "        return ((i+1) << 1)  2*(i+1)\n",
    "    \n",
    "    def __init__(self, *args, **kw):\n",
    "        self.heap = []\n",
    "        self.d = {}\n",
    "        self.update(*args, **kw)\n",
    "\n",
    "    @doc(dict.clear)\n",
    "    def clear(self):\n",
    "        del self.heap[:]\n",
    "        self.d.clear()\n",
    "\n",
    "    @doc(dict.__setitem__)\n",
    "    def __setitem__(self, key, value):\n",
    "        if key in self.d:\n",
    "            self.pop(key)\n",
    "        wrapper = [value, key, len(self)]\n",
    "        self.d[key] = wrapper\n",
    "        self.heap.append(wrapper)\n",
    "        self._decrease_key(len(self.heap)-1)\n",
    "\n",
    "    def _min_heapify(self, i):\n",
    "        l = self._left(i)\n",
    "        r = self._right(i)\n",
    "        n = len(self.heap)\n",
    "        if l < n and self.heap[l][0] < self.heap[i][0]:\n",
    "            low = l\n",
    "        else:\n",
    "            low = i\n",
    "        if r < n and self.heap[r][0] < self.heap[low][0]:\n",
    "            low = r\n",
    "\n",
    "        if low != i:\n",
    "            self._swap(i, low)\n",
    "            self._min_heapify(low)\n",
    "\n",
    "    def _decrease_key(self, i):\n",
    "        while i:\n",
    "            parent = self._parent(i)\n",
    "            if self.heap[parent][0] < self.heap[i][0]: break\n",
    "            self._swap(i, parent)\n",
    "            i = parent\n",
    "\n",
    "    def _swap(self, i, j):\n",
    "        self.heap[i], self.heap[j] = self.heap[j], self.heap[i]\n",
    "        self.heap[i][2] = i\n",
    "        self.heap[j][2] = j\n",
    "\n",
    "    @doc(dict.__delitem__)\n",
    "    def __delitem__(self, key):\n",
    "        wrapper = self.d[key]\n",
    "        while wrapper[2]:\n",
    "            parentpos = self._parent(wrapper[2])\n",
    "            parent = self.heap[parentpos]\n",
    "            self._swap(wrapper[2], parent[2])\n",
    "        self.popitem()\n",
    "\n",
    "    @doc(dict.__getitem__)\n",
    "    def __getitem__(self, key):\n",
    "        return self.d[key][0]\n",
    "\n",
    "    @doc(dict.__iter__)\n",
    "    def __iter__(self):\n",
    "        return iter(self.d)\n",
    "\n",
    "    def popitem(self):\n",
    "        \"\"\"D.popitem() -> (k, v), remove and return the (key, value) pair with lowest\\nvalue; but raise KeyError if D is empty.\"\"\"\n",
    "        wrapper = self.heap[0]\n",
    "        if len(self.heap) == 1:\n",
    "            self.heap.pop()\n",
    "        else:\n",
    "            self.heap[0] = self.heap.pop(-1)\n",
    "            self.heap[0][2] = 0\n",
    "            self._min_heapify(0)\n",
    "        del self.d[wrapper[1]]\n",
    "        return wrapper[1], wrapper[0]    \n",
    "\n",
    "    @doc(dict.__len__)\n",
    "    def __len__(self):\n",
    "        return len(self.d)\n",
    "\n",
    "    def peekitem(self):\n",
    "        \"\"\"D.peekitem() -> (k, v), return the (key, value) pair with lowest value;\\n but raise KeyError if D is empty.\"\"\"\n",
    "        return (self.heap[0][1], self.heap[0][0])\n",
    "\n",
    "del doc\n",
    "__all__ = ['heapdict']"
   ]
  },
  {
   "cell_type": "code",
   "execution_count": 55,
   "metadata": {},
   "outputs": [],
   "source": [
    "hd = heapdict({2:3,3:4,5:6})"
   ]
  },
  {
   "cell_type": "code",
   "execution_count": 56,
   "metadata": {},
   "outputs": [],
   "source": [
    "hd[1] = 2 "
   ]
  },
  {
   "cell_type": "code",
   "execution_count": 57,
   "metadata": {},
   "outputs": [
    {
     "data": {
      "text/plain": [
       "(1, 2)"
      ]
     },
     "execution_count": 57,
     "metadata": {},
     "output_type": "execute_result"
    }
   ],
   "source": [
    "hd[2] = 3\n",
    "hd.popitem()"
   ]
  },
  {
   "cell_type": "code",
   "execution_count": 58,
   "metadata": {},
   "outputs": [
    {
     "name": "stdout",
     "output_type": "stream",
     "text": [
      "3 4\n",
      "5 6\n",
      "2 3\n"
     ]
    }
   ],
   "source": [
    "for k,v in hd.items():\n",
    "    print(k,v)"
   ]
  },
  {
   "cell_type": "code",
   "execution_count": 16,
   "metadata": {
    "collapsed": true
   },
   "outputs": [],
   "source": [
    "from heapdict import heapdict"
   ]
  },
  {
   "cell_type": "code",
   "execution_count": 18,
   "metadata": {},
   "outputs": [],
   "source": [
    "hd = heapdict()"
   ]
  },
  {
   "cell_type": "code",
   "execution_count": 19,
   "metadata": {
    "collapsed": true
   },
   "outputs": [],
   "source": [
    "hd[1] = 2"
   ]
  },
  {
   "cell_type": "code",
   "execution_count": null,
   "metadata": {
    "collapsed": true
   },
   "outputs": [],
   "source": []
  }
 ],
 "metadata": {
  "kernelspec": {
   "display_name": "Python 3",
   "language": "python",
   "name": "python3"
  },
  "language_info": {
   "codemirror_mode": {
    "name": "ipython",
    "version": 3
   },
   "file_extension": ".py",
   "mimetype": "text/x-python",
   "name": "python",
   "nbconvert_exporter": "python",
   "pygments_lexer": "ipython3",
   "version": "3.6.3"
  }
 },
 "nbformat": 4,
 "nbformat_minor": 2
}
